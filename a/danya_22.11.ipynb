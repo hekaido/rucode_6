{
 "cells": [
  {
   "cell_type": "code",
   "execution_count": 22,
   "metadata": {
    "execution": {
     "iopub.execute_input": "2022-11-22T10:20:00.504226Z",
     "iopub.status.busy": "2022-11-22T10:20:00.503970Z",
     "iopub.status.idle": "2022-11-22T10:20:00.509472Z",
     "shell.execute_reply": "2022-11-22T10:20:00.508711Z",
     "shell.execute_reply.started": "2022-11-22T10:20:00.504207Z"
    },
    "id": "lyTAfsc6PwYV",
    "tags": []
   },
   "outputs": [],
   "source": [
    "import sys\n",
    "import os\n",
    "import gc\n",
    "import warnings\n",
    "import random\n",
    "from copy import deepcopy\n",
    "import random\n",
    "import math\n",
    "\n",
    "import pandas as pd\n",
    "import numpy as np\n",
    "import seaborn as sns\n",
    "import matplotlib.pyplot as plt\n",
    "import ttach as tta\n",
    "\n",
    "import torch\n",
    "import torchvision\n",
    "from torch import nn\n",
    "import torch.nn.functional as F\n",
    "from torch.nn import Parameter\n",
    "from torch.utils.data import Dataset, DataLoader\n",
    "from madgrad import MADGRAD, MirrorMADGRAD\n",
    "from torch.optim import AdamW\n",
    "from transformers import (\n",
    "    get_constant_schedule,\n",
    "    get_constant_schedule_with_warmup,\n",
    "    get_cosine_schedule_with_warmup,\n",
    "    get_cosine_with_hard_restarts_schedule_with_warmup,\n",
    "    get_linear_schedule_with_warmup,\n",
    "    get_polynomial_decay_schedule_with_warmup\n",
    ")\n",
    "import albumentations\n",
    "from torchmetrics import F1Score\n",
    "from PIL import Image\n",
    "from sklearn.model_selection import StratifiedKFold, KFold\n",
    "from sklearn.utils.class_weight import compute_class_weight\n",
    "    \n",
    "from tqdm.auto import tqdm\n",
    "\n",
    "warnings.filterwarnings(\"ignore\")\n",
    "tqdm.pandas()"
   ]
  },
  {
   "cell_type": "code",
   "execution_count": 23,
   "metadata": {
    "execution": {
     "iopub.execute_input": "2022-11-22T10:20:00.725135Z",
     "iopub.status.busy": "2022-11-22T10:20:00.724879Z",
     "iopub.status.idle": "2022-11-22T10:20:00.728990Z",
     "shell.execute_reply": "2022-11-22T10:20:00.728590Z",
     "shell.execute_reply.started": "2022-11-22T10:20:00.725115Z"
    },
    "tags": []
   },
   "outputs": [
    {
     "data": {
      "text/plain": [
       "'cuda'"
      ]
     },
     "execution_count": 163,
     "metadata": {},
     "output_type": "execute_result"
    }
   ],
   "source": [
    "device = 'cuda' if torch.cuda.is_available() else 'cpu'\n",
    "device"
   ]
  },
  {
   "cell_type": "markdown",
   "metadata": {
    "id": "Avpm7R4pykVC"
   },
   "source": [
    "# EDA"
   ]
  },
  {
   "cell_type": "code",
   "execution_count": 60,
   "metadata": {
    "execution": {
     "iopub.execute_input": "2022-11-22T10:25:07.557807Z",
     "iopub.status.busy": "2022-11-22T10:25:07.557465Z",
     "iopub.status.idle": "2022-11-22T10:25:07.569046Z",
     "shell.execute_reply": "2022-11-22T10:25:07.568394Z",
     "shell.execute_reply.started": "2022-11-22T10:25:07.557780Z"
    },
    "id": "Db9Othg-yj3p",
    "tags": []
   },
   "outputs": [
    {
     "name": "stdout",
     "output_type": "stream",
     "text": [
      "Num of pics:  11490\n"
     ]
    }
   ],
   "source": [
    "PATH_TRAIN =  \"data_ext/train/\"\n",
    "PATH_TEST = \"data_ext/public_test/\"\n",
    "classes = ['Red', 'Green', 'Violet', 'White', 'Yellow', 'Brown', 'Black', 'Blue', 'Cyan', 'Grey', 'Orange']\n",
    "counts = []\n",
    "for class_name in classes:\n",
    "    counts.append(len(os.listdir(f\"data_ext/train/{class_name}\")))\n",
    "print('Num of pics: ', sum(counts))"
   ]
  },
  {
   "cell_type": "code",
   "execution_count": 61,
   "metadata": {
    "execution": {
     "iopub.execute_input": "2022-11-22T10:25:08.709910Z",
     "iopub.status.busy": "2022-11-22T10:25:08.709634Z",
     "iopub.status.idle": "2022-11-22T10:25:08.848436Z",
     "shell.execute_reply": "2022-11-22T10:25:08.848017Z",
     "shell.execute_reply.started": "2022-11-22T10:25:08.709886Z"
    },
    "id": "NKYJqqDcCeeM",
    "scrolled": true,
    "tags": []
   },
   "outputs": [
    {
     "data": {
      "text/plain": [
       "<BarContainer object of 11 artists>"
      ]
     },
     "execution_count": 165,
     "metadata": {},
     "output_type": "execute_result"
    },
    {
     "data": {
      "image/png": "[encoded data removed]",
      "text/plain": [
       "<Figure size 640x480 with 1 Axes>"
      ]
     },
     "metadata": {},
     "output_type": "display_data"
    }
   ],
   "source": [
    "plt.bar(classes, counts)"
   ]
  },
  {
   "cell_type": "markdown",
   "metadata": {
    "id": "BdUV3bfmymd6"
   },
   "source": [
    "# Dataset"
   ]
  },
  {
   "cell_type": "code",
   "execution_count": 62,
   "metadata": {
    "execution": {
     "iopub.execute_input": "2022-11-22T10:25:09.043470Z",
     "iopub.status.busy": "2022-11-22T10:25:09.043257Z",
     "iopub.status.idle": "2022-11-22T10:25:09.046336Z",
     "shell.execute_reply": "2022-11-22T10:25:09.045827Z",
     "shell.execute_reply.started": "2022-11-22T10:25:09.043450Z"
    },
    "id": "VoILmz40uQXX",
    "tags": []
   },
   "outputs": [],
   "source": [
    "transf = torchvision.transforms.Compose([\n",
    "    torchvision.transforms.ToTensor(),\n",
    "    torchvision.transforms.Resize(size=(256,256))])"
   ]
  },
  {
   "cell_type": "code",
   "execution_count": 63,
   "metadata": {
    "execution": {
     "iopub.execute_input": "2022-11-22T10:25:09.735743Z",
     "iopub.status.busy": "2022-11-22T10:25:09.735464Z",
     "iopub.status.idle": "2022-11-22T10:25:09.784332Z",
     "shell.execute_reply": "2022-11-22T10:25:09.783734Z",
     "shell.execute_reply.started": "2022-11-22T10:25:09.735718Z"
    },
    "id": "phU8SYNivC1W",
    "tags": []
   },
   "outputs": [
    {
     "data": {
      "text/plain": [
       "['Black',\n",
       " 'Blue',\n",
       " 'Brown',\n",
       " 'Cyan',\n",
       " 'Green',\n",
       " 'Grey',\n",
       " 'Orange',\n",
       " 'Red',\n",
       " 'Violet',\n",
       " 'White',\n",
       " 'Yellow']"
      ]
     },
     "execution_count": 167,
     "metadata": {},
     "output_type": "execute_result"
    }
   ],
   "source": [
    "train_dataset = torchvision.datasets.ImageFolder('data_ext/train', transform=transf)\n",
    "train_dataset.classes"
   ]
  },
  {
   "cell_type": "code",
   "execution_count": 64,
   "metadata": {
    "execution": {
     "iopub.execute_input": "2022-11-22T10:25:10.379722Z",
     "iopub.status.busy": "2022-11-22T10:25:10.379022Z",
     "iopub.status.idle": "2022-11-22T10:25:10.383350Z",
     "shell.execute_reply": "2022-11-22T10:25:10.382614Z",
     "shell.execute_reply.started": "2022-11-22T10:25:10.379693Z"
    },
    "tags": []
   },
   "outputs": [],
   "source": [
    "def show(img):\n",
    "    npimg = img.numpy()\n",
    "    plt.imshow(np.transpose(npimg, (1, 2, 0)))"
   ]
  },
  {
   "cell_type": "code",
   "execution_count": 65,
   "metadata": {
    "execution": {
     "iopub.execute_input": "2022-11-22T10:25:10.832297Z",
     "iopub.status.busy": "2022-11-22T10:25:10.831865Z",
     "iopub.status.idle": "2022-11-22T10:25:10.976373Z",
     "shell.execute_reply": "2022-11-22T10:25:10.975951Z",
     "shell.execute_reply.started": "2022-11-22T10:25:10.832279Z"
    },
    "tags": []
   },
   "outputs": [
    {
     "data": {
      "text/plain": [
       "<matplotlib.image.AxesImage at 0x7ff2c7e60be0>"
      ]
     },
     "execution_count": 169,
     "metadata": {},
     "output_type": "execute_result"
    },
    {
     "data": {
      "image/png": "[encoded data removed]",
      "text/plain": [
       "<Figure size 640x480 with 1 Axes>"
      ]
     },
     "metadata": {},
     "output_type": "display_data"
    }
   ],
   "source": [
    "plt.imshow(train_dataset[795][0].permute(1, 2, 0))"
   ]
  },
  {
   "cell_type": "markdown",
   "metadata": {
    "id": "9b-l0SNG0kl6",
    "tags": []
   },
   "source": [
    "# Losses"
   ]
  },
  {
   "cell_type": "code",
   "execution_count": 66,
   "metadata": {
    "execution": {
     "iopub.execute_input": "2022-11-22T10:25:11.467486Z",
     "iopub.status.busy": "2022-11-22T10:25:11.467042Z",
     "iopub.status.idle": "2022-11-22T10:25:11.470815Z",
     "shell.execute_reply": "2022-11-22T10:25:11.470441Z",
     "shell.execute_reply.started": "2022-11-22T10:25:11.467467Z"
    },
    "id": "MrSjnBd20mSk",
    "tags": []
   },
   "outputs": [],
   "source": [
    "class FocalLoss(nn.Module):\n",
    "    def __init__(self, weight, gamma=0, eps=1e-7):\n",
    "        super(FocalLoss, self).__init__()\n",
    "        self.gamma = gamma\n",
    "        self.eps = eps\n",
    "        self.ce = torch.nn.CrossEntropyLoss(weight=weight)\n",
    "\n",
    "    def forward(self, input, target):\n",
    "        logp = self.ce(input, target)\n",
    "        p = torch.exp(-logp)\n",
    "        loss = (1 - p) ** self.gamma * logp\n",
    "        return loss.mean()"
   ]
  },
  {
   "cell_type": "markdown",
   "metadata": {
    "id": "0B3NCJxD1PeS",
    "tags": []
   },
   "source": [
    "# Model class"
   ]
  },
  {
   "cell_type": "code",
   "execution_count": 67,
   "metadata": {
    "execution": {
     "iopub.execute_input": "2022-11-22T10:25:12.118661Z",
     "iopub.status.busy": "2022-11-22T10:25:12.118224Z",
     "iopub.status.idle": "2022-11-22T10:25:12.122112Z",
     "shell.execute_reply": "2022-11-22T10:25:12.121732Z",
     "shell.execute_reply.started": "2022-11-22T10:25:12.118642Z"
    },
    "id": "jOkK463m1Qbk",
    "tags": []
   },
   "outputs": [],
   "source": [
    "class ResNet(nn.Module):\n",
    "    def __init__(self, backbone, output_dim):\n",
    "        super().__init__()\n",
    "        self.backbone = backbone\n",
    "        del backbone.fc\n",
    "        self.backbone.dropout = nn.Dropout(p=0.1)\n",
    "        self.backbone.fc = torch.nn.Linear(in_features=2048, out_features=output_dim, bias=True)\n",
    "        \n",
    "    def forward(self, image):\n",
    "        out = self.backbone(image)\n",
    "        return out"
   ]
  },
  {
   "cell_type": "code",
   "execution_count": 110,
   "metadata": {
    "execution": {
     "iopub.execute_input": "2022-11-22T10:37:10.588793Z",
     "iopub.status.busy": "2022-11-22T10:37:10.588463Z",
     "iopub.status.idle": "2022-11-22T10:37:10.592582Z",
     "shell.execute_reply": "2022-11-22T10:37:10.592213Z",
     "shell.execute_reply.started": "2022-11-22T10:37:10.588778Z"
    },
    "id": "Vzj_NbkF2wWx",
    "tags": []
   },
   "outputs": [],
   "source": [
    "class EfficentNet(nn.Module):\n",
    "    def __init__(self, backbone, output_dim, num_of_efficenet):\n",
    "        super().__init__()\n",
    "        self.backbone = backbone\n",
    "        self.features = {0: 1280, 1: 1280, 2: 1408, 3: 1536} \n",
    "        self.backbone.classifier[0] = nn.Dropout(p=0.17, inplace=True)\n",
    "        self.backbone.classifier[1] = torch.nn.Linear(in_features=self.features[num_of_efficenet],\n",
    "                                                      out_features=output_dim, bias=True)\n",
    "    def forward(self, image):\n",
    "        out = self.backbone(image)\n",
    "        return out"
   ]
  },
  {
   "cell_type": "markdown",
   "metadata": {
    "id": "G7DhepxS1dO_",
    "tags": []
   },
   "source": [
    "# Loops"
   ]
  },
  {
   "cell_type": "code",
   "execution_count": 113,
   "metadata": {
    "execution": {
     "iopub.execute_input": "2022-11-22T10:37:12.008353Z",
     "iopub.status.busy": "2022-11-22T10:37:12.008124Z",
     "iopub.status.idle": "2022-11-22T10:37:12.016504Z",
     "shell.execute_reply": "2022-11-22T10:37:12.015938Z",
     "shell.execute_reply.started": "2022-11-22T10:37:12.008339Z"
    },
    "id": "016aad72",
    "tags": []
   },
   "outputs": [],
   "source": [
    "def train_epoch(model, data_loader, loss_function, optimizer, scheduler, device):\n",
    "    model.to(device)\n",
    "    model.train()\n",
    "    total_train_loss = 0\n",
    "    \n",
    "    f1 = F1Score(num_classes=11, average='macro').to(device)\n",
    "\n",
    "    dl_size = len(data_loader)\n",
    "    \n",
    "    preds = []\n",
    "    targets = []\n",
    "\n",
    "    batch_i = 0\n",
    "\n",
    "    for batch in tqdm(data_loader):\n",
    "        image, target = batch\n",
    "        image = image.to(device)\n",
    "        target = target.to(device)\n",
    "        \n",
    "        optimizer.zero_grad()        \n",
    "        logits = model(image)\n",
    "        \n",
    "        preds.append(logits.argmax(dim=1))\n",
    "        targets.append(target)\n",
    "                \n",
    "        loss = loss_function(logits, target)\n",
    "        total_train_loss += loss.item()\n",
    "\n",
    "        loss.backward()\n",
    "        torch.nn.utils.clip_grad_norm_(model.parameters(), 1.0)\n",
    "        optimizer.step()\n",
    "        scheduler.step()\n",
    "        \n",
    "    preds = torch.cat(preds, dim=0)\n",
    "    targets = torch.cat(targets, dim=0)\n",
    "    acc = (targets == preds).sum() / preds.shape[0]\n",
    "    f1_score = f1(preds, targets)\n",
    "    \n",
    "    metrics = {\n",
    "        \"Train Loss\": total_train_loss / dl_size,\n",
    "        \"Train Accuracy\": acc.item(),\n",
    "        \"Train F1\": f1_score.item()\n",
    "    }\n",
    "    \n",
    "    \n",
    "    return metrics\n",
    "    \n",
    "    \n",
    "def eval_epoch(model, data_loader, loss_function, device):\n",
    "    model.to(device)\n",
    "    model.eval()\n",
    "    total_train_loss = 0\n",
    "    \n",
    "    f1 = F1Score(num_classes=11, average='macro').to(device)\n",
    "    \n",
    "    preds = []\n",
    "    targets = []\n",
    "\n",
    "    dl_size = len(data_loader)\n",
    "\n",
    "    \n",
    "    for batch in tqdm(data_loader):\n",
    "        image, target = batch\n",
    "        image = image.to(device)\n",
    "        target = target.to(device)\n",
    "        \n",
    "        with torch.no_grad():\n",
    "            logits = model(image)\n",
    "            preds.append(logits.argmax(dim=1))\n",
    "            targets.append(target)\n",
    "        \n",
    "        loss = loss_function(logits, target)\n",
    "        total_train_loss += loss.item()\n",
    "    \n",
    "    preds = torch.cat(preds, dim=0)\n",
    "    targets = torch.cat(targets, dim=0)\n",
    "    acc = (targets == preds).sum() / preds.shape[0]\n",
    "    f1_score = f1(preds, targets)\n",
    "    \n",
    "    metrics = {\n",
    "        \"Eval Loss\": total_train_loss / dl_size,\n",
    "        \"Eval Accuracy\": acc.item(),\n",
    "        \"Eval F1\": f1_score.item()\n",
    "    }\n",
    "    \n",
    "    return metrics"
   ]
  },
  {
   "cell_type": "code",
   "execution_count": 114,
   "metadata": {
    "execution": {
     "iopub.execute_input": "2022-11-22T10:37:12.017602Z",
     "iopub.status.busy": "2022-11-22T10:37:12.017340Z",
     "iopub.status.idle": "2022-11-22T10:37:12.027052Z",
     "shell.execute_reply": "2022-11-22T10:37:12.026661Z",
     "shell.execute_reply.started": "2022-11-22T10:37:12.017587Z"
    },
    "id": "602cd4af",
    "tags": []
   },
   "outputs": [],
   "source": [
    "def cross_validation(project_name,\n",
    "                     model, \n",
    "                     dataset, \n",
    "                     loss_function, \n",
    "                     strat_array=None,\n",
    "                     device=torch.device(\"cuda\"),\n",
    "                     random_state: int=69, \n",
    "                     shuffle: bool=True, \n",
    "                     n_folds: int=4, \n",
    "                     epochs: int=5, \n",
    "                     lr: float=1e-6,\n",
    "                     start_fold: int=0, \n",
    "                     batch_size: int=32,\n",
    "                     iters_to_accumulate=None):\n",
    "    random.seed(random_state),\n",
    "    np.random.seed(random_state)\n",
    "    torch.manual_seed(random_state)\n",
    "    torch.cuda.manual_seed_all(random_state)\n",
    "    \n",
    "    loss_function.to(device)\n",
    "    if strat_array:\n",
    "        kfold = StratifiedKFold(n_folds, shuffle=shuffle, random_state=random_state)\n",
    "        split = kfold.split(dataset, strat_array)\n",
    "    else: \n",
    "        kfold = KFold(n_folds, shuffle=shuffle, random_state=random_state)\n",
    "        split = kfold.split(dataset)\n",
    "\n",
    "    for fold, (train_ids, eval_ids) in enumerate(split):\n",
    "        if fold >= start_fold:\n",
    "            print(f'FOLD {fold}')\n",
    "            print('--------------------------------')\n",
    "            \n",
    "            for p in model.parameters():\n",
    "                if p.dim() > 1:\n",
    "                    nn.init.xavier_uniform_(p)\n",
    "                else:\n",
    "                    nn.init.normal_(p)\n",
    "                    \n",
    "            optimizer = MADGRAD(model.parameters(), lr = lr)\n",
    "            #scheduler = torch.optim.lr_scheduler.StepLR(optimizer, step_size=10, gamma=0.7)\n",
    "            \n",
    "            train_subsampler = torch.utils.data.Subset(dataset,  train_ids)\n",
    "            train_loader = torch.utils.data.DataLoader(\n",
    "                          train_subsampler, \n",
    "                          batch_size=batch_size,\n",
    "                          shuffle=shuffle)\n",
    "\n",
    "            eval_subsampler = torch.utils.data.Subset(dataset,  eval_ids)\n",
    "            eval_loader = torch.utils.data.DataLoader(\n",
    "                          eval_subsampler,\n",
    "                          batch_size=batch_size,\n",
    "                          shuffle=shuffle)\n",
    "            \n",
    "            total_steps = len(train_loader) * epochs \n",
    "            scheduler = get_linear_schedule_with_warmup(optimizer, \n",
    "                                    num_warmup_steps = 0, # Default value in run_glue.py\n",
    "                                    num_training_steps = total_steps)\n",
    "            mrrs = []\n",
    "\n",
    "            for epoch_i in range(0, epochs):\n",
    "                train_metrics = train_epoch(model, train_loader, loss_function, optimizer, scheduler, device)\n",
    "                eval_metrics = eval_epoch(model, eval_loader, loss_function, device)\n",
    "                \n",
    "                print(f\"EPOCH: {epoch_i + 1}\")\n",
    "                print(f\"LR: {scheduler.get_last_lr()}\")\n",
    "                print(train_metrics)\n",
    "                print(eval_metrics)\n",
    "\n",
    "\n",
    "def single_model(model, \n",
    "                     dataset, \n",
    "                     loss_function, \n",
    "                     device=torch.device(\"cuda\"),\n",
    "                     random_state: int=69, \n",
    "                     shuffle=True,\n",
    "                     epochs: int=15, \n",
    "                     lr: float=1e-6,\n",
    "                     batch_size: int=32,\n",
    "                     start_epoch=0\n",
    "                     ):\n",
    "    random.seed(random_state),\n",
    "    np.random.seed(random_state)\n",
    "    torch.manual_seed(random_state)\n",
    "    torch.cuda.manual_seed_all(random_state)\n",
    "    \n",
    "    loss_function.to(device)\n",
    "    model.to(device)\n",
    "\n",
    "    optimizer = MADGRAD(model.parameters(), lr = lr)\n",
    "\n",
    "    data_loader = torch.utils.data.DataLoader(dataset,\n",
    "                                              batch_size=batch_size,\n",
    "                                              shuffle=shuffle\n",
    "                                            )\n",
    "    total_steps = len(data_loader) * epochs \n",
    "    scheduler = get_linear_schedule_with_warmup(optimizer, \n",
    "                            num_warmup_steps = 0, \n",
    "                            num_training_steps = total_steps)\n",
    "    #scheduler = torch.optim.lr_scheduler.StepLR(optimizer, step_size=7, gamma=0.6)\n",
    "\n",
    "    for epoch_i in range(0, epochs):\n",
    "        if epoch_i >= start_epoch:\n",
    "            train_metrics = train_epoch(model, data_loader, loss_function, optimizer, scheduler, device)\n",
    "            print(\"EPOCH: \", epoch_i + 1)\n",
    "            print(f\"LR: {scheduler.get_last_lr()}\")\n",
    "            print(train_metrics)"
   ]
  },
  {
   "cell_type": "markdown",
   "metadata": {
    "id": "pOY06p6r2Ur9",
    "tags": []
   },
   "source": [
    "# Model, weights, loss"
   ]
  },
  {
   "cell_type": "code",
   "execution_count": 115,
   "metadata": {
    "execution": {
     "iopub.execute_input": "2022-11-22T10:37:12.574984Z",
     "iopub.status.busy": "2022-11-22T10:37:12.574587Z",
     "iopub.status.idle": "2022-11-22T10:37:12.584359Z",
     "shell.execute_reply": "2022-11-22T10:37:12.583892Z",
     "shell.execute_reply.started": "2022-11-22T10:37:12.574966Z"
    },
    "id": "vIrR0kAxuQXf",
    "tags": []
   },
   "outputs": [],
   "source": [
    "strat_array = []\n",
    "target_class = 0\n",
    "for folder in os.listdir(PATH_TRAIN):\n",
    "    for _ in range(len(os.listdir('data_ext/train' + f'/{folder}'))):\n",
    "        strat_array.append(target_class)\n",
    "    target_class += 1"
   ]
  },
  {
   "cell_type": "code",
   "execution_count": 116,
   "metadata": {
    "execution": {
     "iopub.execute_input": "2022-11-22T10:37:12.740995Z",
     "iopub.status.busy": "2022-11-22T10:37:12.740473Z",
     "iopub.status.idle": "2022-11-22T10:37:12.747006Z",
     "shell.execute_reply": "2022-11-22T10:37:12.746520Z",
     "shell.execute_reply.started": "2022-11-22T10:37:12.740974Z"
    },
    "tags": []
   },
   "outputs": [],
   "source": [
    "n = len(strat_array)\n",
    "weights = []\n",
    "classes = np.arange(11)\n",
    "correct_weights = compute_class_weight(class_weight = 'balanced',\n",
    "                                       classes = classes,\n",
    "                                       y = np.array(strat_array))"
   ]
  },
  {
   "cell_type": "code",
   "execution_count": 127,
   "metadata": {
    "execution": {
     "iopub.execute_input": "2022-11-22T10:38:44.449986Z",
     "iopub.status.busy": "2022-11-22T10:38:44.449477Z",
     "iopub.status.idle": "2022-11-22T10:38:44.579789Z",
     "shell.execute_reply": "2022-11-22T10:38:44.579256Z",
     "shell.execute_reply.started": "2022-11-22T10:38:44.449970Z"
    },
    "id": "PWP62tfa3Zet",
    "tags": []
   },
   "outputs": [],
   "source": [
    "model_back_ef1 = torchvision.models.efficientnet_b1(weights='IMAGENET1K_V1')\n",
    "model_ef1 = EfficentNet(model_back_ef1, 11, num_of_efficenet=1)"
   ]
  },
  {
   "cell_type": "code",
   "execution_count": 128,
   "metadata": {
    "execution": {
     "iopub.execute_input": "2022-11-22T10:38:44.716394Z",
     "iopub.status.busy": "2022-11-22T10:38:44.716169Z",
     "iopub.status.idle": "2022-11-22T10:38:44.719178Z",
     "shell.execute_reply": "2022-11-22T10:38:44.718756Z",
     "shell.execute_reply.started": "2022-11-22T10:38:44.716379Z"
    },
    "id": "UUrccIrYuQXh",
    "tags": []
   },
   "outputs": [],
   "source": [
    "loss_function = FocalLoss(weight=torch.tensor(correct_weights).float())"
   ]
  },
  {
   "cell_type": "markdown",
   "metadata": {
    "tags": []
   },
   "source": [
    "# CV and train"
   ]
  },
  {
   "cell_type": "code",
   "execution_count": null,
   "metadata": {
    "id": "5z7MLDul2V7J",
    "scrolled": true,
    "tags": []
   },
   "outputs": [],
   "source": [
    "cross_validation(project_name=\"car_classification\",\n",
    "                     model=model_ef2, \n",
    "                     dataset=train_dataset,\n",
    "                     strat_array=strat_array,\n",
    "                     loss_function=loss_function, \n",
    "                     device=torch.device(\"cuda\"),\n",
    "                     random_state=44, \n",
    "                     n_folds=3, \n",
    "                     epochs=35, \n",
    "                     lr=1.1e-5,\n",
    "                     start_fold=0, \n",
    "                     batch_size=16)"
   ]
  },
  {
   "cell_type": "code",
   "execution_count": null,
   "metadata": {
    "id": "oUy451jluQXh",
    "tags": []
   },
   "outputs": [],
   "source": [
    "for p in model_ef_3.parameters():\n",
    "    if p.dim() > 1:\n",
    "        nn.init.xavier_uniform_(p)\n",
    "    else:\n",
    "        nn.init.normal_(p)"
   ]
  },
  {
   "cell_type": "code",
   "execution_count": 132,
   "metadata": {
    "execution": {
     "iopub.execute_input": "2022-11-22T10:38:47.422215Z",
     "iopub.status.busy": "2022-11-22T10:38:47.421824Z",
     "iopub.status.idle": "2022-11-22T10:38:47.467364Z",
     "shell.execute_reply": "2022-11-22T10:38:47.466741Z",
     "shell.execute_reply.started": "2022-11-22T10:38:47.422197Z"
    },
    "tags": []
   },
   "outputs": [],
   "source": [
    "torch.cuda.empty_cache()\n",
    "gc.collect()"
   ]
  },
  {
   "cell_type": "code",
   "execution_count": null,
   "metadata": {
    "id": "fxvYHf9tuQXh",
    "tags": []
   },
   "outputs": [],
   "source": [
    "single_model(model_ef1, \n",
    "            train_dataset, \n",
    "            loss_function, \n",
    "            device = torch.device(\"cuda\"),\n",
    "            random_state = 44, \n",
    "            shuffle = True,\n",
    "            epochs = 1, \n",
    "            lr = 1e-6,\n",
    "            batch_size=16,\n",
    ")"
   ]
  },
  {
   "cell_type": "code",
   "execution_count": 190,
   "metadata": {
    "execution": {
     "iopub.execute_input": "2022-11-22T12:23:34.568068Z",
     "iopub.status.busy": "2022-11-22T12:23:34.567869Z",
     "iopub.status.idle": "2022-11-22T12:23:34.611343Z",
     "shell.execute_reply": "2022-11-22T12:23:34.610849Z",
     "shell.execute_reply.started": "2022-11-22T12:23:34.568054Z"
    },
    "tags": []
   },
   "outputs": [],
   "source": [
    "torch.save(model_ef1.state_dict(), 'ef1_rs44_40ep.pt')"
   ]
  },
  {
   "cell_type": "code",
   "execution_count": 191,
   "metadata": {
    "execution": {
     "iopub.execute_input": "2022-11-22T12:23:34.612151Z",
     "iopub.status.busy": "2022-11-22T12:23:34.612009Z",
     "iopub.status.idle": "2022-11-22T12:23:34.658880Z",
     "shell.execute_reply": "2022-11-22T12:23:34.658488Z",
     "shell.execute_reply.started": "2022-11-22T12:23:34.612137Z"
    },
    "tags": []
   },
   "outputs": [],
   "source": [
    "torch.cuda.empty_cache()"
   ]
  },
  {
   "cell_type": "markdown",
   "metadata": {
    "tags": []
   },
   "source": [
    "# Predicts and submit"
   ]
  },
  {
   "cell_type": "code",
   "execution_count": 193,
   "metadata": {
    "execution": {
     "iopub.execute_input": "2022-11-22T12:24:13.766885Z",
     "iopub.status.busy": "2022-11-22T12:24:13.766549Z",
     "iopub.status.idle": "2022-11-22T12:24:13.770658Z",
     "shell.execute_reply": "2022-11-22T12:24:13.770153Z",
     "shell.execute_reply.started": "2022-11-22T12:24:13.766871Z"
    },
    "id": "WxZr80ruuQXi",
    "tags": []
   },
   "outputs": [],
   "source": [
    "def predict(model, device, root=PATH_TEST, transform=transf):\n",
    "    model.eval()\n",
    "    model.to(device)\n",
    "    \n",
    "    preds = []\n",
    "    \n",
    "    img_files = sorted(os.listdir(root), key=lambda x: int(x.split(\".\")[0]))\n",
    "    for img_file in tqdm(img_files):\n",
    "        image_path= os.path.join(root, img_file)\n",
    "        image = Image.open(image_path)\n",
    "        image = transform(image)\n",
    "        with torch.no_grad():\n",
    "            pred = model(image.cuda().unsqueeze(dim=0)).argmax(dim=1).detach().cpu().item()\n",
    "            preds.append(pred)\n",
    "            \n",
    "    return pd.Series(preds)"
   ]
  },
  {
   "cell_type": "code",
   "execution_count": null,
   "metadata": {
    "id": "OgM5o-louQXi",
    "tags": []
   },
   "outputs": [],
   "source": [
    "preds = predict(model_ef1, device, root=\"data_ext/public_test/\", transform=transf)\n",
    "print(preds)\n",
    "preds = preds.apply(lambda x: train_dataset.classes[x])\n",
    "preds.to_csv(\"ef1_rs44_40ep.csv\", index=False)"
   ]
  },
  {
   "cell_type": "code",
   "execution_count": 197,
   "metadata": {
    "execution": {
     "iopub.execute_input": "2022-11-22T12:28:09.506065Z",
     "iopub.status.busy": "2022-11-22T12:28:09.505512Z",
     "iopub.status.idle": "2022-11-22T12:28:09.509511Z",
     "shell.execute_reply": "2022-11-22T12:28:09.509060Z",
     "shell.execute_reply.started": "2022-11-22T12:28:09.506040Z"
    },
    "tags": []
   },
   "outputs": [],
   "source": [
    "tta_transforms = torchvision.transforms.Compose([torchvision.transforms.Resize(size = (256, 256)),\n",
    "                                     torchvision.transforms.RandomHorizontalFlip(),\n",
    "                                     torchvision.transforms.RandomResizedCrop(230),\n",
    "                                     torchvision.transforms.ToTensor(),\n",
    "                                     ])"
   ]
  },
  {
   "cell_type": "code",
   "execution_count": 198,
   "metadata": {
    "execution": {
     "iopub.execute_input": "2022-11-22T12:28:09.893696Z",
     "iopub.status.busy": "2022-11-22T12:28:09.893256Z",
     "iopub.status.idle": "2022-11-22T12:28:09.899035Z",
     "shell.execute_reply": "2022-11-22T12:28:09.898638Z",
     "shell.execute_reply.started": "2022-11-22T12:28:09.893677Z"
    },
    "tags": []
   },
   "outputs": [],
   "source": [
    "def predict_tta(model, device, root=\"data_ext/public_test\", transform=transf, tta=1):\n",
    "    model.eval()\n",
    "    model.to(device)\n",
    "    \n",
    "    img_files = sorted(os.listdir(root), key=lambda x: int(x.split(\".\")[0]))\n",
    "    preds = [torch.zeros(11)] * len(img_files)\n",
    "\n",
    "    ans = []\n",
    "    for i in tqdm(range(tta)):\n",
    "        for i, img_file in enumerate(tqdm(img_files)):\n",
    "            image_path= os.path.join(root, img_file)\n",
    "            image = Image.open(image_path)\n",
    "            image = transform(image)\n",
    "            image = image.to(device)\n",
    "            with torch.no_grad():\n",
    "                temp = nn.functional.softmax((model(image.cuda().unsqueeze(dim=0)).detach().cpu()), dim = 1)\n",
    "                temp = model(image.unsqueeze(dim=0)).detach().cpu()\n",
    "                preds[i] = preds[i] + temp[0]\n",
    "\n",
    "    for i in range(len(img_files)):\n",
    "        ans.append(preds[i].argmax(dim=0).item())\n",
    "            \n",
    "    return pd.Series(ans)"
   ]
  },
  {
   "cell_type": "code",
   "execution_count": 199,
   "metadata": {
    "execution": {
     "iopub.execute_input": "2022-11-22T12:28:14.906506Z",
     "iopub.status.busy": "2022-11-22T12:28:14.905974Z",
     "iopub.status.idle": "2022-11-22T12:29:39.825010Z",
     "shell.execute_reply": "2022-11-22T12:29:39.824534Z",
     "shell.execute_reply.started": "2022-11-22T12:28:14.906483Z"
    },
    "tags": []
   },
   "outputs": [
    {
     "data": {
      "application/vnd.jupyter.widget-view+json": {
       "model_id": "fc8b0bdcf99644dbaf7e3847dc22a561",
       "version_major": 2,
       "version_minor": 0
      },
      "text/plain": [
       "  0%|          | 0/3 [00:00<?, ?it/s]"
      ]
     },
     "metadata": {},
     "output_type": "display_data"
    },
    {
     "data": {
      "application/vnd.jupyter.widget-view+json": {
       "model_id": "28fefab2c09d4d0ba5f17b79c7b321d7",
       "version_major": 2,
       "version_minor": 0
      },
      "text/plain": [
       "  0%|          | 0/1436 [00:00<?, ?it/s]"
      ]
     },
     "metadata": {},
     "output_type": "display_data"
    },
    {
     "data": {
      "application/vnd.jupyter.widget-view+json": {
       "model_id": "7a8feddb360f47b68625dcb0fd12405f",
       "version_major": 2,
       "version_minor": 0
      },
      "text/plain": [
       "  0%|          | 0/1436 [00:00<?, ?it/s]"
      ]
     },
     "metadata": {},
     "output_type": "display_data"
    },
    {
     "data": {
      "application/vnd.jupyter.widget-view+json": {
       "model_id": "8275b9d5a1ab48608068268d4d6664fb",
       "version_major": 2,
       "version_minor": 0
      },
      "text/plain": [
       "  0%|          | 0/1436 [00:00<?, ?it/s]"
      ]
     },
     "metadata": {},
     "output_type": "display_data"
    },
    {
     "name": "stdout",
     "output_type": "stream",
     "text": [
      "0        8\n",
      "1        9\n",
      "2       10\n",
      "3        5\n",
      "4        4\n",
      "        ..\n",
      "1431    10\n",
      "1432     0\n",
      "1433     3\n",
      "1434    10\n",
      "1435     8\n",
      "Length: 1436, dtype: int64\n"
     ]
    }
   ],
   "source": [
    "preds = predict_tta(model_ef1, device, root=\"data_ext/public_test/\", transform=tta_transforms, tta=3)\n",
    "print(preds)\n",
    "preds = preds.apply(lambda x: train_dataset.classes[x])\n",
    "preds.to_csv(\"tta_ef1.csv\", index=False)"
   ]
  },
  {
   "cell_type": "code",
   "execution_count": null,
   "metadata": {},
   "outputs": [],
   "source": []
  }
 ],
 "metadata": {
  "accelerator": "GPU",
  "colab": {
   "private_outputs": true,
   "provenance": []
  },
  "gpuClass": "standard",
  "kernelspec": {
   "display_name": "Python 3 (ipykernel)",
   "language": "python",
   "name": "python3"
  },
  "language_info": {
   "codemirror_mode": {
    "name": "ipython",
    "version": 3
   },
   "file_extension": ".py",
   "mimetype": "text/x-python",
   "name": "python",
   "nbconvert_exporter": "python",
   "pygments_lexer": "ipython3",
   "version": "3.10.6"
  }
 },
 "nbformat": 4,
 "nbformat_minor": 4
}
