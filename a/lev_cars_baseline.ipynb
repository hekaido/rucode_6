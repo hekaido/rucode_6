{
 "cells": [
  {
   "cell_type": "code",
   "execution_count": 82,
   "metadata": {
    "id": "lyTAfsc6PwYV"
   },
   "outputs": [],
   "source": [
    "import sys\n",
    "import os\n",
    "import gc\n",
    "import warnings\n",
    "import random\n",
    "from copy import deepcopy\n",
    "import random\n",
    "import math\n",
    "\n",
    "import pandas as pd\n",
    "import numpy as np\n",
    "import seaborn as sns\n",
    "import matplotlib.pyplot as plt\n",
    "\n",
    "import torch\n",
    "import torchvision\n",
    "from torch import nn\n",
    "import torch.nn.functional as F\n",
    "from torch.nn import Parameter\n",
    "from torch.utils.data import Dataset, DataLoader\n",
    "from madgrad import MADGRAD, MirrorMADGRAD\n",
    "from torch.optim import AdamW\n",
    "from transformers import (\n",
    "    get_constant_schedule,\n",
    "    get_constant_schedule_with_warmup,\n",
    "    get_cosine_schedule_with_warmup,\n",
    "    get_cosine_with_hard_restarts_schedule_with_warmup,\n",
    "    get_linear_schedule_with_warmup,\n",
    "    get_polynomial_decay_schedule_with_warmup\n",
    ")\n",
    "import cv2\n",
    "from torchmetrics import F1Score\n",
    "\n",
    "from sklearn.model_selection import StratifiedKFold, KFold\n",
    "    \n",
    "from tqdm.notebook import tqdm\n",
    "\n",
    "warnings.filterwarnings(\"ignore\")\n",
    "tqdm.pandas()"
   ]
  },
  {
   "cell_type": "code",
   "execution_count": 51,
   "metadata": {
    "id": "pSMMo28UPija"
   },
   "outputs": [],
   "source": [
    "PROJECT_DIR = \"/content/drive/MyDrive/ml/Контесты/rucode_6/a\""
   ]
  },
  {
   "cell_type": "markdown",
   "metadata": {
    "id": "Avpm7R4pykVC"
   },
   "source": [
    "# EDA"
   ]
  },
  {
   "cell_type": "code",
   "execution_count": 52,
   "metadata": {
    "id": "Db9Othg-yj3p"
   },
   "outputs": [],
   "source": [
    "classes = ['Red', 'Green', 'Violet', 'White', 'Yellow', 'Brown', 'Black', 'Blue', 'Cyan', 'Grey', 'Orange']\n",
    "counts = []\n",
    "for class_name in classes:\n",
    "    counts.append(len(os.listdir(f\"./data/train/{class_name}\")))"
   ]
  },
  {
   "cell_type": "code",
   "execution_count": 53,
   "metadata": {
    "id": "NKYJqqDcCeeM",
    "scrolled": true
   },
   "outputs": [
    {
     "data": {
      "text/plain": [
       "<BarContainer object of 11 artists>"
      ]
     },
     "execution_count": 53,
     "metadata": {},
     "output_type": "execute_result"
    },
    {
     "data": {
      "image/png": "[encoded data removed]",
      "text/plain": [
       "<Figure size 640x480 with 1 Axes>"
      ]
     },
     "metadata": {},
     "output_type": "display_data"
    }
   ],
   "source": [
    "plt.bar(classes, counts)"
   ]
  },
  {
   "cell_type": "markdown",
   "metadata": {
    "id": "BdUV3bfmymd6"
   },
   "source": [
    "# Dataset"
   ]
  },
  {
   "cell_type": "code",
   "execution_count": 126,
   "metadata": {},
   "outputs": [],
   "source": [
    "mean = [0.485, 0.456, 0.406]\n",
    "std = [0.229, 0.224, 0.225]\n",
    "\n",
    "transforms=torchvision.transforms.Compose([\n",
    "    torchvision.transforms.ToTensor(),\n",
    "    torchvision.transforms.Resize(size=(256,256)),\n",
    "    torchvision.transforms.Lambda(lambda a: a / 255),\n",
    "#     torchvision.transforms.Normalize(mean, std)\n",
    "])"
   ]
  },
  {
   "cell_type": "code",
   "execution_count": 65,
   "metadata": {
    "id": "phU8SYNivC1W"
   },
   "outputs": [],
   "source": [
    "train_dataset = torchvision.datasets.ImageFolder(f\"./data/train\", transform=transforms)"
   ]
  },
  {
   "cell_type": "code",
   "execution_count": 66,
   "metadata": {},
   "outputs": [
    {
     "data": {
      "text/plain": [
       "['Black',\n",
       " 'Blue',\n",
       " 'Brown',\n",
       " 'Cyan',\n",
       " 'Green',\n",
       " 'Grey',\n",
       " 'Orange',\n",
       " 'Red',\n",
       " 'Violet',\n",
       " 'White',\n",
       " 'Yellow']"
      ]
     },
     "execution_count": 66,
     "metadata": {},
     "output_type": "execute_result"
    }
   ],
   "source": [
    "train_dataset.classes"
   ]
  },
  {
   "cell_type": "markdown",
   "metadata": {
    "id": "9b-l0SNG0kl6"
   },
   "source": [
    "# Losses"
   ]
  },
  {
   "cell_type": "code",
   "execution_count": 67,
   "metadata": {
    "id": "MrSjnBd20mSk"
   },
   "outputs": [],
   "source": [
    "class FocalLoss(nn.Module):\n",
    "    def __init__(self, weight, gamma=0, eps=1e-7):\n",
    "        super(FocalLoss, self).__init__()\n",
    "        self.gamma = gamma\n",
    "        self.eps = eps\n",
    "        self.ce = torch.nn.CrossEntropyLoss(weight=weight)\n",
    "\n",
    "    def forward(self, input, target):\n",
    "        logp = self.ce(input, target)\n",
    "        p = torch.exp(-logp)\n",
    "        loss = (1 - p) ** self.gamma * logp\n",
    "        return loss.mean()\n",
    "\n",
    "\n",
    "class ArcFaceLoss(nn.Module):\n",
    "    def __init__(self, s=45.0, m=0.1, crit=\"bce\", weight=None, reduction=\"mean\",\n",
    "                 focal_loss_gamma=0, class_weights_norm=\"batch\"):\n",
    "        super().__init__()\n",
    "\n",
    "        self.weight = weight\n",
    "        self.reduction = reduction\n",
    "        self.class_weights_norm = class_weights_norm\n",
    "        \n",
    "        if crit == \"focal\":\n",
    "            self.crit = FocalLoss(gamma=focal_loss_gamma)\n",
    "        elif crit == \"bce\":\n",
    "            self.crit = nn.CrossEntropyLoss(reduction=\"none\")   \n",
    "\n",
    "        if s is None:\n",
    "            self.s = torch.nn.Parameter(torch.tensor([45.], requires_grad=True, device='cuda'))\n",
    "        else:\n",
    "            self.s = s\n",
    "\n",
    "        self.cos_m = math.cos(m)\n",
    "        self.sin_m = math.sin(m)\n",
    "        self.th = math.cos(math.pi - m)\n",
    "        self.mm = math.sin(math.pi - m) * m\n",
    "        \n",
    "    def forward(self, logits, labels):\n",
    "\n",
    "        logits = logits.float()\n",
    "        cosine = logits\n",
    "        sine = torch.sqrt(1.0 - torch.pow(cosine, 2))\n",
    "        phi = cosine * self.cos_m - sine * self.sin_m\n",
    "        phi = torch.where(cosine > self.th, phi, cosine - self.mm)\n",
    "        \n",
    "        labels2 = torch.zeros_like(cosine)\n",
    "        labels2.scatter_(1, labels.view(-1, 1).long(), 1)\n",
    "        labels2 *= (1 - 0.1)\n",
    "        labels2 += 0.005\n",
    "        output = (labels2 * phi) + ((1.0 - labels2) * cosine)\n",
    "\n",
    "        s = self.s\n",
    "\n",
    "        output = output * s\n",
    "        loss = self.crit(output, labels)\n",
    "\n",
    "        if self.weight is not None:\n",
    "            w = self.weight[labels].to(logits.device)\n",
    "\n",
    "            loss = loss * w\n",
    "            if self.class_weights_norm == \"batch\":\n",
    "                loss = loss.sum() / w.sum()\n",
    "            if self.class_weights_norm == \"global\":\n",
    "                loss = loss.mean()\n",
    "            else:\n",
    "                loss = loss.mean()\n",
    "            \n",
    "            return loss\n",
    "        if self.reduction == \"mean\":\n",
    "            loss = loss.mean()\n",
    "        elif self.reduction == \"sum\":\n",
    "            loss = loss.sum()\n",
    "        return loss"
   ]
  },
  {
   "cell_type": "markdown",
   "metadata": {
    "id": "girCXnzE0m48"
   },
   "source": [
    "# Modules"
   ]
  },
  {
   "cell_type": "code",
   "execution_count": 68,
   "metadata": {
    "id": "A_8SSmFU0nfO"
   },
   "outputs": [],
   "source": [
    "class ArcMarginProduct(nn.Module):\n",
    "    def __init__(self, in_features, out_features):\n",
    "        super().__init__()\n",
    "        self.weight = nn.Parameter(torch.Tensor(out_features, in_features))\n",
    "        self.reset_parameters()\n",
    "\n",
    "    def reset_parameters(self):\n",
    "        nn.init.xavier_uniform_(self.weight)\n",
    "\n",
    "    def forward(self, features):\n",
    "        cosine = F.linear(F.normalize(features), F.normalize(self.weight))\n",
    "        return cosine"
   ]
  },
  {
   "cell_type": "markdown",
   "metadata": {
    "id": "0B3NCJxD1PeS"
   },
   "source": [
    "# Model"
   ]
  },
  {
   "cell_type": "code",
   "execution_count": 69,
   "metadata": {
    "id": "jOkK463m1Qbk"
   },
   "outputs": [],
   "source": [
    "class ResNet(nn.Module):\n",
    "    def __init__(self, backbone, output_dim):\n",
    "        super().__init__()\n",
    "        self.backbone = backbone\n",
    "        del backbone.fc\n",
    "        self.backbone.dropout = nn.Dropout(p=0.1)\n",
    "        self.backbone.fc = torch.nn.Linear(in_features=2048, out_features=output_dim, bias=True)\n",
    "        \n",
    "    def forward(self, image):\n",
    "        out = self.backbone(image)\n",
    "#         out = self.out(x)\n",
    "        return out"
   ]
  },
  {
   "cell_type": "markdown",
   "metadata": {
    "id": "G7DhepxS1dO_"
   },
   "source": [
    "# Loops"
   ]
  },
  {
   "cell_type": "code",
   "execution_count": 98,
   "metadata": {
    "id": "016aad72"
   },
   "outputs": [],
   "source": [
    "def train_epoch(model, data_loader, loss_function, optimizer, scheduler, device):\n",
    "    model.to(device)\n",
    "    model.train()\n",
    "    total_train_loss = 0\n",
    "    \n",
    "    f1 = F1Score(num_classes=11, average='macro').to(device)\n",
    "\n",
    "    dl_size = len(data_loader)\n",
    "    \n",
    "    preds = []\n",
    "    targets = []\n",
    "\n",
    "    batch_i = 0\n",
    "\n",
    "    for batch in tqdm(data_loader):\n",
    "        image, target = batch\n",
    "        image = image.to(device)\n",
    "        target = target.to(device)\n",
    "        \n",
    "        optimizer.zero_grad()        \n",
    "        logits = model(image)\n",
    "        \n",
    "        preds.append(logits.argmax(dim=1))\n",
    "        targets.append(target)\n",
    "                \n",
    "        loss = loss_function(logits, target)\n",
    "        total_train_loss += loss.item()\n",
    "\n",
    "        loss.backward()\n",
    "        torch.nn.utils.clip_grad_norm_(model.parameters(), 1.0)\n",
    "        optimizer.step()\n",
    "        scheduler.step()\n",
    "    \n",
    "    preds = torch.cat(preds, dim=0)\n",
    "    targets = torch.cat(targets, dim=0)\n",
    "    acc = (targets == preds).sum() / preds.shape[0]\n",
    "    f1_score = f1(preds, targets)\n",
    "    \n",
    "    metrics = {\n",
    "        \"Train Loss\": total_train_loss / dl_size,\n",
    "        \"Train Accuracy\": acc.item(),\n",
    "        \"Train F1\": f1_score.item()\n",
    "    }\n",
    "    \n",
    "    \n",
    "    return metrics\n",
    "    \n",
    "    \n",
    "def eval_epoch(model, data_loader, loss_function, device):\n",
    "    model.to(device)\n",
    "    model.eval()\n",
    "    total_train_loss = 0\n",
    "    \n",
    "    f1 = F1Score(num_classes=11, average='macro').to(device)\n",
    "    \n",
    "    preds = []\n",
    "    targets = []\n",
    "\n",
    "    dl_size = len(data_loader)\n",
    "\n",
    "    \n",
    "    for batch in tqdm(data_loader):\n",
    "        image, target = batch\n",
    "        image = image.to(device)\n",
    "        target = target.to(device)\n",
    "        \n",
    "        with torch.no_grad():\n",
    "            logits = model(image)\n",
    "            preds.append(logits.argmax(dim=1))\n",
    "            targets.append(target)\n",
    "        \n",
    "        loss = loss_function(logits, target)\n",
    "        total_train_loss += loss.item()\n",
    "    \n",
    "    preds = torch.cat(preds, dim=0)\n",
    "    targets = torch.cat(targets, dim=0)\n",
    "    acc = (targets == preds).sum() / preds.shape[0]\n",
    "    f1_score = f1(preds, targets)\n",
    "    \n",
    "    metrics = {\n",
    "        \"Eval Loss\": total_train_loss / dl_size,\n",
    "        \"Eval Accuracy\": acc.item(),\n",
    "        \"Eval F1\": f1_score.item()\n",
    "    }\n",
    "    \n",
    "    return metrics"
   ]
  },
  {
   "cell_type": "code",
   "execution_count": 101,
   "metadata": {
    "id": "602cd4af"
   },
   "outputs": [],
   "source": [
    "def cross_validation(project_name,\n",
    "    model, \n",
    "                     dataset, \n",
    "                     loss_function, \n",
    "                     strat_array=None,\n",
    "                     device=torch.device(\"cuda\"),\n",
    "                     random_state: int=69, \n",
    "                     shuffle: bool=True, \n",
    "                     n_folds: int=4, \n",
    "                     epochs: int=5, \n",
    "                     lr: float=1e-6,\n",
    "                     start_fold: int=0, \n",
    "                     batch_size: int=32,\n",
    "                     iters_to_accumulate=None):\n",
    "    random.seed(random_state),\n",
    "    np.random.seed(random_state)\n",
    "    torch.manual_seed(random_state)\n",
    "    torch.cuda.manual_seed_all(random_state)\n",
    "    \n",
    "    loss_function.to(device)\n",
    "    if strat_array:\n",
    "        kfold = StratifiedKFold(n_folds, shuffle=shuffle, random_state=random_state)\n",
    "        split = kfold.split(dataset, strat_array)\n",
    "    else: \n",
    "        kfold = KFold(n_folds, shuffle=shuffle, random_state=random_state)\n",
    "        split = kfold.split(dataset)\n",
    "\n",
    "    for fold, (train_ids, eval_ids) in enumerate(split):\n",
    "        if fold >= start_fold:\n",
    "            print(f'FOLD {fold}')\n",
    "            print('--------------------------------')\n",
    "            \n",
    "            for p in model.parameters():\n",
    "                if p.dim() > 1:\n",
    "                    nn.init.xavier_uniform_(p)\n",
    "                else:\n",
    "                    nn.init.normal_(p)\n",
    "            \n",
    "            run = wandb.init(\n",
    "                name=f\"fold_{fold}\",\n",
    "                project=f\"{project_name}_fold_{fold}\",\n",
    "                config={ \n",
    "                         \"random_state\": random_state, \n",
    "                         \"shuffle\": shuffle,\n",
    "                         \"epochs\": epochs, \n",
    "                         \"learning_rate\": lr,\n",
    "                         \"batch_size\": batch_size,\n",
    "                         \"iters_to_accumulate\": iters_to_accumulate\n",
    "                        }\n",
    "            )\n",
    "\n",
    "\n",
    "            optimizer = torch.optim.AdamW(\n",
    "                model.parameters(),\n",
    "                lr = lr, # args.learning_rate - default is 5e-5, our notebook had 2e-5\n",
    "            )\n",
    "            \n",
    "            train_subsampler = torch.utils.data.Subset(dataset,  train_ids)\n",
    "            train_loader = torch.utils.data.DataLoader(\n",
    "                          train_subsampler, \n",
    "                          batch_size=batch_size,\n",
    "                          shuffle=shuffle)\n",
    "\n",
    "            eval_subsampler = torch.utils.data.Subset(dataset,  eval_ids)\n",
    "            eval_loader = torch.utils.data.DataLoader(\n",
    "                          eval_subsampler,\n",
    "                          batch_size=batch_size,\n",
    "                          shuffle=shuffle)\n",
    "            \n",
    "            total_steps = len(train_loader) * epochs \n",
    "\n",
    "            scheduler = get_cosine_schedule_with_warmup(optimizer, \n",
    "                                                    num_warmup_steps = 0, # Default value in run_glue.py\n",
    "                                                    num_training_steps = total_steps)\n",
    "\n",
    "            mrrs = []\n",
    "\n",
    "            for epoch_i in range(0, epochs):\n",
    "                train_metrics = train_epoch(model, train_loader, loss_function, optimizer, scheduler, device)\n",
    "                eval_metrics = eval_epoch(model, eval_loader, loss_function, device)\n",
    "                \n",
    "                print(f\"EPOCH: {epoch_i}\")\n",
    "                print(train_metrics)\n",
    "                print(eval_metrics)\n",
    "                \n",
    "                run.log(train_metrics)\n",
    "                run.log(eval_metrics)\n",
    "                            \n",
    "            run.finish()\n",
    "\n",
    "\n",
    "def single_model(model, \n",
    "                     dataset, \n",
    "                     loss_function, \n",
    "                     device=torch.device(\"cuda\"),\n",
    "                     random_state: int=69, \n",
    "                     shuffle=True,\n",
    "                     epochs: int=15, \n",
    "                     lr: float=1e-6,\n",
    "                     batch_size: int=32,\n",
    "                     start_epoch=0\n",
    "                     ):\n",
    "    random.seed(random_state),\n",
    "    np.random.seed(random_state)\n",
    "    torch.manual_seed(random_state)\n",
    "    torch.cuda.manual_seed_all(random_state)\n",
    "    \n",
    "    loss_function.to(device)\n",
    "    model.to(device)\n",
    "\n",
    "    optimizer = MADGRAD(\n",
    "        model.parameters(),\n",
    "        lr = lr, # args.learning_rate - default is 5e-5, our notebook had 2e-5\n",
    "    )\n",
    "\n",
    "    data_loader = torch.utils.data.DataLoader(\n",
    "                    dataset,\n",
    "                    batch_size=batch_size,\n",
    "                    shuffle=shuffle\n",
    "    )\n",
    "    \n",
    "    total_steps = len(data_loader) * epochs \n",
    "\n",
    "    scheduler = get_cosine_schedule_with_warmup(optimizer, \n",
    "                                            num_warmup_steps = 0, # Default value in run_glue.py\n",
    "                                            num_training_steps = total_steps)\n",
    "\n",
    "    for epoch_i in range(0, epochs):\n",
    "        if epoch_i >= start_epoch:\n",
    "            train_metrics = train_epoch(model, data_loader, loss_function, optimizer, scheduler, device)\n",
    "            print(\"EPOCH\", epoch_i)\n",
    "            print(train_metrics)\n",
    "            # eval_epoch(fold_model, eval_loader, loss_function, device)"
   ]
  },
  {
   "cell_type": "markdown",
   "metadata": {
    "id": "pOY06p6r2Ur9"
   },
   "source": [
    "# Cross Validation"
   ]
  },
  {
   "cell_type": "code",
   "execution_count": 72,
   "metadata": {},
   "outputs": [
    {
     "name": "stdout",
     "output_type": "stream",
     "text": [
      "Mon Nov 14 02:15:55 2022       \r\n",
      "+-----------------------------------------------------------------------------+\r\n",
      "| NVIDIA-SMI 520.56.06    Driver Version: 520.56.06    CUDA Version: 11.8     |\r\n",
      "|-------------------------------+----------------------+----------------------+\r\n",
      "| GPU  Name        Persistence-M| Bus-Id        Disp.A | Volatile Uncorr. ECC |\r\n",
      "| Fan  Temp  Perf  Pwr:Usage/Cap|         Memory-Usage | GPU-Util  Compute M. |\r\n",
      "|                               |                      |               MIG M. |\r\n",
      "|===============================+======================+======================|\r\n",
      "|   0  NVIDIA GeForce ...  Off  | 00000000:05:00.0  On |                  Off |\r\n",
      "|  0%   34C    P8    20W / 450W |    280MiB / 24564MiB |      1%      Default |\r\n",
      "|                               |                      |                  N/A |\r\n",
      "+-------------------------------+----------------------+----------------------+\r\n",
      "                                                                               \r\n",
      "+-----------------------------------------------------------------------------+\r\n",
      "| Processes:                                                                  |\r\n",
      "|  GPU   GI   CI        PID   Type   Process name                  GPU Memory |\r\n",
      "|        ID   ID                                                   Usage      |\r\n",
      "|=============================================================================|\r\n",
      "|    0   N/A  N/A      1885      G   /usr/lib/xorg/Xorg                 90MiB |\r\n",
      "|    0   N/A  N/A      2148      G   /usr/bin/gnome-shell               29MiB |\r\n",
      "|    0   N/A  N/A      3996      G   ...7/usr/lib/firefox/firefox      158MiB |\r\n",
      "+-----------------------------------------------------------------------------+\r\n"
     ]
    }
   ],
   "source": [
    "!nvidia-smi"
   ]
  },
  {
   "cell_type": "code",
   "execution_count": 73,
   "metadata": {},
   "outputs": [
    {
     "data": {
      "application/vnd.jupyter.widget-view+json": {
       "model_id": "e267aa3d43304740b11243b36f62e51d",
       "version_major": 2,
       "version_minor": 0
      },
      "text/plain": [
       "  0%|          | 0/11 [00:00<?, ?it/s]"
      ]
     },
     "metadata": {},
     "output_type": "display_data"
    }
   ],
   "source": [
    "strat_array = []\n",
    "target_class = 0\n",
    "for folder in tqdm(os.listdir('data/train')):\n",
    "    for _ in range(len(os.listdir('data/train'+f'/{folder}'))):\n",
    "        strat_array.append(target_class)\n",
    "    target_class += 1"
   ]
  },
  {
   "cell_type": "code",
   "execution_count": 74,
   "metadata": {},
   "outputs": [
    {
     "data": {
      "text/plain": [
       "[0.039452919516044196,\n",
       " 0.14650184113624412,\n",
       " 0.04287217254076802,\n",
       " 0.10573382430299844,\n",
       " 0.11572856391372963,\n",
       " 0.08758548132561811,\n",
       " 0.13834823776959498,\n",
       " 0.10810099947396108,\n",
       " 0.07022619673855866,\n",
       " 0.07469752761704368,\n",
       " 0.07075223566543926]"
      ]
     },
     "execution_count": 74,
     "metadata": {},
     "output_type": "execute_result"
    }
   ],
   "source": [
    "n = len(strat_array)\n",
    "weights = []\n",
    "for i in range(11):\n",
    "    weights.append((strat_array.count(i) / n))\n",
    "    \n",
    "correct_weights = []\n",
    "for i in range(11):\n",
    "    correct_weights.append(weights[i] / sum(weights))\n",
    "    \n",
    "correct_weights"
   ]
  },
  {
   "cell_type": "code",
   "execution_count": 76,
   "metadata": {},
   "outputs": [],
   "source": [
    "# backbone = torchvision.models.resnet50(weights=torchvision.models.ResNet50_Weights.IMAGENET1K_V1)\n",
    "model_weights = torch.load('model.pt', map_location=torch.device('cpu'))\n",
    "backbone = torchvision.models.resnet50(weights=model_weights)"
   ]
  },
  {
   "cell_type": "code",
   "execution_count": 77,
   "metadata": {},
   "outputs": [],
   "source": [
    "model = ResNet(backbone, 11)"
   ]
  },
  {
   "cell_type": "code",
   "execution_count": 78,
   "metadata": {},
   "outputs": [],
   "source": [
    "loss_function=FocalLoss(weight=torch.tensor(correct_weights))"
   ]
  },
  {
   "cell_type": "code",
   "execution_count": 91,
   "metadata": {},
   "outputs": [],
   "source": [
    "import wandb"
   ]
  },
  {
   "cell_type": "code",
   "execution_count": 100,
   "metadata": {
    "id": "5z7MLDul2V7J",
    "scrolled": true
   },
   "outputs": [
    {
     "name": "stdout",
     "output_type": "stream",
     "text": [
      "FOLD 0\n",
      "--------------------------------\n"
     ]
    },
    {
     "data": {
      "text/html": [
       "Finishing last run (ID:a5k9rfk8) before initializing another..."
      ],
      "text/plain": [
       "<IPython.core.display.HTML object>"
      ]
     },
     "metadata": {},
     "output_type": "display_data"
    },
    {
     "data": {
      "text/html": [
       "Waiting for W&B process to finish... <strong style=\"color:green\">(success).</strong>"
      ],
      "text/plain": [
       "<IPython.core.display.HTML object>"
      ]
     },
     "metadata": {},
     "output_type": "display_data"
    },
    {
     "data": {
      "application/vnd.jupyter.widget-view+json": {
       "model_id": "a5ec48ccb2c94c05b552ecf36f2f8aab",
       "version_major": 2,
       "version_minor": 0
      },
      "text/plain": [
       "VBox(children=(Label(value='0.004 MB of 0.004 MB uploaded (0.000 MB deduped)\\r'), FloatProgress(value=1.0, max…"
      ]
     },
     "metadata": {},
     "output_type": "display_data"
    },
    {
     "data": {
      "text/html": [
       "Synced <strong style=\"color:#cdcd00\">fold_0</strong>: <a href=\"https://wandb.ai/mlballs/car_classification_fold_0/runs/a5k9rfk8\" target=\"_blank\">https://wandb.ai/mlballs/car_classification_fold_0/runs/a5k9rfk8</a><br/>Synced 5 W&B file(s), 0 media file(s), 0 artifact file(s) and 0 other file(s)"
      ],
      "text/plain": [
       "<IPython.core.display.HTML object>"
      ]
     },
     "metadata": {},
     "output_type": "display_data"
    },
    {
     "data": {
      "text/html": [
       "Find logs at: <code>./wandb/run-20221114_022653-a5k9rfk8/logs</code>"
      ],
      "text/plain": [
       "<IPython.core.display.HTML object>"
      ]
     },
     "metadata": {},
     "output_type": "display_data"
    },
    {
     "data": {
      "text/html": [
       "Successfully finished last run (ID:a5k9rfk8). Initializing new run:<br/>"
      ],
      "text/plain": [
       "<IPython.core.display.HTML object>"
      ]
     },
     "metadata": {},
     "output_type": "display_data"
    },
    {
     "data": {
      "application/vnd.jupyter.widget-view+json": {
       "model_id": "a8d11d636d1d4e7688beb6b4752ce9d9",
       "version_major": 2,
       "version_minor": 0
      },
      "text/plain": [
       "VBox(children=(Label(value='Waiting for wandb.init()...\\r'), FloatProgress(value=0.016668112499996824, max=1.0…"
      ]
     },
     "metadata": {},
     "output_type": "display_data"
    },
    {
     "data": {
      "text/html": [
       "Tracking run with wandb version 0.13.5"
      ],
      "text/plain": [
       "<IPython.core.display.HTML object>"
      ]
     },
     "metadata": {},
     "output_type": "display_data"
    },
    {
     "data": {
      "text/html": [
       "Run data is saved locally in <code>/home/leffff/PycharmProjects/rucode_6/a/wandb/run-20221114_022737-1kms75qi</code>"
      ],
      "text/plain": [
       "<IPython.core.display.HTML object>"
      ]
     },
     "metadata": {},
     "output_type": "display_data"
    },
    {
     "data": {
      "text/html": [
       "Syncing run <strong><a href=\"https://wandb.ai/mlballs/car_classification_fold_0/runs/1kms75qi\" target=\"_blank\">fold_0</a></strong> to <a href=\"https://wandb.ai/mlballs/car_classification_fold_0\" target=\"_blank\">Weights & Biases</a> (<a href=\"https://wandb.me/run\" target=\"_blank\">docs</a>)<br/>"
      ],
      "text/plain": [
       "<IPython.core.display.HTML object>"
      ]
     },
     "metadata": {},
     "output_type": "display_data"
    },
    {
     "data": {
      "application/vnd.jupyter.widget-view+json": {
       "model_id": "aec136ddbef64ec6800c1659d015a38e",
       "version_major": 2,
       "version_minor": 0
      },
      "text/plain": [
       "  0%|          | 0/179 [00:00<?, ?it/s]"
      ]
     },
     "metadata": {},
     "output_type": "display_data"
    },
    {
     "data": {
      "application/vnd.jupyter.widget-view+json": {
       "model_id": "d7a98ebe4066451d9deb4b29290e9654",
       "version_major": 2,
       "version_minor": 0
      },
      "text/plain": [
       "  0%|          | 0/60 [00:00<?, ?it/s]"
      ]
     },
     "metadata": {},
     "output_type": "display_data"
    },
    {
     "name": "stdout",
     "output_type": "stream",
     "text": [
      "EPOCH: 0\n",
      "{'Train Loss': 1.206027832610647, 'Train Accuracy': 0.5804980993270874, 'Train F1': 0.5288954377174377}\n",
      "{'Eval Loss': 0.7690187782049179, 'Eval Accuracy': 0.7013669610023499, 'Eval F1': 0.5946371555328369}\n"
     ]
    },
    {
     "data": {
      "application/vnd.jupyter.widget-view+json": {
       "model_id": "e4fc5bc9974e40fd89a2f9be82d2fd21",
       "version_major": 2,
       "version_minor": 0
      },
      "text/plain": [
       "  0%|          | 0/179 [00:00<?, ?it/s]"
      ]
     },
     "metadata": {},
     "output_type": "display_data"
    },
    {
     "data": {
      "application/vnd.jupyter.widget-view+json": {
       "model_id": "dbe7e3711e0b4016a8d527baa700f1a9",
       "version_major": 2,
       "version_minor": 0
      },
      "text/plain": [
       "  0%|          | 0/60 [00:00<?, ?it/s]"
      ]
     },
     "metadata": {},
     "output_type": "display_data"
    },
    {
     "name": "stdout",
     "output_type": "stream",
     "text": [
      "EPOCH: 1\n",
      "{'Train Loss': 0.6803299045429549, 'Train Accuracy': 0.750613808631897, 'Train F1': 0.7163687944412231}\n",
      "{'Eval Loss': 0.5199573947427173, 'Eval Accuracy': 0.8138800859451294, 'Eval F1': 0.7512196898460388}\n"
     ]
    },
    {
     "data": {
      "application/vnd.jupyter.widget-view+json": {
       "model_id": "b7352013c45843f5b9cc6819d3ba7ad4",
       "version_major": 2,
       "version_minor": 0
      },
      "text/plain": [
       "  0%|          | 0/179 [00:00<?, ?it/s]"
      ]
     },
     "metadata": {},
     "output_type": "display_data"
    },
    {
     "data": {
      "application/vnd.jupyter.widget-view+json": {
       "model_id": "f5081ea55796498da7021f5628022f75",
       "version_major": 2,
       "version_minor": 0
      },
      "text/plain": [
       "  0%|          | 0/60 [00:00<?, ?it/s]"
      ]
     },
     "metadata": {},
     "output_type": "display_data"
    },
    {
     "name": "stdout",
     "output_type": "stream",
     "text": [
      "EPOCH: 2\n",
      "{'Train Loss': 0.4522818772319975, 'Train Accuracy': 0.8284812569618225, 'Train F1': 0.7965662479400635}\n",
      "{'Eval Loss': 0.48611115760480367, 'Eval Accuracy': 0.8317559957504272, 'Eval F1': 0.7856879234313965}\n"
     ]
    },
    {
     "data": {
      "application/vnd.jupyter.widget-view+json": {
       "model_id": "93200e0f524642afaad5a066e4cd19a1",
       "version_major": 2,
       "version_minor": 0
      },
      "text/plain": [
       "  0%|          | 0/179 [00:00<?, ?it/s]"
      ]
     },
     "metadata": {},
     "output_type": "display_data"
    },
    {
     "data": {
      "application/vnd.jupyter.widget-view+json": {
       "model_id": "4191b76aaad84131a9d0d4b8ce70ac7c",
       "version_major": 2,
       "version_minor": 0
      },
      "text/plain": [
       "  0%|          | 0/60 [00:00<?, ?it/s]"
      ]
     },
     "metadata": {},
     "output_type": "display_data"
    },
    {
     "name": "stdout",
     "output_type": "stream",
     "text": [
      "EPOCH: 3\n",
      "{'Train Loss': 0.362162391722785, 'Train Accuracy': 0.8688179850578308, 'Train F1': 0.8484314680099487}\n",
      "{'Eval Loss': 0.40632665194571016, 'Eval Accuracy': 0.8443742990493774, 'Eval F1': 0.8118723630905151}\n"
     ]
    },
    {
     "data": {
      "application/vnd.jupyter.widget-view+json": {
       "model_id": "a83bf8ec3d314b34b3bdba5ecfc41a74",
       "version_major": 2,
       "version_minor": 0
      },
      "text/plain": [
       "  0%|          | 0/179 [00:00<?, ?it/s]"
      ]
     },
     "metadata": {},
     "output_type": "display_data"
    },
    {
     "data": {
      "application/vnd.jupyter.widget-view+json": {
       "model_id": "53e2e81a429f4469a65e4a8ece843dff",
       "version_major": 2,
       "version_minor": 0
      },
      "text/plain": [
       "  0%|          | 0/60 [00:00<?, ?it/s]"
      ]
     },
     "metadata": {},
     "output_type": "display_data"
    },
    {
     "name": "stdout",
     "output_type": "stream",
     "text": [
      "EPOCH: 4\n",
      "{'Train Loss': 0.2896387399221099, 'Train Accuracy': 0.8905647397041321, 'Train F1': 0.8699716925621033}\n",
      "{'Eval Loss': 0.36096606073745835, 'Eval Accuracy': 0.8601471781730652, 'Eval F1': 0.8263582587242126}\n"
     ]
    },
    {
     "data": {
      "application/vnd.jupyter.widget-view+json": {
       "model_id": "2deb8f6c9ef74bd2a35a07b72a2c9dc2",
       "version_major": 2,
       "version_minor": 0
      },
      "text/plain": [
       "  0%|          | 0/179 [00:00<?, ?it/s]"
      ]
     },
     "metadata": {},
     "output_type": "display_data"
    },
    {
     "data": {
      "application/vnd.jupyter.widget-view+json": {
       "model_id": "87f733bffea4435a8880e100a64d3af6",
       "version_major": 2,
       "version_minor": 0
      },
      "text/plain": [
       "  0%|          | 0/60 [00:00<?, ?it/s]"
      ]
     },
     "metadata": {},
     "output_type": "display_data"
    },
    {
     "name": "stdout",
     "output_type": "stream",
     "text": [
      "EPOCH: 5\n",
      "{'Train Loss': 0.19694806555775124, 'Train Accuracy': 0.9242371320724487, 'Train F1': 0.9138675928115845}\n",
      "{'Eval Loss': 0.3191102793129782, 'Eval Accuracy': 0.8916928768157959, 'Eval F1': 0.8699156045913696}\n"
     ]
    },
    {
     "data": {
      "application/vnd.jupyter.widget-view+json": {
       "model_id": "37ffe4f5dda14040b9919e0c976bce6a",
       "version_major": 2,
       "version_minor": 0
      },
      "text/plain": [
       "  0%|          | 0/179 [00:00<?, ?it/s]"
      ]
     },
     "metadata": {},
     "output_type": "display_data"
    },
    {
     "data": {
      "application/vnd.jupyter.widget-view+json": {
       "model_id": "9eb314a8aebc403eba6246a4d70dd3f2",
       "version_major": 2,
       "version_minor": 0
      },
      "text/plain": [
       "  0%|          | 0/60 [00:00<?, ?it/s]"
      ]
     },
     "metadata": {},
     "output_type": "display_data"
    },
    {
     "name": "stdout",
     "output_type": "stream",
     "text": [
      "EPOCH: 6\n",
      "{'Train Loss': 0.16134266399742006, 'Train Accuracy': 0.9449316263198853, 'Train F1': 0.9363938570022583}\n",
      "{'Eval Loss': 0.22888081791849496, 'Eval Accuracy': 0.9211356043815613, 'Eval F1': 0.9011916518211365}\n"
     ]
    },
    {
     "data": {
      "application/vnd.jupyter.widget-view+json": {
       "model_id": "8908cd32f06942af81efc291e76f23e7",
       "version_major": 2,
       "version_minor": 0
      },
      "text/plain": [
       "  0%|          | 0/179 [00:00<?, ?it/s]"
      ]
     },
     "metadata": {},
     "output_type": "display_data"
    },
    {
     "data": {
      "application/vnd.jupyter.widget-view+json": {
       "model_id": "18b969834f414a37bdd6b376b16dcad1",
       "version_major": 2,
       "version_minor": 0
      },
      "text/plain": [
       "  0%|          | 0/60 [00:00<?, ?it/s]"
      ]
     },
     "metadata": {},
     "output_type": "display_data"
    },
    {
     "name": "stdout",
     "output_type": "stream",
     "text": [
      "EPOCH: 7\n",
      "{'Train Loss': 0.12265918528327495, 'Train Accuracy': 0.9540511965751648, 'Train F1': 0.9464216828346252}\n",
      "{'Eval Loss': 0.23990487112508466, 'Eval Accuracy': 0.9390115141868591, 'Eval F1': 0.9320517778396606}\n"
     ]
    },
    {
     "data": {
      "application/vnd.jupyter.widget-view+json": {
       "model_id": "608d712ebe6c47539ce381bc4853e776",
       "version_major": 2,
       "version_minor": 0
      },
      "text/plain": [
       "  0%|          | 0/179 [00:00<?, ?it/s]"
      ]
     },
     "metadata": {},
     "output_type": "display_data"
    },
    {
     "data": {
      "application/vnd.jupyter.widget-view+json": {
       "model_id": "245b85737bfd482d9934fdee3aac0d80",
       "version_major": 2,
       "version_minor": 0
      },
      "text/plain": [
       "  0%|          | 0/60 [00:00<?, ?it/s]"
      ]
     },
     "metadata": {},
     "output_type": "display_data"
    },
    {
     "name": "stdout",
     "output_type": "stream",
     "text": [
      "EPOCH: 8\n",
      "{'Train Loss': 0.08879368332178558, 'Train Accuracy': 0.9670291543006897, 'Train F1': 0.961477518081665}\n",
      "{'Eval Loss': 0.2585487755583017, 'Eval Accuracy': 0.9316508173942566, 'Eval F1': 0.9089640378952026}\n"
     ]
    },
    {
     "data": {
      "application/vnd.jupyter.widget-view+json": {
       "model_id": "a40fb5144f7644d09ee230426bb359bc",
       "version_major": 2,
       "version_minor": 0
      },
      "text/plain": [
       "  0%|          | 0/179 [00:00<?, ?it/s]"
      ]
     },
     "metadata": {},
     "output_type": "display_data"
    },
    {
     "data": {
      "application/vnd.jupyter.widget-view+json": {
       "model_id": "482eab819248406382c47f590a6382cd",
       "version_major": 2,
       "version_minor": 0
      },
      "text/plain": [
       "  0%|          | 0/60 [00:00<?, ?it/s]"
      ]
     },
     "metadata": {},
     "output_type": "display_data"
    },
    {
     "name": "stdout",
     "output_type": "stream",
     "text": [
      "EPOCH: 9\n",
      "{'Train Loss': 0.03946421148848763, 'Train Accuracy': 0.9842160940170288, 'Train F1': 0.9825594425201416}\n",
      "{'Eval Loss': 0.2200930011866755, 'Eval Accuracy': 0.9348053932189941, 'Eval F1': 0.921311616897583}\n"
     ]
    },
    {
     "data": {
      "application/vnd.jupyter.widget-view+json": {
       "model_id": "56a4e5db871145b6b37d5a749154781a",
       "version_major": 2,
       "version_minor": 0
      },
      "text/plain": [
       "  0%|          | 0/179 [00:00<?, ?it/s]"
      ]
     },
     "metadata": {},
     "output_type": "display_data"
    },
    {
     "data": {
      "application/vnd.jupyter.widget-view+json": {
       "model_id": "d084bd02355b455a9c022ef82a5fa706",
       "version_major": 2,
       "version_minor": 0
      },
      "text/plain": [
       "  0%|          | 0/60 [00:00<?, ?it/s]"
      ]
     },
     "metadata": {},
     "output_type": "display_data"
    },
    {
     "name": "stdout",
     "output_type": "stream",
     "text": [
      "EPOCH: 10\n",
      "{'Train Loss': 0.03523135237029039, 'Train Accuracy': 0.988775908946991, 'Train F1': 0.985552191734314}\n",
      "{'Eval Loss': 0.23361333541373216, 'Eval Accuracy': 0.9432176351547241, 'Eval F1': 0.9314178228378296}\n"
     ]
    },
    {
     "data": {
      "application/vnd.jupyter.widget-view+json": {
       "model_id": "f0f2a7e041eb4378b5fad90d49a18ea8",
       "version_major": 2,
       "version_minor": 0
      },
      "text/plain": [
       "  0%|          | 0/179 [00:00<?, ?it/s]"
      ]
     },
     "metadata": {},
     "output_type": "display_data"
    },
    {
     "data": {
      "application/vnd.jupyter.widget-view+json": {
       "model_id": "4a13bd7d76f34b8dad178059fcd6cc6e",
       "version_major": 2,
       "version_minor": 0
      },
      "text/plain": [
       "  0%|          | 0/60 [00:00<?, ?it/s]"
      ]
     },
     "metadata": {},
     "output_type": "display_data"
    },
    {
     "name": "stdout",
     "output_type": "stream",
     "text": [
      "EPOCH: 11\n",
      "{'Train Loss': 0.020497887157441188, 'Train Accuracy': 0.9940372109413147, 'Train F1': 0.992911696434021}\n",
      "{'Eval Loss': 0.2264195087887856, 'Eval Accuracy': 0.936908483505249, 'Eval F1': 0.9251270890235901}\n"
     ]
    },
    {
     "data": {
      "application/vnd.jupyter.widget-view+json": {
       "model_id": "9ca4f29833174e8c95927604da50710d",
       "version_major": 2,
       "version_minor": 0
      },
      "text/plain": [
       "  0%|          | 0/179 [00:00<?, ?it/s]"
      ]
     },
     "metadata": {},
     "output_type": "display_data"
    },
    {
     "data": {
      "application/vnd.jupyter.widget-view+json": {
       "model_id": "7de74f25b08b49a5b7c69bdfce459b8d",
       "version_major": 2,
       "version_minor": 0
      },
      "text/plain": [
       "  0%|          | 0/60 [00:00<?, ?it/s]"
      ]
     },
     "metadata": {},
     "output_type": "display_data"
    },
    {
     "name": "stdout",
     "output_type": "stream",
     "text": [
      "EPOCH: 12\n",
      "{'Train Loss': 0.009071807828063381, 'Train Accuracy': 0.9971939921379089, 'Train F1': 0.9968069791793823}\n",
      "{'Eval Loss': 0.1997984171903833, 'Eval Accuracy': 0.9432176351547241, 'Eval F1': 0.9264184236526489}\n"
     ]
    },
    {
     "data": {
      "application/vnd.jupyter.widget-view+json": {
       "model_id": "1bddcf116fee48a188a9f6c2a913e8b9",
       "version_major": 2,
       "version_minor": 0
      },
      "text/plain": [
       "  0%|          | 0/179 [00:00<?, ?it/s]"
      ]
     },
     "metadata": {},
     "output_type": "display_data"
    },
    {
     "data": {
      "application/vnd.jupyter.widget-view+json": {
       "model_id": "939234628bc64dfba2de63432e72a477",
       "version_major": 2,
       "version_minor": 0
      },
      "text/plain": [
       "  0%|          | 0/60 [00:00<?, ?it/s]"
      ]
     },
     "metadata": {},
     "output_type": "display_data"
    },
    {
     "name": "stdout",
     "output_type": "stream",
     "text": [
      "EPOCH: 13\n",
      "{'Train Loss': 0.006475361739711584, 'Train Accuracy': 0.9978954792022705, 'Train F1': 0.997696042060852}\n",
      "{'Eval Loss': 0.19444234808430944, 'Eval Accuracy': 0.9453206658363342, 'Eval F1': 0.9301608204841614}\n"
     ]
    },
    {
     "data": {
      "application/vnd.jupyter.widget-view+json": {
       "model_id": "86ddf32ce71b4f85b452a459f3d45721",
       "version_major": 2,
       "version_minor": 0
      },
      "text/plain": [
       "  0%|          | 0/179 [00:00<?, ?it/s]"
      ]
     },
     "metadata": {},
     "output_type": "display_data"
    },
    {
     "data": {
      "application/vnd.jupyter.widget-view+json": {
       "model_id": "109f6f16fbf047c3a89e8ebfca626e11",
       "version_major": 2,
       "version_minor": 0
      },
      "text/plain": [
       "  0%|          | 0/60 [00:00<?, ?it/s]"
      ]
     },
     "metadata": {},
     "output_type": "display_data"
    },
    {
     "name": "stdout",
     "output_type": "stream",
     "text": [
      "EPOCH: 14\n",
      "{'Train Loss': 0.010590859744564383, 'Train Accuracy': 0.9971939921379089, 'Train F1': 0.9968841075897217}\n",
      "{'Eval Loss': 0.20474638134073758, 'Eval Accuracy': 0.9411145448684692, 'Eval F1': 0.9260197877883911}\n"
     ]
    },
    {
     "data": {
      "text/html": [
       "Waiting for W&B process to finish... <strong style=\"color:green\">(success).</strong>"
      ],
      "text/plain": [
       "<IPython.core.display.HTML object>"
      ]
     },
     "metadata": {},
     "output_type": "display_data"
    },
    {
     "data": {
      "application/vnd.jupyter.widget-view+json": {
       "model_id": "5e7a45dc87a947ed98a6d69077b7676e",
       "version_major": 2,
       "version_minor": 0
      },
      "text/plain": [
       "VBox(children=(Label(value='0.004 MB of 0.004 MB uploaded (0.000 MB deduped)\\r'), FloatProgress(value=1.0, max…"
      ]
     },
     "metadata": {},
     "output_type": "display_data"
    },
    {
     "data": {
      "text/html": [
       "<style>\n",
       "    table.wandb td:nth-child(1) { padding: 0 10px; text-align: left ; width: auto;} td:nth-child(2) {text-align: left ; width: 100%}\n",
       "    .wandb-row { display: flex; flex-direction: row; flex-wrap: wrap; justify-content: flex-start; width: 100% }\n",
       "    .wandb-col { display: flex; flex-direction: column; flex-basis: 100%; flex: 1; padding: 10px; }\n",
       "    </style>\n",
       "<div class=\"wandb-row\"><div class=\"wandb-col\"><h3>Run history:</h3><br/><table class=\"wandb\"><tr><td>Eval Accuracy</td><td>▁▄▅▅▆▆▇████████</td></tr><tr><td>Eval F1</td><td>▁▄▅▆▆▇▇████████</td></tr><tr><td>Eval Loss</td><td>█▅▅▄▃▃▁▂▂▁▁▁▁▁▁</td></tr><tr><td>Train Accuracy</td><td>▁▄▅▆▆▇▇▇▇██████</td></tr><tr><td>Train F1</td><td>▁▄▅▆▆▇▇▇▇██████</td></tr><tr><td>Train Loss</td><td>█▅▄▃▃▂▂▂▁▁▁▁▁▁▁</td></tr></table><br/></div><div class=\"wandb-col\"><h3>Run summary:</h3><br/><table class=\"wandb\"><tr><td>Eval Accuracy</td><td>0.94111</td></tr><tr><td>Eval F1</td><td>0.92602</td></tr><tr><td>Eval Loss</td><td>0.20475</td></tr><tr><td>Train Accuracy</td><td>0.99719</td></tr><tr><td>Train F1</td><td>0.99688</td></tr><tr><td>Train Loss</td><td>0.01059</td></tr></table><br/></div></div>"
      ],
      "text/plain": [
       "<IPython.core.display.HTML object>"
      ]
     },
     "metadata": {},
     "output_type": "display_data"
    },
    {
     "data": {
      "text/html": [
       "Synced <strong style=\"color:#cdcd00\">fold_0</strong>: <a href=\"https://wandb.ai/mlballs/car_classification_fold_0/runs/1kms75qi\" target=\"_blank\">https://wandb.ai/mlballs/car_classification_fold_0/runs/1kms75qi</a><br/>Synced 5 W&B file(s), 0 media file(s), 0 artifact file(s) and 0 other file(s)"
      ],
      "text/plain": [
       "<IPython.core.display.HTML object>"
      ]
     },
     "metadata": {},
     "output_type": "display_data"
    },
    {
     "data": {
      "text/html": [
       "Find logs at: <code>./wandb/run-20221114_022737-1kms75qi/logs</code>"
      ],
      "text/plain": [
       "<IPython.core.display.HTML object>"
      ]
     },
     "metadata": {},
     "output_type": "display_data"
    },
    {
     "name": "stdout",
     "output_type": "stream",
     "text": [
      "FOLD 1\n",
      "--------------------------------\n"
     ]
    },
    {
     "data": {
      "application/vnd.jupyter.widget-view+json": {
       "model_id": "d37c8b461e8d4a5bb76e2ddf3b535bcc",
       "version_major": 2,
       "version_minor": 0
      },
      "text/plain": [
       "VBox(children=(Label(value='Waiting for wandb.init()...\\r'), FloatProgress(value=0.016672661049998774, max=1.0…"
      ]
     },
     "metadata": {},
     "output_type": "display_data"
    },
    {
     "data": {
      "text/html": [
       "Tracking run with wandb version 0.13.5"
      ],
      "text/plain": [
       "<IPython.core.display.HTML object>"
      ]
     },
     "metadata": {},
     "output_type": "display_data"
    },
    {
     "data": {
      "text/html": [
       "Run data is saved locally in <code>/home/leffff/PycharmProjects/rucode_6/a/wandb/run-20221114_023012-12b8mtv4</code>"
      ],
      "text/plain": [
       "<IPython.core.display.HTML object>"
      ]
     },
     "metadata": {},
     "output_type": "display_data"
    },
    {
     "data": {
      "text/html": [
       "Syncing run <strong><a href=\"https://wandb.ai/mlballs/car_classification_fold_1/runs/12b8mtv4\" target=\"_blank\">fold_1</a></strong> to <a href=\"https://wandb.ai/mlballs/car_classification_fold_1\" target=\"_blank\">Weights & Biases</a> (<a href=\"https://wandb.me/run\" target=\"_blank\">docs</a>)<br/>"
      ],
      "text/plain": [
       "<IPython.core.display.HTML object>"
      ]
     },
     "metadata": {},
     "output_type": "display_data"
    },
    {
     "data": {
      "application/vnd.jupyter.widget-view+json": {
       "model_id": "099985a255b24609bb35358fcc0ab565",
       "version_major": 2,
       "version_minor": 0
      },
      "text/plain": [
       "  0%|          | 0/179 [00:00<?, ?it/s]"
      ]
     },
     "metadata": {},
     "output_type": "display_data"
    },
    {
     "data": {
      "application/vnd.jupyter.widget-view+json": {
       "model_id": "18ad2a6924654ffc8dd3132fc21ab36e",
       "version_major": 2,
       "version_minor": 0
      },
      "text/plain": [
       "  0%|          | 0/60 [00:00<?, ?it/s]"
      ]
     },
     "metadata": {},
     "output_type": "display_data"
    },
    {
     "name": "stdout",
     "output_type": "stream",
     "text": [
      "EPOCH: 0\n",
      "{'Train Loss': 1.1686741431665155, 'Train Accuracy': 0.5885654091835022, 'Train F1': 0.5254381895065308}\n",
      "{'Eval Loss': 1.181006881594658, 'Eval Accuracy': 0.6466876864433289, 'Eval F1': 0.5802657604217529}\n"
     ]
    },
    {
     "data": {
      "application/vnd.jupyter.widget-view+json": {
       "model_id": "6dbeb0557d384e94ba52f7308b87451b",
       "version_major": 2,
       "version_minor": 0
      },
      "text/plain": [
       "  0%|          | 0/179 [00:00<?, ?it/s]"
      ]
     },
     "metadata": {},
     "output_type": "display_data"
    },
    {
     "data": {
      "application/vnd.jupyter.widget-view+json": {
       "model_id": "55476793f54648ada98489636563e5d1",
       "version_major": 2,
       "version_minor": 0
      },
      "text/plain": [
       "  0%|          | 0/60 [00:00<?, ?it/s]"
      ]
     },
     "metadata": {},
     "output_type": "display_data"
    },
    {
     "name": "stdout",
     "output_type": "stream",
     "text": [
      "EPOCH: 1\n",
      "{'Train Loss': 0.6045928946670207, 'Train Accuracy': 0.7814801931381226, 'Train F1': 0.7465054392814636}\n",
      "{'Eval Loss': 0.9340935950477918, 'Eval Accuracy': 0.7181913256645203, 'Eval F1': 0.6888308525085449}\n"
     ]
    },
    {
     "data": {
      "application/vnd.jupyter.widget-view+json": {
       "model_id": "91353911f9244c69ba55d8f79ed3d2aa",
       "version_major": 2,
       "version_minor": 0
      },
      "text/plain": [
       "  0%|          | 0/179 [00:00<?, ?it/s]"
      ]
     },
     "metadata": {},
     "output_type": "display_data"
    },
    {
     "data": {
      "application/vnd.jupyter.widget-view+json": {
       "model_id": "4f82dcb405354b8f8298ddb334898b74",
       "version_major": 2,
       "version_minor": 0
      },
      "text/plain": [
       "  0%|          | 0/60 [00:00<?, ?it/s]"
      ]
     },
     "metadata": {},
     "output_type": "display_data"
    },
    {
     "name": "stdout",
     "output_type": "stream",
     "text": [
      "EPOCH: 2\n",
      "{'Train Loss': 0.46112357383573105, 'Train Accuracy': 0.8351455926895142, 'Train F1': 0.8068413734436035}\n",
      "{'Eval Loss': 0.35423375898972154, 'Eval Accuracy': 0.8801261186599731, 'Eval F1': 0.8711382150650024}\n"
     ]
    },
    {
     "data": {
      "application/vnd.jupyter.widget-view+json": {
       "model_id": "788241f0adbd4305a467a2e72d97b00e",
       "version_major": 2,
       "version_minor": 0
      },
      "text/plain": [
       "  0%|          | 0/179 [00:00<?, ?it/s]"
      ]
     },
     "metadata": {},
     "output_type": "display_data"
    },
    {
     "data": {
      "application/vnd.jupyter.widget-view+json": {
       "model_id": "08bcfa9b48d54f3eb506043ff3b6e8be",
       "version_major": 2,
       "version_minor": 0
      },
      "text/plain": [
       "  0%|          | 0/60 [00:00<?, ?it/s]"
      ]
     },
     "metadata": {},
     "output_type": "display_data"
    },
    {
     "name": "stdout",
     "output_type": "stream",
     "text": [
      "EPOCH: 3\n",
      "{'Train Loss': 0.36147503528286123, 'Train Accuracy': 0.8681164383888245, 'Train F1': 0.8424882888793945}\n",
      "{'Eval Loss': 0.2921492524134616, 'Eval Accuracy': 0.902208149433136, 'Eval F1': 0.8929318189620972}\n"
     ]
    },
    {
     "data": {
      "application/vnd.jupyter.widget-view+json": {
       "model_id": "4ad4bc6068fc41378b9093b96ea7ccd8",
       "version_major": 2,
       "version_minor": 0
      },
      "text/plain": [
       "  0%|          | 0/179 [00:00<?, ?it/s]"
      ]
     },
     "metadata": {},
     "output_type": "display_data"
    },
    {
     "data": {
      "application/vnd.jupyter.widget-view+json": {
       "model_id": "9a47809adda246c5974906d0cc2fb9bf",
       "version_major": 2,
       "version_minor": 0
      },
      "text/plain": [
       "  0%|          | 0/60 [00:00<?, ?it/s]"
      ]
     },
     "metadata": {},
     "output_type": "display_data"
    },
    {
     "name": "stdout",
     "output_type": "stream",
     "text": [
      "EPOCH: 4\n",
      "{'Train Loss': 0.31059356454458065, 'Train Accuracy': 0.8891617059707642, 'Train F1': 0.8710260391235352}\n",
      "{'Eval Loss': 0.28474499789687496, 'Eval Accuracy': 0.8948474526405334, 'Eval F1': 0.8741713762283325}\n"
     ]
    },
    {
     "data": {
      "application/vnd.jupyter.widget-view+json": {
       "model_id": "2b5eefd7f4fe40b994505a822d0011a9",
       "version_major": 2,
       "version_minor": 0
      },
      "text/plain": [
       "  0%|          | 0/179 [00:00<?, ?it/s]"
      ]
     },
     "metadata": {},
     "output_type": "display_data"
    },
    {
     "data": {
      "application/vnd.jupyter.widget-view+json": {
       "model_id": "63c81a27a01d489284d015a438228e17",
       "version_major": 2,
       "version_minor": 0
      },
      "text/plain": [
       "  0%|          | 0/60 [00:00<?, ?it/s]"
      ]
     },
     "metadata": {},
     "output_type": "display_data"
    },
    {
     "name": "stdout",
     "output_type": "stream",
     "text": [
      "EPOCH: 5\n",
      "{'Train Loss': 0.22487247550753386, 'Train Accuracy': 0.9228340983390808, 'Train F1': 0.9106817245483398}\n",
      "{'Eval Loss': 0.5532456142711453, 'Eval Accuracy': 0.8454258441925049, 'Eval F1': 0.8151421546936035}\n"
     ]
    },
    {
     "data": {
      "application/vnd.jupyter.widget-view+json": {
       "model_id": "532604f56be1477fb8821a85d46b73ec",
       "version_major": 2,
       "version_minor": 0
      },
      "text/plain": [
       "  0%|          | 0/179 [00:00<?, ?it/s]"
      ]
     },
     "metadata": {},
     "output_type": "display_data"
    },
    {
     "data": {
      "application/vnd.jupyter.widget-view+json": {
       "model_id": "ea6d06e310ac4e98a0acc0fd5fd3224d",
       "version_major": 2,
       "version_minor": 0
      },
      "text/plain": [
       "  0%|          | 0/60 [00:00<?, ?it/s]"
      ]
     },
     "metadata": {},
     "output_type": "display_data"
    },
    {
     "name": "stdout",
     "output_type": "stream",
     "text": [
      "EPOCH: 6\n",
      "{'Train Loss': 0.1589761024962736, 'Train Accuracy': 0.9431778192520142, 'Train F1': 0.9331564903259277}\n",
      "{'Eval Loss': 0.19251047592842951, 'Eval Accuracy': 0.9242901802062988, 'Eval F1': 0.9131983518600464}\n"
     ]
    },
    {
     "data": {
      "application/vnd.jupyter.widget-view+json": {
       "model_id": "002ad733c142464cbcb08f3cac966a1f",
       "version_major": 2,
       "version_minor": 0
      },
      "text/plain": [
       "  0%|          | 0/179 [00:00<?, ?it/s]"
      ]
     },
     "metadata": {},
     "output_type": "display_data"
    },
    {
     "data": {
      "application/vnd.jupyter.widget-view+json": {
       "model_id": "be684b4dc1e54dde8941d3f56422b47a",
       "version_major": 2,
       "version_minor": 0
      },
      "text/plain": [
       "  0%|          | 0/60 [00:00<?, ?it/s]"
      ]
     },
     "metadata": {},
     "output_type": "display_data"
    },
    {
     "name": "stdout",
     "output_type": "stream",
     "text": [
      "EPOCH: 7\n",
      "{'Train Loss': 0.12595775699946643, 'Train Accuracy': 0.9551034569740295, 'Train F1': 0.9477915167808533}\n",
      "{'Eval Loss': 0.22156897968695072, 'Eval Accuracy': 0.9295477867126465, 'Eval F1': 0.9182320833206177}\n"
     ]
    },
    {
     "data": {
      "application/vnd.jupyter.widget-view+json": {
       "model_id": "42a93b07def04ae19f194267bda1879e",
       "version_major": 2,
       "version_minor": 0
      },
      "text/plain": [
       "  0%|          | 0/179 [00:00<?, ?it/s]"
      ]
     },
     "metadata": {},
     "output_type": "display_data"
    },
    {
     "data": {
      "application/vnd.jupyter.widget-view+json": {
       "model_id": "aec8761485554d5bb06924f003a0319a",
       "version_major": 2,
       "version_minor": 0
      },
      "text/plain": [
       "  0%|          | 0/60 [00:00<?, ?it/s]"
      ]
     },
     "metadata": {},
     "output_type": "display_data"
    },
    {
     "name": "stdout",
     "output_type": "stream",
     "text": [
      "EPOCH: 8\n",
      "{'Train Loss': 0.08500910101986202, 'Train Accuracy': 0.9740442037582397, 'Train F1': 0.9686589241027832}\n",
      "{'Eval Loss': 0.15263176784016347, 'Eval Accuracy': 0.9516298174858093, 'Eval F1': 0.9458949565887451}\n"
     ]
    },
    {
     "data": {
      "application/vnd.jupyter.widget-view+json": {
       "model_id": "33dc143aa626489181a7b14ce2a39cf3",
       "version_major": 2,
       "version_minor": 0
      },
      "text/plain": [
       "  0%|          | 0/179 [00:00<?, ?it/s]"
      ]
     },
     "metadata": {},
     "output_type": "display_data"
    },
    {
     "data": {
      "application/vnd.jupyter.widget-view+json": {
       "model_id": "1085178dcf0240f4bf1dec2d92614ced",
       "version_major": 2,
       "version_minor": 0
      },
      "text/plain": [
       "  0%|          | 0/60 [00:00<?, ?it/s]"
      ]
     },
     "metadata": {},
     "output_type": "display_data"
    },
    {
     "name": "stdout",
     "output_type": "stream",
     "text": [
      "EPOCH: 9\n",
      "{'Train Loss': 0.04565490761323209, 'Train Accuracy': 0.981410026550293, 'Train F1': 0.9792953729629517}\n",
      "{'Eval Loss': 0.12667924768732822, 'Eval Accuracy': 0.9516298174858093, 'Eval F1': 0.9458959102630615}\n"
     ]
    },
    {
     "data": {
      "application/vnd.jupyter.widget-view+json": {
       "model_id": "c1c70ffb01894820b39720c005910ad0",
       "version_major": 2,
       "version_minor": 0
      },
      "text/plain": [
       "  0%|          | 0/179 [00:00<?, ?it/s]"
      ]
     },
     "metadata": {},
     "output_type": "display_data"
    },
    {
     "data": {
      "application/vnd.jupyter.widget-view+json": {
       "model_id": "6e26d3c2fdf0438f8f05e75ffd352be9",
       "version_major": 2,
       "version_minor": 0
      },
      "text/plain": [
       "  0%|          | 0/60 [00:00<?, ?it/s]"
      ]
     },
     "metadata": {},
     "output_type": "display_data"
    },
    {
     "name": "stdout",
     "output_type": "stream",
     "text": [
      "EPOCH: 10\n",
      "{'Train Loss': 0.026451427933921603, 'Train Accuracy': 0.988775908946991, 'Train F1': 0.9867657423019409}\n",
      "{'Eval Loss': 0.13354218784645583, 'Eval Accuracy': 0.9537328481674194, 'Eval F1': 0.9482322931289673}\n"
     ]
    },
    {
     "data": {
      "application/vnd.jupyter.widget-view+json": {
       "model_id": "c3058db801aa4daaafc067e1fee9050d",
       "version_major": 2,
       "version_minor": 0
      },
      "text/plain": [
       "  0%|          | 0/179 [00:00<?, ?it/s]"
      ]
     },
     "metadata": {},
     "output_type": "display_data"
    },
    {
     "data": {
      "application/vnd.jupyter.widget-view+json": {
       "model_id": "c497e96e2d7442ca81ede2fc1e6c9d47",
       "version_major": 2,
       "version_minor": 0
      },
      "text/plain": [
       "  0%|          | 0/60 [00:00<?, ?it/s]"
      ]
     },
     "metadata": {},
     "output_type": "display_data"
    },
    {
     "name": "stdout",
     "output_type": "stream",
     "text": [
      "EPOCH: 11\n",
      "{'Train Loss': 0.019459002439458476, 'Train Accuracy': 0.9926341772079468, 'Train F1': 0.9910745620727539}\n",
      "{'Eval Loss': 0.13228451939242708, 'Eval Accuracy': 0.9537328481674194, 'Eval F1': 0.9473649859428406}\n"
     ]
    },
    {
     "data": {
      "application/vnd.jupyter.widget-view+json": {
       "model_id": "79c13a4cfe1b438cb8d88aa0a410421b",
       "version_major": 2,
       "version_minor": 0
      },
      "text/plain": [
       "  0%|          | 0/179 [00:00<?, ?it/s]"
      ]
     },
     "metadata": {},
     "output_type": "display_data"
    },
    {
     "data": {
      "application/vnd.jupyter.widget-view+json": {
       "model_id": "a98c5585f7f24dc8b171cc40e471382b",
       "version_major": 2,
       "version_minor": 0
      },
      "text/plain": [
       "  0%|          | 0/60 [00:00<?, ?it/s]"
      ]
     },
     "metadata": {},
     "output_type": "display_data"
    },
    {
     "name": "stdout",
     "output_type": "stream",
     "text": [
      "EPOCH: 12\n",
      "{'Train Loss': 0.011575912305864593, 'Train Accuracy': 0.9954401850700378, 'Train F1': 0.9935382604598999}\n",
      "{'Eval Loss': 0.13024350018301145, 'Eval Accuracy': 0.9516298174858093, 'Eval F1': 0.9456961154937744}\n"
     ]
    },
    {
     "data": {
      "application/vnd.jupyter.widget-view+json": {
       "model_id": "e6aef72324da4dc683fc5affcba6f83a",
       "version_major": 2,
       "version_minor": 0
      },
      "text/plain": [
       "  0%|          | 0/179 [00:00<?, ?it/s]"
      ]
     },
     "metadata": {},
     "output_type": "display_data"
    },
    {
     "data": {
      "application/vnd.jupyter.widget-view+json": {
       "model_id": "2f29ca481d6045df82aad2849792b35a",
       "version_major": 2,
       "version_minor": 0
      },
      "text/plain": [
       "  0%|          | 0/60 [00:00<?, ?it/s]"
      ]
     },
     "metadata": {},
     "output_type": "display_data"
    },
    {
     "name": "stdout",
     "output_type": "stream",
     "text": [
      "EPOCH: 13\n",
      "{'Train Loss': 0.023655902623843317, 'Train Accuracy': 0.9936864376068115, 'Train F1': 0.9934529066085815}\n",
      "{'Eval Loss': 0.1325066721959312, 'Eval Accuracy': 0.9631965756416321, 'Eval F1': 0.95680832862854}\n"
     ]
    },
    {
     "data": {
      "application/vnd.jupyter.widget-view+json": {
       "model_id": "9c5fdc9049c34387a25e94436465346a",
       "version_major": 2,
       "version_minor": 0
      },
      "text/plain": [
       "  0%|          | 0/179 [00:00<?, ?it/s]"
      ]
     },
     "metadata": {},
     "output_type": "display_data"
    },
    {
     "data": {
      "application/vnd.jupyter.widget-view+json": {
       "model_id": "68288f3f6fbd40359d870c1ebddf9ddf",
       "version_major": 2,
       "version_minor": 0
      },
      "text/plain": [
       "  0%|          | 0/60 [00:00<?, ?it/s]"
      ]
     },
     "metadata": {},
     "output_type": "display_data"
    },
    {
     "name": "stdout",
     "output_type": "stream",
     "text": [
      "EPOCH: 14\n",
      "{'Train Loss': 0.01534339628825725, 'Train Accuracy': 0.9961417317390442, 'Train F1': 0.9956860542297363}\n",
      "{'Eval Loss': 0.12316232947020277, 'Eval Accuracy': 0.9589904546737671, 'Eval F1': 0.9527356624603271}\n"
     ]
    },
    {
     "data": {
      "text/html": [
       "Waiting for W&B process to finish... <strong style=\"color:green\">(success).</strong>"
      ],
      "text/plain": [
       "<IPython.core.display.HTML object>"
      ]
     },
     "metadata": {},
     "output_type": "display_data"
    },
    {
     "data": {
      "application/vnd.jupyter.widget-view+json": {
       "model_id": "e5f97071627a491996ea98f200c5772e",
       "version_major": 2,
       "version_minor": 0
      },
      "text/plain": [
       "VBox(children=(Label(value='0.004 MB of 0.004 MB uploaded (0.000 MB deduped)\\r'), FloatProgress(value=1.0, max…"
      ]
     },
     "metadata": {},
     "output_type": "display_data"
    },
    {
     "data": {
      "text/html": [
       "<style>\n",
       "    table.wandb td:nth-child(1) { padding: 0 10px; text-align: left ; width: auto;} td:nth-child(2) {text-align: left ; width: 100%}\n",
       "    .wandb-row { display: flex; flex-direction: row; flex-wrap: wrap; justify-content: flex-start; width: 100% }\n",
       "    .wandb-col { display: flex; flex-direction: column; flex-basis: 100%; flex: 1; padding: 10px; }\n",
       "    </style>\n",
       "<div class=\"wandb-row\"><div class=\"wandb-col\"><h3>Run history:</h3><br/><table class=\"wandb\"><tr><td>Eval Accuracy</td><td>▁▃▆▇▆▅▇▇███████</td></tr><tr><td>Eval F1</td><td>▁▃▆▇▆▅▇▇███████</td></tr><tr><td>Eval Loss</td><td>█▆▃▂▂▄▁▂▁▁▁▁▁▁▁</td></tr><tr><td>Train Accuracy</td><td>▁▄▅▆▆▇▇▇███████</td></tr><tr><td>Train F1</td><td>▁▄▅▆▆▇▇▇███████</td></tr><tr><td>Train Loss</td><td>█▅▄▃▃▂▂▂▁▁▁▁▁▁▁</td></tr></table><br/></div><div class=\"wandb-col\"><h3>Run summary:</h3><br/><table class=\"wandb\"><tr><td>Eval Accuracy</td><td>0.95899</td></tr><tr><td>Eval F1</td><td>0.95274</td></tr><tr><td>Eval Loss</td><td>0.12316</td></tr><tr><td>Train Accuracy</td><td>0.99614</td></tr><tr><td>Train F1</td><td>0.99569</td></tr><tr><td>Train Loss</td><td>0.01534</td></tr></table><br/></div></div>"
      ],
      "text/plain": [
       "<IPython.core.display.HTML object>"
      ]
     },
     "metadata": {},
     "output_type": "display_data"
    },
    {
     "data": {
      "text/html": [
       "Synced <strong style=\"color:#cdcd00\">fold_1</strong>: <a href=\"https://wandb.ai/mlballs/car_classification_fold_1/runs/12b8mtv4\" target=\"_blank\">https://wandb.ai/mlballs/car_classification_fold_1/runs/12b8mtv4</a><br/>Synced 5 W&B file(s), 0 media file(s), 0 artifact file(s) and 0 other file(s)"
      ],
      "text/plain": [
       "<IPython.core.display.HTML object>"
      ]
     },
     "metadata": {},
     "output_type": "display_data"
    },
    {
     "data": {
      "text/html": [
       "Find logs at: <code>./wandb/run-20221114_023012-12b8mtv4/logs</code>"
      ],
      "text/plain": [
       "<IPython.core.display.HTML object>"
      ]
     },
     "metadata": {},
     "output_type": "display_data"
    },
    {
     "name": "stdout",
     "output_type": "stream",
     "text": [
      "FOLD 2\n",
      "--------------------------------\n"
     ]
    },
    {
     "data": {
      "application/vnd.jupyter.widget-view+json": {
       "model_id": "9de3d2293c2442a89e4062d47c75e4c9",
       "version_major": 2,
       "version_minor": 0
      },
      "text/plain": [
       "VBox(children=(Label(value='Waiting for wandb.init()...\\r'), FloatProgress(value=0.016668180616670726, max=1.0…"
      ]
     },
     "metadata": {},
     "output_type": "display_data"
    },
    {
     "data": {
      "text/html": [
       "Tracking run with wandb version 0.13.5"
      ],
      "text/plain": [
       "<IPython.core.display.HTML object>"
      ]
     },
     "metadata": {},
     "output_type": "display_data"
    },
    {
     "data": {
      "text/html": [
       "Run data is saved locally in <code>/home/leffff/PycharmProjects/rucode_6/a/wandb/run-20221114_023240-3vwawpa2</code>"
      ],
      "text/plain": [
       "<IPython.core.display.HTML object>"
      ]
     },
     "metadata": {},
     "output_type": "display_data"
    },
    {
     "data": {
      "text/html": [
       "Syncing run <strong><a href=\"https://wandb.ai/mlballs/car_classification_fold_2/runs/3vwawpa2\" target=\"_blank\">fold_2</a></strong> to <a href=\"https://wandb.ai/mlballs/car_classification_fold_2\" target=\"_blank\">Weights & Biases</a> (<a href=\"https://wandb.me/run\" target=\"_blank\">docs</a>)<br/>"
      ],
      "text/plain": [
       "<IPython.core.display.HTML object>"
      ]
     },
     "metadata": {},
     "output_type": "display_data"
    },
    {
     "data": {
      "application/vnd.jupyter.widget-view+json": {
       "model_id": "a1f8e31e5f574c1a8a2ccf40fe94f0be",
       "version_major": 2,
       "version_minor": 0
      },
      "text/plain": [
       "  0%|          | 0/179 [00:00<?, ?it/s]"
      ]
     },
     "metadata": {},
     "output_type": "display_data"
    },
    {
     "data": {
      "application/vnd.jupyter.widget-view+json": {
       "model_id": "9be754682c04422ab60fcd77bf97a0b5",
       "version_major": 2,
       "version_minor": 0
      },
      "text/plain": [
       "  0%|          | 0/60 [00:00<?, ?it/s]"
      ]
     },
     "metadata": {},
     "output_type": "display_data"
    },
    {
     "name": "stdout",
     "output_type": "stream",
     "text": [
      "EPOCH: 0\n",
      "{'Train Loss': 1.216193356743738, 'Train Accuracy': 0.5992286205291748, 'Train F1': 0.5537733435630798}\n",
      "{'Eval Loss': 0.9540216679374377, 'Eval Accuracy': 0.6526315212249756, 'Eval F1': 0.5990362763404846}\n"
     ]
    },
    {
     "data": {
      "application/vnd.jupyter.widget-view+json": {
       "model_id": "1a5714d101a14249a13157af56ce38ff",
       "version_major": 2,
       "version_minor": 0
      },
      "text/plain": [
       "  0%|          | 0/179 [00:00<?, ?it/s]"
      ]
     },
     "metadata": {},
     "output_type": "display_data"
    },
    {
     "data": {
      "application/vnd.jupyter.widget-view+json": {
       "model_id": "e63ea7c4e424446bbb0794eeb18b704a",
       "version_major": 2,
       "version_minor": 0
      },
      "text/plain": [
       "  0%|          | 0/60 [00:00<?, ?it/s]"
      ]
     },
     "metadata": {},
     "output_type": "display_data"
    },
    {
     "name": "stdout",
     "output_type": "stream",
     "text": [
      "EPOCH: 1\n",
      "{'Train Loss': 0.6462006387847096, 'Train Accuracy': 0.7784011363983154, 'Train F1': 0.7446829080581665}\n",
      "{'Eval Loss': 0.4714232883105675, 'Eval Accuracy': 0.8294736742973328, 'Eval F1': 0.7929366230964661}\n"
     ]
    },
    {
     "data": {
      "application/vnd.jupyter.widget-view+json": {
       "model_id": "8e2fbdfce9e64cef9a94baf54b831f46",
       "version_major": 2,
       "version_minor": 0
      },
      "text/plain": [
       "  0%|          | 0/179 [00:00<?, ?it/s]"
      ]
     },
     "metadata": {},
     "output_type": "display_data"
    },
    {
     "data": {
      "application/vnd.jupyter.widget-view+json": {
       "model_id": "0883704abd0b48d1b899373191b901c1",
       "version_major": 2,
       "version_minor": 0
      },
      "text/plain": [
       "  0%|          | 0/60 [00:00<?, ?it/s]"
      ]
     },
     "metadata": {},
     "output_type": "display_data"
    },
    {
     "name": "stdout",
     "output_type": "stream",
     "text": [
      "EPOCH: 2\n",
      "{'Train Loss': 0.4646601611904425, 'Train Accuracy': 0.833450198173523, 'Train F1': 0.8065221309661865}\n",
      "{'Eval Loss': 0.38928950888415176, 'Eval Accuracy': 0.8494736552238464, 'Eval F1': 0.7810969352722168}\n"
     ]
    },
    {
     "data": {
      "application/vnd.jupyter.widget-view+json": {
       "model_id": "f3c461ac56bd4f58b39f18c21d32296a",
       "version_major": 2,
       "version_minor": 0
      },
      "text/plain": [
       "  0%|          | 0/179 [00:00<?, ?it/s]"
      ]
     },
     "metadata": {},
     "output_type": "display_data"
    },
    {
     "data": {
      "application/vnd.jupyter.widget-view+json": {
       "model_id": "a089ddea1259412bacd2fb264b86340a",
       "version_major": 2,
       "version_minor": 0
      },
      "text/plain": [
       "  0%|          | 0/60 [00:00<?, ?it/s]"
      ]
     },
     "metadata": {},
     "output_type": "display_data"
    },
    {
     "name": "stdout",
     "output_type": "stream",
     "text": [
      "EPOCH: 3\n",
      "{'Train Loss': 0.3607943411240115, 'Train Accuracy': 0.8723702430725098, 'Train F1': 0.8468042016029358}\n",
      "{'Eval Loss': 0.39341923165290305, 'Eval Accuracy': 0.8536841869354248, 'Eval F1': 0.8315707445144653}\n"
     ]
    },
    {
     "data": {
      "application/vnd.jupyter.widget-view+json": {
       "model_id": "a99b3f764d0b4622ba025839556338df",
       "version_major": 2,
       "version_minor": 0
      },
      "text/plain": [
       "  0%|          | 0/179 [00:00<?, ?it/s]"
      ]
     },
     "metadata": {},
     "output_type": "display_data"
    },
    {
     "data": {
      "application/vnd.jupyter.widget-view+json": {
       "model_id": "21328491427a4c76b027245a0a5f1f85",
       "version_major": 2,
       "version_minor": 0
      },
      "text/plain": [
       "  0%|          | 0/60 [00:00<?, ?it/s]"
      ]
     },
     "metadata": {},
     "output_type": "display_data"
    },
    {
     "name": "stdout",
     "output_type": "stream",
     "text": [
      "EPOCH: 4\n",
      "{'Train Loss': 0.3043130622417718, 'Train Accuracy': 0.8934081196784973, 'Train F1': 0.8765314817428589}\n",
      "{'Eval Loss': 0.4109379732903714, 'Eval Accuracy': 0.8768420815467834, 'Eval F1': 0.8546889424324036}\n"
     ]
    },
    {
     "data": {
      "application/vnd.jupyter.widget-view+json": {
       "model_id": "392b8b82640b4940b5f4165856857fa2",
       "version_major": 2,
       "version_minor": 0
      },
      "text/plain": [
       "  0%|          | 0/179 [00:00<?, ?it/s]"
      ]
     },
     "metadata": {},
     "output_type": "display_data"
    },
    {
     "data": {
      "application/vnd.jupyter.widget-view+json": {
       "model_id": "28136690fce54c18adddcffca207a07c",
       "version_major": 2,
       "version_minor": 0
      },
      "text/plain": [
       "  0%|          | 0/60 [00:00<?, ?it/s]"
      ]
     },
     "metadata": {},
     "output_type": "display_data"
    },
    {
     "name": "stdout",
     "output_type": "stream",
     "text": [
      "EPOCH: 5\n",
      "{'Train Loss': 0.18798015550996422, 'Train Accuracy': 0.9235624074935913, 'Train F1': 0.9108206033706665}\n",
      "{'Eval Loss': 0.3538347419758793, 'Eval Accuracy': 0.8947368264198303, 'Eval F1': 0.8768051266670227}\n"
     ]
    },
    {
     "data": {
      "application/vnd.jupyter.widget-view+json": {
       "model_id": "70545a3ae8584a8dba26cca861659c57",
       "version_major": 2,
       "version_minor": 0
      },
      "text/plain": [
       "  0%|          | 0/179 [00:00<?, ?it/s]"
      ]
     },
     "metadata": {},
     "output_type": "display_data"
    },
    {
     "data": {
      "application/vnd.jupyter.widget-view+json": {
       "model_id": "11e730e6766e462c815be15f1c7efab9",
       "version_major": 2,
       "version_minor": 0
      },
      "text/plain": [
       "  0%|          | 0/60 [00:00<?, ?it/s]"
      ]
     },
     "metadata": {},
     "output_type": "display_data"
    },
    {
     "name": "stdout",
     "output_type": "stream",
     "text": [
      "EPOCH: 6\n",
      "{'Train Loss': 0.19237944332839838, 'Train Accuracy': 0.9382889270782471, 'Train F1': 0.9272258877754211}\n",
      "{'Eval Loss': 0.21520580561288322, 'Eval Accuracy': 0.9210525751113892, 'Eval F1': 0.9129036068916321}\n"
     ]
    },
    {
     "data": {
      "application/vnd.jupyter.widget-view+json": {
       "model_id": "00e12312e98a4de4b94fe42efe814151",
       "version_major": 2,
       "version_minor": 0
      },
      "text/plain": [
       "  0%|          | 0/179 [00:00<?, ?it/s]"
      ]
     },
     "metadata": {},
     "output_type": "display_data"
    },
    {
     "data": {
      "application/vnd.jupyter.widget-view+json": {
       "model_id": "16c6d5dbbd404f21ba6d33a0173bf174",
       "version_major": 2,
       "version_minor": 0
      },
      "text/plain": [
       "  0%|          | 0/60 [00:00<?, ?it/s]"
      ]
     },
     "metadata": {},
     "output_type": "display_data"
    },
    {
     "name": "stdout",
     "output_type": "stream",
     "text": [
      "EPOCH: 7\n",
      "{'Train Loss': 0.1157735050442907, 'Train Accuracy': 0.9586254954338074, 'Train F1': 0.9522827863693237}\n",
      "{'Eval Loss': 0.2030708511483681, 'Eval Accuracy': 0.9284210205078125, 'Eval F1': 0.9108445644378662}\n"
     ]
    },
    {
     "data": {
      "application/vnd.jupyter.widget-view+json": {
       "model_id": "82eb7f3e7b6a4ce9b876663d10fa7245",
       "version_major": 2,
       "version_minor": 0
      },
      "text/plain": [
       "  0%|          | 0/179 [00:00<?, ?it/s]"
      ]
     },
     "metadata": {},
     "output_type": "display_data"
    },
    {
     "data": {
      "application/vnd.jupyter.widget-view+json": {
       "model_id": "6f40d251b6a147588f3b189e160ec7a6",
       "version_major": 2,
       "version_minor": 0
      },
      "text/plain": [
       "  0%|          | 0/60 [00:00<?, ?it/s]"
      ]
     },
     "metadata": {},
     "output_type": "display_data"
    },
    {
     "name": "stdout",
     "output_type": "stream",
     "text": [
      "EPOCH: 8\n",
      "{'Train Loss': 0.07934103846012136, 'Train Accuracy': 0.972300112247467, 'Train F1': 0.9674448370933533}\n",
      "{'Eval Loss': 0.269803311280945, 'Eval Accuracy': 0.9273684024810791, 'Eval F1': 0.9194291830062866}\n"
     ]
    },
    {
     "data": {
      "application/vnd.jupyter.widget-view+json": {
       "model_id": "57856542b2874504a8774aecb5b44398",
       "version_major": 2,
       "version_minor": 0
      },
      "text/plain": [
       "  0%|          | 0/179 [00:00<?, ?it/s]"
      ]
     },
     "metadata": {},
     "output_type": "display_data"
    },
    {
     "data": {
      "application/vnd.jupyter.widget-view+json": {
       "model_id": "bd52479f841c4f9a9446abb0580d8c8a",
       "version_major": 2,
       "version_minor": 0
      },
      "text/plain": [
       "  0%|          | 0/60 [00:00<?, ?it/s]"
      ]
     },
     "metadata": {},
     "output_type": "display_data"
    },
    {
     "name": "stdout",
     "output_type": "stream",
     "text": [
      "EPOCH: 9\n",
      "{'Train Loss': 0.05606257334038064, 'Train Accuracy': 0.9810659289360046, 'Train F1': 0.9798194169998169}\n",
      "{'Eval Loss': 0.14302598053460922, 'Eval Accuracy': 0.9515789151191711, 'Eval F1': 0.9415123462677002}\n"
     ]
    },
    {
     "data": {
      "application/vnd.jupyter.widget-view+json": {
       "model_id": "c6dc2a74f48c41d48d2c9c1a79dad77d",
       "version_major": 2,
       "version_minor": 0
      },
      "text/plain": [
       "  0%|          | 0/179 [00:00<?, ?it/s]"
      ]
     },
     "metadata": {},
     "output_type": "display_data"
    },
    {
     "data": {
      "application/vnd.jupyter.widget-view+json": {
       "model_id": "2bb3e86e54cf41a69e327d7fedd6aacc",
       "version_major": 2,
       "version_minor": 0
      },
      "text/plain": [
       "  0%|          | 0/60 [00:00<?, ?it/s]"
      ]
     },
     "metadata": {},
     "output_type": "display_data"
    },
    {
     "name": "stdout",
     "output_type": "stream",
     "text": [
      "EPOCH: 10\n",
      "{'Train Loss': 0.037522837091217794, 'Train Accuracy': 0.9884291887283325, 'Train F1': 0.9875025749206543}\n",
      "{'Eval Loss': 0.17865765797587302, 'Eval Accuracy': 0.9473683834075928, 'Eval F1': 0.9426257610321045}\n"
     ]
    },
    {
     "data": {
      "application/vnd.jupyter.widget-view+json": {
       "model_id": "5cd865220a2b4d12978c99637442d366",
       "version_major": 2,
       "version_minor": 0
      },
      "text/plain": [
       "  0%|          | 0/179 [00:00<?, ?it/s]"
      ]
     },
     "metadata": {},
     "output_type": "display_data"
    },
    {
     "data": {
      "application/vnd.jupyter.widget-view+json": {
       "model_id": "473a5cbcc1a9468eb69e98799c6eff1b",
       "version_major": 2,
       "version_minor": 0
      },
      "text/plain": [
       "  0%|          | 0/60 [00:00<?, ?it/s]"
      ]
     },
     "metadata": {},
     "output_type": "display_data"
    },
    {
     "name": "stdout",
     "output_type": "stream",
     "text": [
      "EPOCH: 11\n",
      "{'Train Loss': 0.024346352730801768, 'Train Accuracy': 0.9901823401451111, 'Train F1': 0.9889352321624756}\n",
      "{'Eval Loss': 0.14449566257402088, 'Eval Accuracy': 0.9557894468307495, 'Eval F1': 0.9493106603622437}\n"
     ]
    },
    {
     "data": {
      "application/vnd.jupyter.widget-view+json": {
       "model_id": "b892d923a1a14e46aa5e49f745680e64",
       "version_major": 2,
       "version_minor": 0
      },
      "text/plain": [
       "  0%|          | 0/179 [00:00<?, ?it/s]"
      ]
     },
     "metadata": {},
     "output_type": "display_data"
    },
    {
     "data": {
      "application/vnd.jupyter.widget-view+json": {
       "model_id": "bd8884195f604a8780bfe3a22cd2165b",
       "version_major": 2,
       "version_minor": 0
      },
      "text/plain": [
       "  0%|          | 0/60 [00:00<?, ?it/s]"
      ]
     },
     "metadata": {},
     "output_type": "display_data"
    },
    {
     "name": "stdout",
     "output_type": "stream",
     "text": [
      "EPOCH: 12\n",
      "{'Train Loss': 0.02407959268595082, 'Train Accuracy': 0.9919354915618896, 'Train F1': 0.9917327165603638}\n",
      "{'Eval Loss': 0.1415605562874892, 'Eval Accuracy': 0.9578946828842163, 'Eval F1': 0.9516195058822632}\n"
     ]
    },
    {
     "data": {
      "application/vnd.jupyter.widget-view+json": {
       "model_id": "58260a8df93f43da9149813e4b44443a",
       "version_major": 2,
       "version_minor": 0
      },
      "text/plain": [
       "  0%|          | 0/179 [00:00<?, ?it/s]"
      ]
     },
     "metadata": {},
     "output_type": "display_data"
    },
    {
     "data": {
      "application/vnd.jupyter.widget-view+json": {
       "model_id": "b4ac3441c05444edaca5be725a20f878",
       "version_major": 2,
       "version_minor": 0
      },
      "text/plain": [
       "  0%|          | 0/60 [00:00<?, ?it/s]"
      ]
     },
     "metadata": {},
     "output_type": "display_data"
    },
    {
     "name": "stdout",
     "output_type": "stream",
     "text": [
      "EPOCH: 13\n",
      "{'Train Loss': 0.019171566817407965, 'Train Accuracy': 0.9936886429786682, 'Train F1': 0.9930331110954285}\n",
      "{'Eval Loss': 0.13942018512764964, 'Eval Accuracy': 0.9547367691993713, 'Eval F1': 0.9490979909896851}\n"
     ]
    },
    {
     "data": {
      "application/vnd.jupyter.widget-view+json": {
       "model_id": "0f3d40ad248d474a91dba986ab0c2076",
       "version_major": 2,
       "version_minor": 0
      },
      "text/plain": [
       "  0%|          | 0/179 [00:00<?, ?it/s]"
      ]
     },
     "metadata": {},
     "output_type": "display_data"
    },
    {
     "data": {
      "application/vnd.jupyter.widget-view+json": {
       "model_id": "14335b122da345488225076cf940d74c",
       "version_major": 2,
       "version_minor": 0
      },
      "text/plain": [
       "  0%|          | 0/60 [00:00<?, ?it/s]"
      ]
     },
     "metadata": {},
     "output_type": "display_data"
    },
    {
     "name": "stdout",
     "output_type": "stream",
     "text": [
      "EPOCH: 14\n",
      "{'Train Loss': 0.014358155902417359, 'Train Accuracy': 0.9957923889160156, 'Train F1': 0.9955132007598877}\n",
      "{'Eval Loss': 0.142611436743573, 'Eval Accuracy': 0.9557894468307495, 'Eval F1': 0.9490594863891602}\n"
     ]
    },
    {
     "data": {
      "text/html": [
       "Waiting for W&B process to finish... <strong style=\"color:green\">(success).</strong>"
      ],
      "text/plain": [
       "<IPython.core.display.HTML object>"
      ]
     },
     "metadata": {},
     "output_type": "display_data"
    },
    {
     "data": {
      "application/vnd.jupyter.widget-view+json": {
       "model_id": "f6f5d57a258648be97a33bfd15c93477",
       "version_major": 2,
       "version_minor": 0
      },
      "text/plain": [
       "VBox(children=(Label(value='0.004 MB of 0.004 MB uploaded (0.000 MB deduped)\\r'), FloatProgress(value=1.0, max…"
      ]
     },
     "metadata": {},
     "output_type": "display_data"
    },
    {
     "data": {
      "text/html": [
       "<style>\n",
       "    table.wandb td:nth-child(1) { padding: 0 10px; text-align: left ; width: auto;} td:nth-child(2) {text-align: left ; width: 100%}\n",
       "    .wandb-row { display: flex; flex-direction: row; flex-wrap: wrap; justify-content: flex-start; width: 100% }\n",
       "    .wandb-col { display: flex; flex-direction: column; flex-basis: 100%; flex: 1; padding: 10px; }\n",
       "    </style>\n",
       "<div class=\"wandb-row\"><div class=\"wandb-col\"><h3>Run history:</h3><br/><table class=\"wandb\"><tr><td>Eval Accuracy</td><td>▁▅▆▆▆▇▇▇▇██████</td></tr><tr><td>Eval F1</td><td>▁▅▅▆▆▇▇▇▇██████</td></tr><tr><td>Eval Loss</td><td>█▄▃▃▃▃▂▂▂▁▁▁▁▁▁</td></tr><tr><td>Train Accuracy</td><td>▁▄▅▆▆▇▇▇███████</td></tr><tr><td>Train F1</td><td>▁▄▅▆▆▇▇▇███████</td></tr><tr><td>Train Loss</td><td>█▅▄▃▃▂▂▂▁▁▁▁▁▁▁</td></tr></table><br/></div><div class=\"wandb-col\"><h3>Run summary:</h3><br/><table class=\"wandb\"><tr><td>Eval Accuracy</td><td>0.95579</td></tr><tr><td>Eval F1</td><td>0.94906</td></tr><tr><td>Eval Loss</td><td>0.14261</td></tr><tr><td>Train Accuracy</td><td>0.99579</td></tr><tr><td>Train F1</td><td>0.99551</td></tr><tr><td>Train Loss</td><td>0.01436</td></tr></table><br/></div></div>"
      ],
      "text/plain": [
       "<IPython.core.display.HTML object>"
      ]
     },
     "metadata": {},
     "output_type": "display_data"
    },
    {
     "data": {
      "text/html": [
       "Synced <strong style=\"color:#cdcd00\">fold_2</strong>: <a href=\"https://wandb.ai/mlballs/car_classification_fold_2/runs/3vwawpa2\" target=\"_blank\">https://wandb.ai/mlballs/car_classification_fold_2/runs/3vwawpa2</a><br/>Synced 5 W&B file(s), 0 media file(s), 0 artifact file(s) and 0 other file(s)"
      ],
      "text/plain": [
       "<IPython.core.display.HTML object>"
      ]
     },
     "metadata": {},
     "output_type": "display_data"
    },
    {
     "data": {
      "text/html": [
       "Find logs at: <code>./wandb/run-20221114_023240-3vwawpa2/logs</code>"
      ],
      "text/plain": [
       "<IPython.core.display.HTML object>"
      ]
     },
     "metadata": {},
     "output_type": "display_data"
    },
    {
     "name": "stdout",
     "output_type": "stream",
     "text": [
      "FOLD 3\n",
      "--------------------------------\n"
     ]
    },
    {
     "data": {
      "application/vnd.jupyter.widget-view+json": {
       "model_id": "41e47ba090fd491085b93c8267851ecb",
       "version_major": 2,
       "version_minor": 0
      },
      "text/plain": [
       "VBox(children=(Label(value='Waiting for wandb.init()...\\r'), FloatProgress(value=0.01666977741667021, max=1.0)…"
      ]
     },
     "metadata": {},
     "output_type": "display_data"
    },
    {
     "data": {
      "text/html": [
       "Tracking run with wandb version 0.13.5"
      ],
      "text/plain": [
       "<IPython.core.display.HTML object>"
      ]
     },
     "metadata": {},
     "output_type": "display_data"
    },
    {
     "data": {
      "text/html": [
       "Run data is saved locally in <code>/home/leffff/PycharmProjects/rucode_6/a/wandb/run-20221114_023508-3alzmvyr</code>"
      ],
      "text/plain": [
       "<IPython.core.display.HTML object>"
      ]
     },
     "metadata": {},
     "output_type": "display_data"
    },
    {
     "data": {
      "text/html": [
       "Syncing run <strong><a href=\"https://wandb.ai/mlballs/car_classification_fold_3/runs/3alzmvyr\" target=\"_blank\">fold_3</a></strong> to <a href=\"https://wandb.ai/mlballs/car_classification_fold_3\" target=\"_blank\">Weights & Biases</a> (<a href=\"https://wandb.me/run\" target=\"_blank\">docs</a>)<br/>"
      ],
      "text/plain": [
       "<IPython.core.display.HTML object>"
      ]
     },
     "metadata": {},
     "output_type": "display_data"
    },
    {
     "data": {
      "application/vnd.jupyter.widget-view+json": {
       "model_id": "8ecc147ead95488c97b63db532c49e2c",
       "version_major": 2,
       "version_minor": 0
      },
      "text/plain": [
       "  0%|          | 0/179 [00:00<?, ?it/s]"
      ]
     },
     "metadata": {},
     "output_type": "display_data"
    },
    {
     "data": {
      "application/vnd.jupyter.widget-view+json": {
       "model_id": "0470a550a30c4b7abd1dd13066642fb2",
       "version_major": 2,
       "version_minor": 0
      },
      "text/plain": [
       "  0%|          | 0/60 [00:00<?, ?it/s]"
      ]
     },
     "metadata": {},
     "output_type": "display_data"
    },
    {
     "name": "stdout",
     "output_type": "stream",
     "text": [
      "EPOCH: 0\n",
      "{'Train Loss': 1.269089275773344, 'Train Accuracy': 0.562762975692749, 'Train F1': 0.4888371229171753}\n",
      "{'Eval Loss': 0.7583236753940582, 'Eval Accuracy': 0.7505263090133667, 'Eval F1': 0.7183271646499634}\n"
     ]
    },
    {
     "data": {
      "application/vnd.jupyter.widget-view+json": {
       "model_id": "87fc2ecdbd6743eaaae5d75902fec63d",
       "version_major": 2,
       "version_minor": 0
      },
      "text/plain": [
       "  0%|          | 0/179 [00:00<?, ?it/s]"
      ]
     },
     "metadata": {},
     "output_type": "display_data"
    },
    {
     "data": {
      "application/vnd.jupyter.widget-view+json": {
       "model_id": "26579c86656849d3a167607bfb3f08dc",
       "version_major": 2,
       "version_minor": 0
      },
      "text/plain": [
       "  0%|          | 0/60 [00:00<?, ?it/s]"
      ]
     },
     "metadata": {},
     "output_type": "display_data"
    },
    {
     "name": "stdout",
     "output_type": "stream",
     "text": [
      "EPOCH: 1\n",
      "{'Train Loss': 0.6661682201330889, 'Train Accuracy': 0.7559607028961182, 'Train F1': 0.7102352380752563}\n",
      "{'Eval Loss': 1.2554156069954236, 'Eval Accuracy': 0.6315789222717285, 'Eval F1': 0.5894994735717773}\n"
     ]
    },
    {
     "data": {
      "application/vnd.jupyter.widget-view+json": {
       "model_id": "d1f4d1b55f304096b65652045c3b9b28",
       "version_major": 2,
       "version_minor": 0
      },
      "text/plain": [
       "  0%|          | 0/179 [00:00<?, ?it/s]"
      ]
     },
     "metadata": {},
     "output_type": "display_data"
    },
    {
     "data": {
      "application/vnd.jupyter.widget-view+json": {
       "model_id": "16e97f9f0bcb40fda0e587f708f851a3",
       "version_major": 2,
       "version_minor": 0
      },
      "text/plain": [
       "  0%|          | 0/60 [00:00<?, ?it/s]"
      ]
     },
     "metadata": {},
     "output_type": "display_data"
    },
    {
     "name": "stdout",
     "output_type": "stream",
     "text": [
      "EPOCH: 2\n",
      "{'Train Loss': 0.49786733217828766, 'Train Accuracy': 0.8194249868392944, 'Train F1': 0.7925637364387512}\n",
      "{'Eval Loss': 0.7507310620819528, 'Eval Accuracy': 0.7852631211280823, 'Eval F1': 0.7303613424301147}\n"
     ]
    },
    {
     "data": {
      "application/vnd.jupyter.widget-view+json": {
       "model_id": "8b21b6a8d8e94a9cb161de80b636d10d",
       "version_major": 2,
       "version_minor": 0
      },
      "text/plain": [
       "  0%|          | 0/179 [00:00<?, ?it/s]"
      ]
     },
     "metadata": {},
     "output_type": "display_data"
    },
    {
     "data": {
      "application/vnd.jupyter.widget-view+json": {
       "model_id": "41976adede47463cb93fb7639a4ed6da",
       "version_major": 2,
       "version_minor": 0
      },
      "text/plain": [
       "  0%|          | 0/60 [00:00<?, ?it/s]"
      ]
     },
     "metadata": {},
     "output_type": "display_data"
    },
    {
     "name": "stdout",
     "output_type": "stream",
     "text": [
      "EPOCH: 3\n",
      "{'Train Loss': 0.42433207823411045, 'Train Accuracy': 0.8492286205291748, 'Train F1': 0.8219056129455566}\n",
      "{'Eval Loss': 0.342473446795096, 'Eval Accuracy': 0.8389473557472229, 'Eval F1': 0.8207679986953735}\n"
     ]
    },
    {
     "data": {
      "application/vnd.jupyter.widget-view+json": {
       "model_id": "0fae5155ecb04120b4faf353b7896550",
       "version_major": 2,
       "version_minor": 0
      },
      "text/plain": [
       "  0%|          | 0/179 [00:00<?, ?it/s]"
      ]
     },
     "metadata": {},
     "output_type": "display_data"
    },
    {
     "data": {
      "application/vnd.jupyter.widget-view+json": {
       "model_id": "876d31fc038845ada78e1cb12cff3e9c",
       "version_major": 2,
       "version_minor": 0
      },
      "text/plain": [
       "  0%|          | 0/60 [00:00<?, ?it/s]"
      ]
     },
     "metadata": {},
     "output_type": "display_data"
    },
    {
     "name": "stdout",
     "output_type": "stream",
     "text": [
      "EPOCH: 4\n",
      "{'Train Loss': 0.2843249155749572, 'Train Accuracy': 0.8892005681991577, 'Train F1': 0.8691785931587219}\n",
      "{'Eval Loss': 0.1916252349736169, 'Eval Accuracy': 0.9168420433998108, 'Eval F1': 0.8861446976661682}\n"
     ]
    },
    {
     "data": {
      "application/vnd.jupyter.widget-view+json": {
       "model_id": "1ff333fa07ec4139bb852226db981970",
       "version_major": 2,
       "version_minor": 0
      },
      "text/plain": [
       "  0%|          | 0/179 [00:00<?, ?it/s]"
      ]
     },
     "metadata": {},
     "output_type": "display_data"
    },
    {
     "data": {
      "application/vnd.jupyter.widget-view+json": {
       "model_id": "deeb5792ebbd45aeafb5a8a86aa49f5a",
       "version_major": 2,
       "version_minor": 0
      },
      "text/plain": [
       "  0%|          | 0/60 [00:00<?, ?it/s]"
      ]
     },
     "metadata": {},
     "output_type": "display_data"
    },
    {
     "name": "stdout",
     "output_type": "stream",
     "text": [
      "EPOCH: 5\n",
      "{'Train Loss': 0.23133420928149853, 'Train Accuracy': 0.920406699180603, 'Train F1': 0.906629204750061}\n",
      "{'Eval Loss': 0.20703290279100958, 'Eval Accuracy': 0.9199999570846558, 'Eval F1': 0.9089107513427734}\n"
     ]
    },
    {
     "data": {
      "application/vnd.jupyter.widget-view+json": {
       "model_id": "22de78585d77419eb3845270eb9fc5b7",
       "version_major": 2,
       "version_minor": 0
      },
      "text/plain": [
       "  0%|          | 0/179 [00:00<?, ?it/s]"
      ]
     },
     "metadata": {},
     "output_type": "display_data"
    },
    {
     "data": {
      "application/vnd.jupyter.widget-view+json": {
       "model_id": "9034a0a355b548bb9ef715e69ea1089f",
       "version_major": 2,
       "version_minor": 0
      },
      "text/plain": [
       "  0%|          | 0/60 [00:00<?, ?it/s]"
      ]
     },
     "metadata": {},
     "output_type": "display_data"
    },
    {
     "name": "stdout",
     "output_type": "stream",
     "text": [
      "EPOCH: 6\n",
      "{'Train Loss': 0.16708277468569577, 'Train Accuracy': 0.9344319701194763, 'Train F1': 0.9227640628814697}\n",
      "{'Eval Loss': 0.14460995937600576, 'Eval Accuracy': 0.9505262970924377, 'Eval F1': 0.9451263546943665}\n"
     ]
    },
    {
     "data": {
      "application/vnd.jupyter.widget-view+json": {
       "model_id": "19523e97589b475398c3ecae7f788d5b",
       "version_major": 2,
       "version_minor": 0
      },
      "text/plain": [
       "  0%|          | 0/179 [00:00<?, ?it/s]"
      ]
     },
     "metadata": {},
     "output_type": "display_data"
    },
    {
     "data": {
      "application/vnd.jupyter.widget-view+json": {
       "model_id": "01cdaac804ab4486b40e4d213721489c",
       "version_major": 2,
       "version_minor": 0
      },
      "text/plain": [
       "  0%|          | 0/60 [00:00<?, ?it/s]"
      ]
     },
     "metadata": {},
     "output_type": "display_data"
    },
    {
     "name": "stdout",
     "output_type": "stream",
     "text": [
      "EPOCH: 7\n",
      "{'Train Loss': 0.11600688846057343, 'Train Accuracy': 0.95652174949646, 'Train F1': 0.9499514102935791}\n",
      "{'Eval Loss': 0.21864486304451322, 'Eval Accuracy': 0.9378947019577026, 'Eval F1': 0.9252363443374634}\n"
     ]
    },
    {
     "data": {
      "application/vnd.jupyter.widget-view+json": {
       "model_id": "7faa02015d6e42a6a4f100715c8416f6",
       "version_major": 2,
       "version_minor": 0
      },
      "text/plain": [
       "  0%|          | 0/179 [00:00<?, ?it/s]"
      ]
     },
     "metadata": {},
     "output_type": "display_data"
    },
    {
     "data": {
      "application/vnd.jupyter.widget-view+json": {
       "model_id": "452635e33f2c4bf199010aa5d5b03bc6",
       "version_major": 2,
       "version_minor": 0
      },
      "text/plain": [
       "  0%|          | 0/60 [00:00<?, ?it/s]"
      ]
     },
     "metadata": {},
     "output_type": "display_data"
    },
    {
     "name": "stdout",
     "output_type": "stream",
     "text": [
      "EPOCH: 8\n",
      "{'Train Loss': 0.0730227049686959, 'Train Accuracy': 0.9680925607681274, 'Train F1': 0.9617003798484802}\n",
      "{'Eval Loss': 0.19913122010305717, 'Eval Accuracy': 0.9368420839309692, 'Eval F1': 0.9325398206710815}\n"
     ]
    },
    {
     "data": {
      "application/vnd.jupyter.widget-view+json": {
       "model_id": "b8b5a5305b2e44f7a7903fc01953a2ff",
       "version_major": 2,
       "version_minor": 0
      },
      "text/plain": [
       "  0%|          | 0/179 [00:00<?, ?it/s]"
      ]
     },
     "metadata": {},
     "output_type": "display_data"
    },
    {
     "data": {
      "application/vnd.jupyter.widget-view+json": {
       "model_id": "2939440d4e4a42bb9247971a6c8f9f4c",
       "version_major": 2,
       "version_minor": 0
      },
      "text/plain": [
       "  0%|          | 0/60 [00:00<?, ?it/s]"
      ]
     },
     "metadata": {},
     "output_type": "display_data"
    },
    {
     "name": "stdout",
     "output_type": "stream",
     "text": [
      "EPOCH: 9\n",
      "{'Train Loss': 0.042988186343374674, 'Train Accuracy': 0.9828190803527832, 'Train F1': 0.9805868864059448}\n",
      "{'Eval Loss': 0.16921722938289652, 'Eval Accuracy': 0.9515789151191711, 'Eval F1': 0.9466652870178223}\n"
     ]
    },
    {
     "data": {
      "application/vnd.jupyter.widget-view+json": {
       "model_id": "3bbdd48731ff4b4596424b2bdbec08eb",
       "version_major": 2,
       "version_minor": 0
      },
      "text/plain": [
       "  0%|          | 0/179 [00:00<?, ?it/s]"
      ]
     },
     "metadata": {},
     "output_type": "display_data"
    },
    {
     "data": {
      "application/vnd.jupyter.widget-view+json": {
       "model_id": "5259237b6ed144788a11a9b41ead72ae",
       "version_major": 2,
       "version_minor": 0
      },
      "text/plain": [
       "  0%|          | 0/60 [00:00<?, ?it/s]"
      ]
     },
     "metadata": {},
     "output_type": "display_data"
    },
    {
     "name": "stdout",
     "output_type": "stream",
     "text": [
      "EPOCH: 10\n",
      "{'Train Loss': 0.033150562582923364, 'Train Accuracy': 0.9887797832489014, 'Train F1': 0.9863224029541016}\n",
      "{'Eval Loss': 0.1485904180218616, 'Eval Accuracy': 0.9610525965690613, 'Eval F1': 0.9563497304916382}\n"
     ]
    },
    {
     "data": {
      "application/vnd.jupyter.widget-view+json": {
       "model_id": "d524942112d94c7c90aae0ab4c623141",
       "version_major": 2,
       "version_minor": 0
      },
      "text/plain": [
       "  0%|          | 0/179 [00:00<?, ?it/s]"
      ]
     },
     "metadata": {},
     "output_type": "display_data"
    },
    {
     "data": {
      "application/vnd.jupyter.widget-view+json": {
       "model_id": "aa2e8da8e0d74aa2a0581cc08196c907",
       "version_major": 2,
       "version_minor": 0
      },
      "text/plain": [
       "  0%|          | 0/60 [00:00<?, ?it/s]"
      ]
     },
     "metadata": {},
     "output_type": "display_data"
    },
    {
     "name": "stdout",
     "output_type": "stream",
     "text": [
      "EPOCH: 11\n",
      "{'Train Loss': 0.018666497699462894, 'Train Accuracy': 0.9926367402076721, 'Train F1': 0.9910616278648376}\n",
      "{'Eval Loss': 0.1570683401843174, 'Eval Accuracy': 0.9578946828842163, 'Eval F1': 0.9536164999008179}\n"
     ]
    },
    {
     "data": {
      "application/vnd.jupyter.widget-view+json": {
       "model_id": "44436216527c4d83a02ac2fe63ff2b78",
       "version_major": 2,
       "version_minor": 0
      },
      "text/plain": [
       "  0%|          | 0/179 [00:00<?, ?it/s]"
      ]
     },
     "metadata": {},
     "output_type": "display_data"
    },
    {
     "data": {
      "application/vnd.jupyter.widget-view+json": {
       "model_id": "fa3dece78114426aa06bc3de09feea78",
       "version_major": 2,
       "version_minor": 0
      },
      "text/plain": [
       "  0%|          | 0/60 [00:00<?, ?it/s]"
      ]
     },
     "metadata": {},
     "output_type": "display_data"
    },
    {
     "name": "stdout",
     "output_type": "stream",
     "text": [
      "EPOCH: 12\n",
      "{'Train Loss': 0.016585983143524784, 'Train Accuracy': 0.9957923889160156, 'Train F1': 0.9949502944946289}\n",
      "{'Eval Loss': 0.1349813709775238, 'Eval Accuracy': 0.9599999785423279, 'Eval F1': 0.9570445418357849}\n"
     ]
    },
    {
     "data": {
      "application/vnd.jupyter.widget-view+json": {
       "model_id": "84862437aa65432aa67f5584707a92b6",
       "version_major": 2,
       "version_minor": 0
      },
      "text/plain": [
       "  0%|          | 0/179 [00:00<?, ?it/s]"
      ]
     },
     "metadata": {},
     "output_type": "display_data"
    },
    {
     "data": {
      "application/vnd.jupyter.widget-view+json": {
       "model_id": "b342e92fb4e145a7b324eb10d56ac052",
       "version_major": 2,
       "version_minor": 0
      },
      "text/plain": [
       "  0%|          | 0/60 [00:00<?, ?it/s]"
      ]
     },
     "metadata": {},
     "output_type": "display_data"
    },
    {
     "name": "stdout",
     "output_type": "stream",
     "text": [
      "EPOCH: 13\n",
      "{'Train Loss': 0.0106322869105599, 'Train Accuracy': 0.9936886429786682, 'Train F1': 0.9922493696212769}\n",
      "{'Eval Loss': 0.150082976309083, 'Eval Accuracy': 0.9610525965690613, 'Eval F1': 0.9590008854866028}\n"
     ]
    },
    {
     "data": {
      "application/vnd.jupyter.widget-view+json": {
       "model_id": "dc7e167f7706426ea6bbc03fc385e067",
       "version_major": 2,
       "version_minor": 0
      },
      "text/plain": [
       "  0%|          | 0/179 [00:00<?, ?it/s]"
      ]
     },
     "metadata": {},
     "output_type": "display_data"
    },
    {
     "data": {
      "application/vnd.jupyter.widget-view+json": {
       "model_id": "b51131f43a494eaaa3db64c895fe8fad",
       "version_major": 2,
       "version_minor": 0
      },
      "text/plain": [
       "  0%|          | 0/60 [00:00<?, ?it/s]"
      ]
     },
     "metadata": {},
     "output_type": "display_data"
    },
    {
     "name": "stdout",
     "output_type": "stream",
     "text": [
      "EPOCH: 14\n",
      "{'Train Loss': 0.008783793092014134, 'Train Accuracy': 0.9964936971664429, 'Train F1': 0.996343731880188}\n",
      "{'Eval Loss': 0.14270041909103384, 'Eval Accuracy': 0.9589473009109497, 'Eval F1': 0.9559458494186401}\n"
     ]
    },
    {
     "data": {
      "text/html": [
       "Waiting for W&B process to finish... <strong style=\"color:green\">(success).</strong>"
      ],
      "text/plain": [
       "<IPython.core.display.HTML object>"
      ]
     },
     "metadata": {},
     "output_type": "display_data"
    },
    {
     "data": {
      "application/vnd.jupyter.widget-view+json": {
       "model_id": "556b086b3c0a4355957c87f2321b3aab",
       "version_major": 2,
       "version_minor": 0
      },
      "text/plain": [
       "VBox(children=(Label(value='0.004 MB of 0.004 MB uploaded (0.000 MB deduped)\\r'), FloatProgress(value=1.0, max…"
      ]
     },
     "metadata": {},
     "output_type": "display_data"
    },
    {
     "data": {
      "text/html": [
       "<style>\n",
       "    table.wandb td:nth-child(1) { padding: 0 10px; text-align: left ; width: auto;} td:nth-child(2) {text-align: left ; width: 100%}\n",
       "    .wandb-row { display: flex; flex-direction: row; flex-wrap: wrap; justify-content: flex-start; width: 100% }\n",
       "    .wandb-col { display: flex; flex-direction: column; flex-basis: 100%; flex: 1; padding: 10px; }\n",
       "    </style>\n",
       "<div class=\"wandb-row\"><div class=\"wandb-col\"><h3>Run history:</h3><br/><table class=\"wandb\"><tr><td>Eval Accuracy</td><td>▄▁▄▅▇▇██▇██████</td></tr><tr><td>Eval F1</td><td>▃▁▄▅▇▇█▇▇██████</td></tr><tr><td>Eval Loss</td><td>▅█▅▂▁▁▁▂▁▁▁▁▁▁▁</td></tr><tr><td>Train Accuracy</td><td>▁▄▅▆▆▇▇▇███████</td></tr><tr><td>Train F1</td><td>▁▄▅▆▆▇▇▇███████</td></tr><tr><td>Train Loss</td><td>█▅▄▃▃▂▂▂▁▁▁▁▁▁▁</td></tr></table><br/></div><div class=\"wandb-col\"><h3>Run summary:</h3><br/><table class=\"wandb\"><tr><td>Eval Accuracy</td><td>0.95895</td></tr><tr><td>Eval F1</td><td>0.95595</td></tr><tr><td>Eval Loss</td><td>0.1427</td></tr><tr><td>Train Accuracy</td><td>0.99649</td></tr><tr><td>Train F1</td><td>0.99634</td></tr><tr><td>Train Loss</td><td>0.00878</td></tr></table><br/></div></div>"
      ],
      "text/plain": [
       "<IPython.core.display.HTML object>"
      ]
     },
     "metadata": {},
     "output_type": "display_data"
    },
    {
     "data": {
      "text/html": [
       "Synced <strong style=\"color:#cdcd00\">fold_3</strong>: <a href=\"https://wandb.ai/mlballs/car_classification_fold_3/runs/3alzmvyr\" target=\"_blank\">https://wandb.ai/mlballs/car_classification_fold_3/runs/3alzmvyr</a><br/>Synced 5 W&B file(s), 0 media file(s), 0 artifact file(s) and 0 other file(s)"
      ],
      "text/plain": [
       "<IPython.core.display.HTML object>"
      ]
     },
     "metadata": {},
     "output_type": "display_data"
    },
    {
     "data": {
      "text/html": [
       "Find logs at: <code>./wandb/run-20221114_023508-3alzmvyr/logs</code>"
      ],
      "text/plain": [
       "<IPython.core.display.HTML object>"
      ]
     },
     "metadata": {},
     "output_type": "display_data"
    }
   ],
   "source": [
    "cross_validation(project_name=\"car_classification\",\n",
    "                     model=model, \n",
    "                     dataset=train_dataset,\n",
    "                     strat_array=strat_array,\n",
    "                     loss_function=loss_function, \n",
    "                     device=torch.device(\"cuda\"),\n",
    "                     random_state=69, \n",
    "                     n_folds=4, \n",
    "                     epochs=15, \n",
    "                     lr=1e-4,\n",
    "                     start_fold=0, \n",
    "                     batch_size=16)"
   ]
  },
  {
   "cell_type": "code",
   "execution_count": 102,
   "metadata": {},
   "outputs": [],
   "source": [
    "for p in model.parameters():\n",
    "    if p.dim() > 1:\n",
    "        nn.init.xavier_uniform_(p)\n",
    "    else:\n",
    "        nn.init.normal_(p)"
   ]
  },
  {
   "cell_type": "code",
   "execution_count": 103,
   "metadata": {},
   "outputs": [
    {
     "data": {
      "application/vnd.jupyter.widget-view+json": {
       "model_id": "6368c09b7f264f01a63852cf762da5e8",
       "version_major": 2,
       "version_minor": 0
      },
      "text/plain": [
       "  0%|          | 0/238 [00:00<?, ?it/s]"
      ]
     },
     "metadata": {},
     "output_type": "display_data"
    },
    {
     "name": "stdout",
     "output_type": "stream",
     "text": [
      "EPOCH 0\n",
      "{'Train Loss': 1.4224906693987485, 'Train Accuracy': 0.5410310626029968, 'Train F1': 0.47948479652404785}\n"
     ]
    },
    {
     "data": {
      "application/vnd.jupyter.widget-view+json": {
       "model_id": "c57ebf8a081d479fa5dc9dbfae57ccc3",
       "version_major": 2,
       "version_minor": 0
      },
      "text/plain": [
       "  0%|          | 0/238 [00:00<?, ?it/s]"
      ]
     },
     "metadata": {},
     "output_type": "display_data"
    },
    {
     "name": "stdout",
     "output_type": "stream",
     "text": [
      "EPOCH 1\n",
      "{'Train Loss': 0.8717264978199446, 'Train Accuracy': 0.724881649017334, 'Train F1': 0.682211697101593}\n"
     ]
    },
    {
     "data": {
      "application/vnd.jupyter.widget-view+json": {
       "model_id": "4ccf572f39d540a18a333816f4918637",
       "version_major": 2,
       "version_minor": 0
      },
      "text/plain": [
       "  0%|          | 0/238 [00:00<?, ?it/s]"
      ]
     },
     "metadata": {},
     "output_type": "display_data"
    },
    {
     "name": "stdout",
     "output_type": "stream",
     "text": [
      "EPOCH 2\n",
      "{'Train Loss': 0.6325532395956146, 'Train Accuracy': 0.7961599230766296, 'Train F1': 0.762059211730957}\n"
     ]
    },
    {
     "data": {
      "application/vnd.jupyter.widget-view+json": {
       "model_id": "b915c22610414c68ab3eb443d9a0dac2",
       "version_major": 2,
       "version_minor": 0
      },
      "text/plain": [
       "  0%|          | 0/238 [00:00<?, ?it/s]"
      ]
     },
     "metadata": {},
     "output_type": "display_data"
    },
    {
     "name": "stdout",
     "output_type": "stream",
     "text": [
      "EPOCH 3\n",
      "{'Train Loss': 0.5345744930027726, 'Train Accuracy': 0.8237769603729248, 'Train F1': 0.7938148975372314}\n"
     ]
    },
    {
     "data": {
      "application/vnd.jupyter.widget-view+json": {
       "model_id": "c4c021c40d9941daaeeeadab169d3d79",
       "version_major": 2,
       "version_minor": 0
      },
      "text/plain": [
       "  0%|          | 0/238 [00:00<?, ?it/s]"
      ]
     },
     "metadata": {},
     "output_type": "display_data"
    },
    {
     "name": "stdout",
     "output_type": "stream",
     "text": [
      "EPOCH 4\n",
      "{'Train Loss': 0.42044572367043304, 'Train Accuracy': 0.853235125541687, 'Train F1': 0.8268512487411499}\n"
     ]
    },
    {
     "data": {
      "application/vnd.jupyter.widget-view+json": {
       "model_id": "5b68808b77c44707a4d19de2b3c93c3b",
       "version_major": 2,
       "version_minor": 0
      },
      "text/plain": [
       "  0%|          | 0/238 [00:00<?, ?it/s]"
      ]
     },
     "metadata": {},
     "output_type": "display_data"
    },
    {
     "name": "stdout",
     "output_type": "stream",
     "text": [
      "EPOCH 5\n",
      "{'Train Loss': 0.41331222095378056, 'Train Accuracy': 0.8677012324333191, 'Train F1': 0.8455914855003357}\n"
     ]
    },
    {
     "data": {
      "application/vnd.jupyter.widget-view+json": {
       "model_id": "2c8bf80f329249089290cd88da988448",
       "version_major": 2,
       "version_minor": 0
      },
      "text/plain": [
       "  0%|          | 0/238 [00:00<?, ?it/s]"
      ]
     },
     "metadata": {},
     "output_type": "display_data"
    },
    {
     "name": "stdout",
     "output_type": "stream",
     "text": [
      "EPOCH 6\n",
      "{'Train Loss': 0.29861516320193576, 'Train Accuracy': 0.9003156423568726, 'Train F1': 0.8824159502983093}\n"
     ]
    },
    {
     "data": {
      "application/vnd.jupyter.widget-view+json": {
       "model_id": "329a1cfb646846248fddf3004066bd6b",
       "version_major": 2,
       "version_minor": 0
      },
      "text/plain": [
       "  0%|          | 0/238 [00:00<?, ?it/s]"
      ]
     },
     "metadata": {},
     "output_type": "display_data"
    },
    {
     "name": "stdout",
     "output_type": "stream",
     "text": [
      "EPOCH 7\n",
      "{'Train Loss': 0.22874298493452214, 'Train Accuracy': 0.918463945388794, 'Train F1': 0.9056546092033386}\n"
     ]
    },
    {
     "data": {
      "application/vnd.jupyter.widget-view+json": {
       "model_id": "53bbf8dffc644e6f9fb2d02edcd8454a",
       "version_major": 2,
       "version_minor": 0
      },
      "text/plain": [
       "  0%|          | 0/238 [00:00<?, ?it/s]"
      ]
     },
     "metadata": {},
     "output_type": "display_data"
    },
    {
     "name": "stdout",
     "output_type": "stream",
     "text": [
      "EPOCH 8\n",
      "{'Train Loss': 0.15206423672962888, 'Train Accuracy': 0.9445028901100159, 'Train F1': 0.9356182813644409}\n"
     ]
    },
    {
     "data": {
      "application/vnd.jupyter.widget-view+json": {
       "model_id": "1d3947f54ca64859814a993e8fc0415e",
       "version_major": 2,
       "version_minor": 0
      },
      "text/plain": [
       "  0%|          | 0/238 [00:00<?, ?it/s]"
      ]
     },
     "metadata": {},
     "output_type": "display_data"
    },
    {
     "name": "stdout",
     "output_type": "stream",
     "text": [
      "EPOCH 9\n",
      "{'Train Loss': 0.13096436782262655, 'Train Accuracy': 0.9550237059593201, 'Train F1': 0.9498615264892578}\n"
     ]
    },
    {
     "data": {
      "application/vnd.jupyter.widget-view+json": {
       "model_id": "17febf7d77964d86aed520163fc1d0d1",
       "version_major": 2,
       "version_minor": 0
      },
      "text/plain": [
       "  0%|          | 0/238 [00:00<?, ?it/s]"
      ]
     },
     "metadata": {},
     "output_type": "display_data"
    },
    {
     "name": "stdout",
     "output_type": "stream",
     "text": [
      "EPOCH 10\n",
      "{'Train Loss': 0.0669852750541074, 'Train Accuracy': 0.9742240905761719, 'Train F1': 0.9694836139678955}\n"
     ]
    },
    {
     "data": {
      "application/vnd.jupyter.widget-view+json": {
       "model_id": "8881c9caefd04f5e9ed9036d7cb95b5e",
       "version_major": 2,
       "version_minor": 0
      },
      "text/plain": [
       "  0%|          | 0/238 [00:00<?, ?it/s]"
      ]
     },
     "metadata": {},
     "output_type": "display_data"
    },
    {
     "name": "stdout",
     "output_type": "stream",
     "text": [
      "EPOCH 11\n",
      "{'Train Loss': 0.05176696170475079, 'Train Accuracy': 0.9807995557785034, 'Train F1': 0.9775157570838928}\n"
     ]
    },
    {
     "data": {
      "application/vnd.jupyter.widget-view+json": {
       "model_id": "6b52da19da5346bbac2c615dfe2145a8",
       "version_major": 2,
       "version_minor": 0
      },
      "text/plain": [
       "  0%|          | 0/238 [00:00<?, ?it/s]"
      ]
     },
     "metadata": {},
     "output_type": "display_data"
    },
    {
     "name": "stdout",
     "output_type": "stream",
     "text": [
      "EPOCH 12\n",
      "{'Train Loss': 0.02293531569103689, 'Train Accuracy': 0.9897422194480896, 'Train F1': 0.9877159595489502}\n"
     ]
    },
    {
     "data": {
      "application/vnd.jupyter.widget-view+json": {
       "model_id": "a21bb9d7207b436c9d0bfecebd77c07e",
       "version_major": 2,
       "version_minor": 0
      },
      "text/plain": [
       "  0%|          | 0/238 [00:00<?, ?it/s]"
      ]
     },
     "metadata": {},
     "output_type": "display_data"
    },
    {
     "name": "stdout",
     "output_type": "stream",
     "text": [
      "EPOCH 13\n",
      "{'Train Loss': 0.0176871992144361, 'Train Accuracy': 0.9915834069252014, 'Train F1': 0.9903436899185181}\n"
     ]
    },
    {
     "data": {
      "application/vnd.jupyter.widget-view+json": {
       "model_id": "82794f09a634426daf248d603e41f0c9",
       "version_major": 2,
       "version_minor": 0
      },
      "text/plain": [
       "  0%|          | 0/238 [00:00<?, ?it/s]"
      ]
     },
     "metadata": {},
     "output_type": "display_data"
    },
    {
     "name": "stdout",
     "output_type": "stream",
     "text": [
      "EPOCH 14\n",
      "{'Train Loss': 0.017543350774338082, 'Train Accuracy': 0.9934245347976685, 'Train F1': 0.9930216073989868}\n"
     ]
    }
   ],
   "source": [
    "single_model(model, \n",
    "            train_dataset, \n",
    "            loss_function, \n",
    "            device = torch.device(\"cuda\"),\n",
    "            random_state = 69, \n",
    "            shuffle = True,\n",
    "            epochs = 15, \n",
    "            lr = 1e-4,\n",
    "            batch_size = 16,\n",
    ")"
   ]
  },
  {
   "cell_type": "code",
   "execution_count": 153,
   "metadata": {},
   "outputs": [],
   "source": [
    "def predict(model, device, root=f\"./data/public_test/\", transform=transforms):\n",
    "    model.eval()\n",
    "    model.to(device)\n",
    "    \n",
    "    preds = []\n",
    "    \n",
    "    img_files = sorted(os.listdir(root))\n",
    "    print(img_files)\n",
    "    for img_file in tqdm(img_files):\n",
    "        img_bgr = cv2.imread(root + img_file)\n",
    "        img_rgb = cv2.cvtColor(img_bgr, cv2.COLOR_BGR2RGB)\n",
    "        image = transform(img_rgb).to(device)\n",
    "        \n",
    "        with torch.no_grad():\n",
    "            pred = model(image.unsqueeze(dim=0)).argmax(dim=1).cpu().item()\n",
    "            preds.append(pred)\n",
    "            \n",
    "    return pd.Series(preds)"
   ]
  },
  {
   "cell_type": "code",
   "execution_count": 154,
   "metadata": {},
   "outputs": [
    {
     "name": "stdout",
     "output_type": "stream",
     "text": [
      "['0.jpg', '1.jpg', '10.jpg', '100.jpg', '1000.jpg', '1001.jpg', '1002.jpg', '1003.jpg', '1004.jpg', '1005.jpg', '1006.jpg', '1007.jpg', '1008.jpg', '1009.jpg', '101.jpg', '1010.jpg', '1011.jpg', '1012.jpg', '1013.jpg', '1014.jpg', '1015.jpg', '1016.jpg', '1017.jpg', '1018.jpg', '1019.jpg', '102.jpg', '1020.jpg', '1021.jpg', '1022.jpg', '1023.jpg', '1024.jpg', '1025.jpg', '1026.jpg', '1027.jpg', '1028.jpg', '1029.jpg', '103.jpg', '1030.jpg', '1031.jpg', '1032.jpg', '1033.jpg', '1034.jpg', '1035.jpg', '1036.jpg', '1037.jpg', '1038.jpg', '1039.jpg', '104.jpg', '1040.jpg', '1041.jpg', '1042.jpg', '1043.jpg', '1044.jpg', '1045.jpg', '1046.jpg', '1047.jpg', '1048.jpg', '1049.jpg', '105.jpg', '1050.jpg', '1051.jpg', '1052.jpg', '1053.jpg', '1054.jpg', '1055.jpg', '1056.jpg', '1057.jpg', '1058.jpg', '1059.jpg', '106.jpg', '1060.jpg', '1061.jpg', '1062.jpg', '1063.jpg', '1064.jpg', '1065.jpg', '1066.jpg', '1067.jpg', '1068.jpg', '1069.jpg', '107.jpg', '1070.jpg', '1071.jpg', '1072.jpg', '1073.jpg', '1074.jpg', '1075.jpg', '1076.jpg', '1077.jpg', '1078.jpg', '1079.jpg', '108.jpg', '1080.jpg', '1081.jpg', '1082.jpg', '1083.jpg', '1084.jpg', '1085.jpg', '1086.jpg', '1087.jpg', '1088.jpg', '1089.jpg', '109.jpg', '1090.jpg', '1091.jpg', '1092.jpg', '1093.jpg', '1094.jpg', '1095.jpg', '1096.jpg', '1097.jpg', '1098.jpg', '1099.jpg', '11.jpg', '110.jpg', '1100.jpg', '1101.jpg', '1102.jpg', '1103.jpg', '1104.jpg', '1105.jpg', '1106.jpg', '1107.jpg', '1108.jpg', '1109.jpg', '111.jpg', '1110.jpg', '1111.jpg', '1112.jpg', '1113.jpg', '1114.jpg', '1115.jpg', '1116.jpg', '1117.jpg', '1118.jpg', '1119.jpg', '112.jpg', '1120.jpg', '1121.jpg', '1122.jpg', '1123.jpg', '1124.jpg', '1125.jpg', '1126.jpg', '1127.jpg', '1128.jpg', '1129.jpg', '113.jpg', '1130.jpg', '1131.jpg', '1132.jpg', '1133.jpg', '1134.jpg', '1135.jpg', '1136.jpg', '1137.jpg', '1138.jpg', '1139.jpg', '114.jpg', '1140.jpg', '1141.jpg', '1142.jpg', '1143.jpg', '1144.jpg', '1145.jpg', '1146.jpg', '1147.jpg', '1148.jpg', '1149.jpg', '115.jpg', '1150.jpg', '1151.jpg', '1152.jpg', '1153.jpg', '1154.jpg', '1155.jpg', '1156.jpg', '1157.jpg', '1158.jpg', '1159.jpg', '116.jpg', '1160.jpg', '1161.jpg', '1162.jpg', '1163.jpg', '1164.jpg', '1165.jpg', '1166.jpg', '1167.jpg', '1168.jpg', '1169.jpg', '117.jpg', '1170.jpg', '1171.jpg', '1172.jpg', '1173.jpg', '1174.jpg', '1175.jpg', '1176.jpg', '1177.jpg', '1178.jpg', '1179.jpg', '118.jpg', '1180.jpg', '1181.jpg', '1182.jpg', '1183.jpg', '1184.jpg', '1185.jpg', '1186.jpg', '1187.jpg', '1188.jpg', '1189.jpg', '119.jpg', '1190.jpg', '1191.jpg', '1192.jpg', '1193.jpg', '1194.jpg', '1195.jpg', '1196.jpg', '1197.jpg', '1198.jpg', '1199.jpg', '12.jpg', '120.jpg', '1200.jpg', '1201.jpg', '1202.jpg', '1203.jpg', '1204.jpg', '1205.jpg', '1206.jpg', '1207.jpg', '1208.jpg', '1209.jpg', '121.jpg', '1210.jpg', '1211.jpg', '1212.jpg', '1213.jpg', '1214.jpg', '1215.jpg', '1216.jpg', '1217.jpg', '1218.jpg', '1219.jpg', '122.jpg', '1220.jpg', '1221.jpg', '1222.jpg', '1223.jpg', '1224.jpg', '1225.jpg', '1226.jpg', '1227.jpg', '1228.jpg', '1229.jpg', '123.jpg', '1230.jpg', '1231.jpg', '1232.jpg', '1233.jpg', '1234.jpg', '1235.jpg', '1236.jpg', '1237.jpg', '1238.jpg', '1239.jpg', '124.jpg', '1240.jpg', '1241.jpg', '1242.jpg', '1243.jpg', '1244.jpg', '1245.jpg', '1246.jpg', '1247.jpg', '1248.jpg', '1249.jpg', '125.jpg', '1250.jpg', '1251.jpg', '1252.jpg', '1253.jpg', '1254.jpg', '1255.jpg', '1256.jpg', '1257.jpg', '1258.jpg', '1259.jpg', '126.jpg', '1260.jpg', '1261.jpg', '1262.jpg', '1263.jpg', '1264.jpg', '1265.jpg', '1266.jpg', '1267.jpg', '1268.jpg', '1269.jpg', '127.jpg', '1270.jpg', '1271.jpg', '1272.jpg', '1273.jpg', '1274.jpg', '1275.jpg', '1276.jpg', '1277.jpg', '1278.jpg', '1279.jpg', '128.jpg', '1280.jpg', '1281.jpg', '1282.jpg', '1283.jpg', '1284.jpg', '1285.jpg', '1286.jpg', '1287.jpg', '1288.jpg', '1289.jpg', '129.jpg', '1290.jpg', '1291.jpg', '1292.jpg', '1293.jpg', '1294.jpg', '1295.jpg', '1296.jpg', '1297.jpg', '1298.jpg', '1299.jpg', '13.jpg', '130.jpg', '1300.jpg', '1301.jpg', '1302.jpg', '1303.jpg', '1304.jpg', '1305.jpg', '1306.jpg', '1307.jpg', '1308.jpg', '1309.jpg', '131.jpg', '1310.jpg', '1311.jpg', '1312.jpg', '1313.jpg', '1314.jpg', '1315.jpg', '1316.jpg', '1317.jpg', '1318.jpg', '1319.jpg', '132.jpg', '1320.jpg', '1321.jpg', '1322.jpg', '1323.jpg', '1324.jpg', '1325.jpg', '1326.jpg', '1327.jpg', '1328.jpg', '1329.jpg', '133.jpg', '1330.jpg', '1331.jpg', '1332.jpg', '1333.jpg', '1334.jpg', '1335.jpg', '1336.jpg', '1337.jpg', '1338.jpg', '1339.jpg', '134.jpg', '1340.jpg', '1341.jpg', '1342.jpg', '1343.jpg', '1344.jpg', '1345.jpg', '1346.jpg', '1347.jpg', '1348.jpg', '1349.jpg', '135.jpg', '1350.jpg', '1351.jpg', '1352.jpg', '1353.jpg', '1354.jpg', '1355.jpg', '1356.jpg', '1357.jpg', '1358.jpg', '1359.jpg', '136.jpg', '1360.jpg', '1361.jpg', '1362.jpg', '1363.jpg', '1364.jpg', '1365.jpg', '1366.jpg', '1367.jpg', '1368.jpg', '1369.jpg', '137.jpg', '1370.jpg', '1371.jpg', '1372.jpg', '1373.jpg', '1374.jpg', '1375.jpg', '1376.jpg', '1377.jpg', '1378.jpg', '1379.jpg', '138.jpg', '1380.jpg', '1381.jpg', '1382.jpg', '1383.jpg', '1384.jpg', '1385.jpg', '1386.jpg', '1387.jpg', '1388.jpg', '1389.jpg', '139.jpg', '1390.jpg', '1391.jpg', '1392.jpg', '1393.jpg', '1394.jpg', '1395.jpg', '1396.jpg', '1397.jpg', '1398.jpg', '1399.jpg', '14.jpg', '140.jpg', '1400.jpg', '1401.jpg', '1402.jpg', '1403.jpg', '1404.jpg', '1405.jpg', '1406.jpg', '1407.jpg', '1408.jpg', '1409.jpg', '141.jpg', '1410.jpg', '1411.jpg', '1412.jpg', '1413.jpg', '1414.jpg', '1415.jpg', '1416.jpg', '1417.jpg', '1418.jpg', '1419.jpg', '142.jpg', '1420.jpg', '1421.jpg', '1422.jpg', '1423.jpg', '1424.jpg', '1425.jpg', '1426.jpg', '1427.jpg', '1428.jpg', '1429.jpg', '143.jpg', '1430.jpg', '1431.jpg', '1432.jpg', '1433.jpg', '1434.jpg', '1435.jpg', '144.jpg', '145.jpg', '146.jpg', '147.jpg', '148.jpg', '149.jpg', '15.jpg', '150.jpg', '151.jpg', '152.jpg', '153.jpg', '154.jpg', '155.jpg', '156.jpg', '157.jpg', '158.jpg', '159.jpg', '16.jpg', '160.jpg', '161.jpg', '162.jpg', '163.jpg', '164.jpg', '165.jpg', '166.jpg', '167.jpg', '168.jpg', '169.jpg', '17.jpg', '170.jpg', '171.jpg', '172.jpg', '173.jpg', '174.jpg', '175.jpg', '176.jpg', '177.jpg', '178.jpg', '179.jpg', '18.jpg', '180.jpg', '181.jpg', '182.jpg', '183.jpg', '184.jpg', '185.jpg', '186.jpg', '187.jpg', '188.jpg', '189.jpg', '19.jpg', '190.jpg', '191.jpg', '192.jpg', '193.jpg', '194.jpg', '195.jpg', '196.jpg', '197.jpg', '198.jpg', '199.jpg', '2.jpg', '20.jpg', '200.jpg', '201.jpg', '202.jpg', '203.jpg', '204.jpg', '205.jpg', '206.jpg', '207.jpg', '208.jpg', '209.jpg', '21.jpg', '210.jpg', '211.jpg', '212.jpg', '213.jpg', '214.jpg', '215.jpg', '216.jpg', '217.jpg', '218.jpg', '219.jpg', '22.jpg', '220.jpg', '221.jpg', '222.jpg', '223.jpg', '224.jpg', '225.jpg', '226.jpg', '227.jpg', '228.jpg', '229.jpg', '23.jpg', '230.jpg', '231.jpg', '232.jpg', '233.jpg', '234.jpg', '235.jpg', '236.jpg', '237.jpg', '238.jpg', '239.jpg', '24.jpg', '240.jpg', '241.jpg', '242.jpg', '243.jpg', '244.jpg', '245.jpg', '246.jpg', '247.jpg', '248.jpg', '249.jpg', '25.jpg', '250.jpg', '251.jpg', '252.jpg', '253.jpg', '254.jpg', '255.jpg', '256.jpg', '257.jpg', '258.jpg', '259.jpg', '26.jpg', '260.jpg', '261.jpg', '262.jpg', '263.jpg', '264.jpg', '265.jpg', '266.jpg', '267.jpg', '268.jpg', '269.jpg', '27.jpg', '270.jpg', '271.jpg', '272.jpg', '273.jpg', '274.jpg', '275.jpg', '276.jpg', '277.jpg', '278.jpg', '279.jpg', '28.jpg', '280.jpg', '281.jpg', '282.jpg', '283.jpg', '284.jpg', '285.jpg', '286.jpg', '287.jpg', '288.jpg', '289.jpg', '29.jpg', '290.jpg', '291.jpg', '292.jpg', '293.jpg', '294.jpg', '295.jpg', '296.jpg', '297.jpg', '298.jpg', '299.jpg', '3.jpg', '30.jpg', '300.jpg', '301.jpg', '302.jpg', '303.jpg', '304.jpg', '305.jpg', '306.jpg', '307.jpg', '308.jpg', '309.jpg', '31.jpg', '310.jpg', '311.jpg', '312.jpg', '313.jpg', '314.jpg', '315.jpg', '316.jpg', '317.jpg', '318.jpg', '319.jpg', '32.jpg', '320.jpg', '321.jpg', '322.jpg', '323.jpg', '324.jpg', '325.jpg', '326.jpg', '327.jpg', '328.jpg', '329.jpg', '33.jpg', '330.jpg', '331.jpg', '332.jpg', '333.jpg', '334.jpg', '335.jpg', '336.jpg', '337.jpg', '338.jpg', '339.jpg', '34.jpg', '340.jpg', '341.jpg', '342.jpg', '343.jpg', '344.jpg', '345.jpg', '346.jpg', '347.jpg', '348.jpg', '349.jpg', '35.jpg', '350.jpg', '351.jpg', '352.jpg', '353.jpg', '354.jpg', '355.jpg', '356.jpg', '357.jpg', '358.jpg', '359.jpg', '36.jpg', '360.jpg', '361.jpg', '362.jpg', '363.jpg', '364.jpg', '365.jpg', '366.jpg', '367.jpg', '368.jpg', '369.jpg', '37.jpg', '370.jpg', '371.jpg', '372.jpg', '373.jpg', '374.jpg', '375.jpg', '376.jpg', '377.jpg', '378.jpg', '379.jpg', '38.jpg', '380.jpg', '381.jpg', '382.jpg', '383.jpg', '384.jpg', '385.jpg', '386.jpg', '387.jpg', '388.jpg', '389.jpg', '39.jpg', '390.jpg', '391.jpg', '392.jpg', '393.jpg', '394.jpg', '395.jpg', '396.jpg', '397.jpg', '398.jpg', '399.jpg', '4.jpg', '40.jpg', '400.jpg', '401.jpg', '402.jpg', '403.jpg', '404.jpg', '405.jpg', '406.jpg', '407.jpg', '408.jpg', '409.jpg', '41.jpg', '410.jpg', '411.jpg', '412.jpg', '413.jpg', '414.jpg', '415.jpg', '416.jpg', '417.jpg', '418.jpg', '419.jpg', '42.jpg', '420.jpg', '421.jpg', '422.jpg', '423.jpg', '424.jpg', '425.jpg', '426.jpg', '427.jpg', '428.jpg', '429.jpg', '43.jpg', '430.jpg', '431.jpg', '432.jpg', '433.jpg', '434.jpg', '435.jpg', '436.jpg', '437.jpg', '438.jpg', '439.jpg', '44.jpg', '440.jpg', '441.jpg', '442.jpg', '443.jpg', '444.jpg', '445.jpg', '446.jpg', '447.jpg', '448.jpg', '449.jpg', '45.jpg', '450.jpg', '451.jpg', '452.jpg', '453.jpg', '454.jpg', '455.jpg', '456.jpg', '457.jpg', '458.jpg', '459.jpg', '46.jpg', '460.jpg', '461.jpg', '462.jpg', '463.jpg', '464.jpg', '465.jpg', '466.jpg', '467.jpg', '468.jpg', '469.jpg', '47.jpg', '470.jpg', '471.jpg', '472.jpg', '473.jpg', '474.jpg', '475.jpg', '476.jpg', '477.jpg', '478.jpg', '479.jpg', '48.jpg', '480.jpg', '481.jpg', '482.jpg', '483.jpg', '484.jpg', '485.jpg', '486.jpg', '487.jpg', '488.jpg', '489.jpg', '49.jpg', '490.jpg', '491.jpg', '492.jpg', '493.jpg', '494.jpg', '495.jpg', '496.jpg', '497.jpg', '498.jpg', '499.jpg', '5.jpg', '50.jpg', '500.jpg', '501.jpg', '502.jpg', '503.jpg', '504.jpg', '505.jpg', '506.jpg', '507.jpg', '508.jpg', '509.jpg', '51.jpg', '510.jpg', '511.jpg', '512.jpg', '513.jpg', '514.jpg', '515.jpg', '516.jpg', '517.jpg', '518.jpg', '519.jpg', '52.jpg', '520.jpg', '521.jpg', '522.jpg', '523.jpg', '524.jpg', '525.jpg', '526.jpg', '527.jpg', '528.jpg', '529.jpg', '53.jpg', '530.jpg', '531.jpg', '532.jpg', '533.jpg', '534.jpg', '535.jpg', '536.jpg', '537.jpg', '538.jpg', '539.jpg', '54.jpg', '540.jpg', '541.jpg', '542.jpg', '543.jpg', '544.jpg', '545.jpg', '546.jpg', '547.jpg', '548.jpg', '549.jpg', '55.jpg', '550.jpg', '551.jpg', '552.jpg', '553.jpg', '554.jpg', '555.jpg', '556.jpg', '557.jpg', '558.jpg', '559.jpg', '56.jpg', '560.jpg', '561.jpg', '562.jpg', '563.jpg', '564.jpg', '565.jpg', '566.jpg', '567.jpg', '568.jpg', '569.jpg', '57.jpg', '570.jpg', '571.jpg', '572.jpg', '573.jpg', '574.jpg', '575.jpg', '576.jpg', '577.jpg', '578.jpg', '579.jpg', '58.jpg', '580.jpg', '581.jpg', '582.jpg', '583.jpg', '584.jpg', '585.jpg', '586.jpg', '587.jpg', '588.jpg', '589.jpg', '59.jpg', '590.jpg', '591.jpg', '592.jpg', '593.jpg', '594.jpg', '595.jpg', '596.jpg', '597.jpg', '598.jpg', '599.jpg', '6.jpg', '60.jpg', '600.jpg', '601.jpg', '602.jpg', '603.jpg', '604.jpg', '605.jpg', '606.jpg', '607.jpg', '608.jpg', '609.jpg', '61.jpg', '610.jpg', '611.jpg', '612.jpg', '613.jpg', '614.jpg', '615.jpg', '616.jpg', '617.jpg', '618.jpg', '619.jpg', '62.jpg', '620.jpg', '621.jpg', '622.jpg', '623.jpg', '624.jpg', '625.jpg', '626.jpg', '627.jpg', '628.jpg', '629.jpg', '63.jpg', '630.jpg', '631.jpg', '632.jpg', '633.jpg', '634.jpg', '635.jpg', '636.jpg', '637.jpg', '638.jpg', '639.jpg', '64.jpg', '640.jpg', '641.jpg', '642.jpg', '643.jpg', '644.jpg', '645.jpg', '646.jpg', '647.jpg', '648.jpg', '649.jpg', '65.jpg', '650.jpg', '651.jpg', '652.jpg', '653.jpg', '654.jpg', '655.jpg', '656.jpg', '657.jpg', '658.jpg', '659.jpg', '66.jpg', '660.jpg', '661.jpg', '662.jpg', '663.jpg', '664.jpg', '665.jpg', '666.jpg', '667.jpg', '668.jpg', '669.jpg', '67.jpg', '670.jpg', '671.jpg', '672.jpg', '673.jpg', '674.jpg', '675.jpg', '676.jpg', '677.jpg', '678.jpg', '679.jpg', '68.jpg', '680.jpg', '681.jpg', '682.jpg', '683.jpg', '684.jpg', '685.jpg', '686.jpg', '687.jpg', '688.jpg', '689.jpg', '69.jpg', '690.jpg', '691.jpg', '692.jpg', '693.jpg', '694.jpg', '695.jpg', '696.jpg', '697.jpg', '698.jpg', '699.jpg', '7.jpg', '70.jpg', '700.jpg', '701.jpg', '702.jpg', '703.jpg', '704.jpg', '705.jpg', '706.jpg', '707.jpg', '708.jpg', '709.jpg', '71.jpg', '710.jpg', '711.jpg', '712.jpg', '713.jpg', '714.jpg', '715.jpg', '716.jpg', '717.jpg', '718.jpg', '719.jpg', '72.jpg', '720.jpg', '721.jpg', '722.jpg', '723.jpg', '724.jpg', '725.jpg', '726.jpg', '727.jpg', '728.jpg', '729.jpg', '73.jpg', '730.jpg', '731.jpg', '732.jpg', '733.jpg', '734.jpg', '735.jpg', '736.jpg', '737.jpg', '738.jpg', '739.jpg', '74.jpg', '740.jpg', '741.jpg', '742.jpg', '743.jpg', '744.jpg', '745.jpg', '746.jpg', '747.jpg', '748.jpg', '749.jpg', '75.jpg', '750.jpg', '751.jpg', '752.jpg', '753.jpg', '754.jpg', '755.jpg', '756.jpg', '757.jpg', '758.jpg', '759.jpg', '76.jpg', '760.jpg', '761.jpg', '762.jpg', '763.jpg', '764.jpg', '765.jpg', '766.jpg', '767.jpg', '768.jpg', '769.jpg', '77.jpg', '770.jpg', '771.jpg', '772.jpg', '773.jpg', '774.jpg', '775.jpg', '776.jpg', '777.jpg', '778.jpg', '779.jpg', '78.jpg', '780.jpg', '781.jpg', '782.jpg', '783.jpg', '784.jpg', '785.jpg', '786.jpg', '787.jpg', '788.jpg', '789.jpg', '79.jpg', '790.jpg', '791.jpg', '792.jpg', '793.jpg', '794.jpg', '795.jpg', '796.jpg', '797.jpg', '798.jpg', '799.jpg', '8.jpg', '80.jpg', '800.jpg', '801.jpg', '802.jpg', '803.jpg', '804.jpg', '805.jpg', '806.jpg', '807.jpg', '808.jpg', '809.jpg', '81.jpg', '810.jpg', '811.jpg', '812.jpg', '813.jpg', '814.jpg', '815.jpg', '816.jpg', '817.jpg', '818.jpg', '819.jpg', '82.jpg', '820.jpg', '821.jpg', '822.jpg', '823.jpg', '824.jpg', '825.jpg', '826.jpg', '827.jpg', '828.jpg', '829.jpg', '83.jpg', '830.jpg', '831.jpg', '832.jpg', '833.jpg', '834.jpg', '835.jpg', '836.jpg', '837.jpg', '838.jpg', '839.jpg', '84.jpg', '840.jpg', '841.jpg', '842.jpg', '843.jpg', '844.jpg', '845.jpg', '846.jpg', '847.jpg', '848.jpg', '849.jpg', '85.jpg', '850.jpg', '851.jpg', '852.jpg', '853.jpg', '854.jpg', '855.jpg', '856.jpg', '857.jpg', '858.jpg', '859.jpg', '86.jpg', '860.jpg', '861.jpg', '862.jpg', '863.jpg', '864.jpg', '865.jpg', '866.jpg', '867.jpg', '868.jpg', '869.jpg', '87.jpg', '870.jpg', '871.jpg', '872.jpg', '873.jpg', '874.jpg', '875.jpg', '876.jpg', '877.jpg', '878.jpg', '879.jpg', '88.jpg', '880.jpg', '881.jpg', '882.jpg', '883.jpg', '884.jpg', '885.jpg', '886.jpg', '887.jpg', '888.jpg', '889.jpg', '89.jpg', '890.jpg', '891.jpg', '892.jpg', '893.jpg', '894.jpg', '895.jpg', '896.jpg', '897.jpg', '898.jpg', '899.jpg', '9.jpg', '90.jpg', '900.jpg', '901.jpg', '902.jpg', '903.jpg', '904.jpg', '905.jpg', '906.jpg', '907.jpg', '908.jpg', '909.jpg', '91.jpg', '910.jpg', '911.jpg', '912.jpg', '913.jpg', '914.jpg', '915.jpg', '916.jpg', '917.jpg', '918.jpg', '919.jpg', '92.jpg', '920.jpg', '921.jpg', '922.jpg', '923.jpg', '924.jpg', '925.jpg', '926.jpg', '927.jpg', '928.jpg', '929.jpg', '93.jpg', '930.jpg', '931.jpg', '932.jpg', '933.jpg', '934.jpg', '935.jpg', '936.jpg', '937.jpg', '938.jpg', '939.jpg', '94.jpg', '940.jpg', '941.jpg', '942.jpg', '943.jpg', '944.jpg', '945.jpg', '946.jpg', '947.jpg', '948.jpg', '949.jpg', '95.jpg', '950.jpg', '951.jpg', '952.jpg', '953.jpg', '954.jpg', '955.jpg', '956.jpg', '957.jpg', '958.jpg', '959.jpg', '96.jpg', '960.jpg', '961.jpg', '962.jpg', '963.jpg', '964.jpg', '965.jpg', '966.jpg', '967.jpg', '968.jpg', '969.jpg', '97.jpg', '970.jpg', '971.jpg', '972.jpg', '973.jpg', '974.jpg', '975.jpg', '976.jpg', '977.jpg', '978.jpg', '979.jpg', '98.jpg', '980.jpg', '981.jpg', '982.jpg', '983.jpg', '984.jpg', '985.jpg', '986.jpg', '987.jpg', '988.jpg', '989.jpg', '99.jpg', '990.jpg', '991.jpg', '992.jpg', '993.jpg', '994.jpg', '995.jpg', '996.jpg', '997.jpg', '998.jpg', '999.jpg']\n"
     ]
    },
    {
     "data": {
      "application/vnd.jupyter.widget-view+json": {
       "model_id": "1a39da65b21f4b7782615ecb13852b81",
       "version_major": 2,
       "version_minor": 0
      },
      "text/plain": [
       "  0%|          | 0/1436 [00:00<?, ?it/s]"
      ]
     },
     "metadata": {},
     "output_type": "display_data"
    }
   ],
   "source": [
    "preds = predict(model, device=torch.device(\"cuda\"), root=f\"./data/public_test/\", transform=transforms)"
   ]
  },
  {
   "cell_type": "code",
   "execution_count": 155,
   "metadata": {},
   "outputs": [],
   "source": [
    "preds = preds.apply(lambda x: train_dataset.classes[x])"
   ]
  },
  {
   "cell_type": "code",
   "execution_count": 156,
   "metadata": {},
   "outputs": [],
   "source": [
    "preds.to_csv(\"baseline_submission.csv\", index=False)"
   ]
  },
  {
   "cell_type": "code",
   "execution_count": null,
   "metadata": {},
   "outputs": [],
   "source": []
  }
 ],
 "metadata": {
  "colab": {
   "authorship_tag": "ABX9TyNegCHDBaahl+Ne/cBGwqh0",
   "collapsed_sections": [],
   "private_outputs": true,
   "provenance": []
  },
  "kernelspec": {
   "display_name": "Python 3 (ipykernel)",
   "language": "python",
   "name": "python3"
  },
  "language_info": {
   "codemirror_mode": {
    "name": "ipython",
    "version": 3
   },
   "file_extension": ".py",
   "mimetype": "text/x-python",
   "name": "python",
   "nbconvert_exporter": "python",
   "pygments_lexer": "ipython3",
   "version": "3.10.6"
  }
 },
 "nbformat": 4,
 "nbformat_minor": 1
}
