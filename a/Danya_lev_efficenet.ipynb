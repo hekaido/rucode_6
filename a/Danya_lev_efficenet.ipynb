{
  "cells": [
    {
      "cell_type": "code",
      "source": [
        "!pip install torchmetrics"
      ],
      "metadata": {
        "id": "98Q8X6e5uvuJ"
      },
      "execution_count": null,
      "outputs": []
    },
    {
      "cell_type": "code",
      "source": [
        "!pip install MADGRAD"
      ],
      "metadata": {
        "id": "QXEuJh5NwMd9"
      },
      "execution_count": null,
      "outputs": []
    },
    {
      "cell_type": "code",
      "source": [
        "!pip install transformers"
      ],
      "metadata": {
        "id": "4Lmb2rCHwOn0"
      },
      "execution_count": null,
      "outputs": []
    },
    {
      "cell_type": "code",
      "execution_count": null,
      "metadata": {
        "id": "lyTAfsc6PwYV"
      },
      "outputs": [],
      "source": [
        "import sys\n",
        "import os\n",
        "import gc\n",
        "import warnings\n",
        "import random\n",
        "from copy import deepcopy\n",
        "import random\n",
        "import math\n",
        "\n",
        "import pandas as pd\n",
        "import numpy as np\n",
        "import seaborn as sns\n",
        "import matplotlib.pyplot as plt\n",
        "\n",
        "import torch\n",
        "import torchvision\n",
        "from torch import nn\n",
        "import torch.nn.functional as F\n",
        "from torch.nn import Parameter\n",
        "from torch.utils.data import Dataset, DataLoader\n",
        "from madgrad import MADGRAD, MirrorMADGRAD\n",
        "from torch.optim import AdamW\n",
        "from transformers import (\n",
        "    get_constant_schedule,\n",
        "    get_constant_schedule_with_warmup,\n",
        "    get_cosine_schedule_with_warmup,\n",
        "    get_cosine_with_hard_restarts_schedule_with_warmup,\n",
        "    get_linear_schedule_with_warmup,\n",
        "    get_polynomial_decay_schedule_with_warmup\n",
        ")\n",
        "import cv2\n",
        "from torchmetrics import F1Score\n",
        "from PIL import Image\n",
        "from sklearn.model_selection import StratifiedKFold, KFold\n",
        "    \n",
        "from tqdm.notebook import tqdm\n",
        "\n",
        "warnings.filterwarnings(\"ignore\")\n",
        "tqdm.pandas()"
      ]
    },
    {
      "cell_type": "code",
      "execution_count": null,
      "metadata": {
        "id": "pSMMo28UPija"
      },
      "outputs": [],
      "source": [
        "PROJECT_DIR = \"/content/drive/MyDrive/a\""
      ]
    },
    {
      "cell_type": "code",
      "source": [
        "!unzip /content/drive/MyDrive/a/model/model.zip -d /content/model"
      ],
      "metadata": {
        "id": "X4G_LrEL1hM8"
      },
      "execution_count": null,
      "outputs": []
    },
    {
      "cell_type": "code",
      "source": [
        "from google.colab import drive\n",
        "drive.mount('/content/drive')"
      ],
      "metadata": {
        "id": "UTtZZ1kxvki4"
      },
      "execution_count": null,
      "outputs": []
    },
    {
      "cell_type": "markdown",
      "metadata": {
        "id": "Avpm7R4pykVC"
      },
      "source": [
        "# EDA"
      ]
    },
    {
      "cell_type": "code",
      "execution_count": null,
      "metadata": {
        "id": "Db9Othg-yj3p"
      },
      "outputs": [],
      "source": [
        "classes = ['Red', 'Green', 'Violet', 'White', 'Yellow', 'Brown', 'Black', 'Blue', 'Cyan', 'Grey', 'Orange']\n",
        "counts = []\n",
        "for class_name in classes:\n",
        "    counts.append(len(os.listdir(f\"{PROJECT_DIR}/data/train/{class_name}\")))"
      ]
    },
    {
      "cell_type": "code",
      "execution_count": null,
      "metadata": {
        "id": "NKYJqqDcCeeM",
        "scrolled": true
      },
      "outputs": [],
      "source": [
        "sns.barplot(classes, counts, palette=classes)"
      ]
    },
    {
      "cell_type": "markdown",
      "metadata": {
        "id": "BdUV3bfmymd6"
      },
      "source": [
        "# Dataset"
      ]
    },
    {
      "cell_type": "code",
      "execution_count": null,
      "metadata": {
        "id": "VoILmz40uQXX"
      },
      "outputs": [],
      "source": [
        "mean = [0.485, 0.456, 0.406]\n",
        "std = [0.229, 0.224, 0.225]\n",
        "\n",
        "transforms=torchvision.transforms.Compose([\n",
        "    torchvision.transforms.ToTensor(),\n",
        "    torchvision.transforms.Resize(size=(256,256)),\n",
        "    torchvision.transforms.Lambda(lambda a: a / 255),\n",
        "#     torchvision.transforms.Normalize(mean, std)\n",
        "])"
      ]
    },
    {
      "cell_type": "code",
      "execution_count": null,
      "metadata": {
        "id": "phU8SYNivC1W"
      },
      "outputs": [],
      "source": [
        "train_dataset = torchvision.datasets.ImageFolder(f\"{PROJECT_DIR}/data/train\", transform=transforms)"
      ]
    },
    {
      "cell_type": "code",
      "execution_count": null,
      "metadata": {
        "id": "0tQueI_RuQXY"
      },
      "outputs": [],
      "source": [
        "train_dataset.classes"
      ]
    },
    {
      "cell_type": "markdown",
      "metadata": {
        "id": "9b-l0SNG0kl6"
      },
      "source": [
        "# Losses"
      ]
    },
    {
      "cell_type": "code",
      "execution_count": null,
      "metadata": {
        "id": "MrSjnBd20mSk"
      },
      "outputs": [],
      "source": [
        "class FocalLoss(nn.Module):\n",
        "    def __init__(self, weight, gamma=0, eps=1e-7):\n",
        "        super(FocalLoss, self).__init__()\n",
        "        self.gamma = gamma\n",
        "        self.eps = eps\n",
        "        self.ce = torch.nn.CrossEntropyLoss(weight=weight)\n",
        "\n",
        "    def forward(self, input, target):\n",
        "        logp = self.ce(input, target)\n",
        "        p = torch.exp(-logp)\n",
        "        loss = (1 - p) ** self.gamma * logp\n",
        "        return loss.mean()\n",
        "\n",
        "\n",
        "class ArcFaceLoss(nn.Module):\n",
        "    def __init__(self, s=45.0, m=0.1, crit=\"bce\", weight=None, reduction=\"mean\",\n",
        "                 focal_loss_gamma=0, class_weights_norm=\"batch\"):\n",
        "        super().__init__()\n",
        "\n",
        "        self.weight = weight\n",
        "        self.reduction = reduction\n",
        "        self.class_weights_norm = class_weights_norm\n",
        "        \n",
        "        if crit == \"focal\":\n",
        "            self.crit = FocalLoss(gamma=focal_loss_gamma)\n",
        "        elif crit == \"bce\":\n",
        "            self.crit = nn.CrossEntropyLoss(reduction=\"none\")   \n",
        "\n",
        "        if s is None:\n",
        "            self.s = torch.nn.Parameter(torch.tensor([45.], requires_grad=True, device='cuda'))\n",
        "        else:\n",
        "            self.s = s\n",
        "\n",
        "        self.cos_m = math.cos(m)\n",
        "        self.sin_m = math.sin(m)\n",
        "        self.th = math.cos(math.pi - m)\n",
        "        self.mm = math.sin(math.pi - m) * m\n",
        "        \n",
        "    def forward(self, logits, labels):\n",
        "\n",
        "        logits = logits.float()\n",
        "        cosine = logits\n",
        "        sine = torch.sqrt(1.0 - torch.pow(cosine, 2))\n",
        "        phi = cosine * self.cos_m - sine * self.sin_m\n",
        "        phi = torch.where(cosine > self.th, phi, cosine - self.mm)\n",
        "        \n",
        "        labels2 = torch.zeros_like(cosine)\n",
        "        labels2.scatter_(1, labels.view(-1, 1).long(), 1)\n",
        "        labels2 *= (1 - 0.1)\n",
        "        labels2 += 0.005\n",
        "        output = (labels2 * phi) + ((1.0 - labels2) * cosine)\n",
        "\n",
        "        s = self.s\n",
        "\n",
        "        output = output * s\n",
        "        loss = self.crit(output, labels)\n",
        "\n",
        "        if self.weight is not None:\n",
        "            w = self.weight[labels].to(logits.device)\n",
        "\n",
        "            loss = loss * w\n",
        "            if self.class_weights_norm == \"batch\":\n",
        "                loss = loss.sum() / w.sum()\n",
        "            if self.class_weights_norm == \"global\":\n",
        "                loss = loss.mean()\n",
        "            else:\n",
        "                loss = loss.mean()\n",
        "            \n",
        "            return loss\n",
        "        if self.reduction == \"mean\":\n",
        "            loss = loss.mean()\n",
        "        elif self.reduction == \"sum\":\n",
        "            loss = loss.sum()\n",
        "        return loss"
      ]
    },
    {
      "cell_type": "markdown",
      "metadata": {
        "id": "girCXnzE0m48"
      },
      "source": [
        "# Modules"
      ]
    },
    {
      "cell_type": "code",
      "execution_count": null,
      "metadata": {
        "id": "A_8SSmFU0nfO"
      },
      "outputs": [],
      "source": [
        "class ArcMarginProduct(nn.Module):\n",
        "    def __init__(self, in_features, out_features):\n",
        "        super().__init__()\n",
        "        self.weight = nn.Parameter(torch.Tensor(out_features, in_features))\n",
        "        self.reset_parameters()\n",
        "\n",
        "    def reset_parameters(self):\n",
        "        nn.init.xavier_uniform_(self.weight)\n",
        "\n",
        "    def forward(self, features):\n",
        "        cosine = F.linear(F.normalize(features), F.normalize(self.weight))\n",
        "        return cosine"
      ]
    },
    {
      "cell_type": "markdown",
      "metadata": {
        "id": "0B3NCJxD1PeS"
      },
      "source": [
        "# Model"
      ]
    },
    {
      "cell_type": "code",
      "execution_count": null,
      "metadata": {
        "id": "jOkK463m1Qbk"
      },
      "outputs": [],
      "source": [
        "class ResNet(nn.Module):\n",
        "    def __init__(self, backbone, output_dim):\n",
        "        super().__init__()\n",
        "        self.backbone = backbone\n",
        "        del backbone.fc\n",
        "        self.backbone.dropout = nn.Dropout(p=0.1)\n",
        "        self.backbone.fc = torch.nn.Linear(in_features=2048, out_features=output_dim, bias=True)\n",
        "        \n",
        "    def forward(self, image):\n",
        "        out = self.backbone(image)\n",
        "#         out = self.out(x)\n",
        "        return out"
      ]
    },
    {
      "cell_type": "code",
      "source": [
        "class EfficentNet(nn.Module):\n",
        "    def __init__(self, backbone, output_dim):\n",
        "        super().__init__()\n",
        "        self.backbone = backbone\n",
        "        self.backbone.classifier[0] = nn.Dropout(p=0.1, inplace=True)\n",
        "        self.backbone.classifier[1] = torch.nn.Linear(in_features=1536, out_features=output_dim, bias=True)\n",
        "        \n",
        "    def forward(self, image):\n",
        "        out = self.backbone(image)\n",
        "#         out = self.out(x)\n",
        "        return out"
      ],
      "metadata": {
        "id": "Vzj_NbkF2wWx"
      },
      "execution_count": null,
      "outputs": []
    },
    {
      "cell_type": "markdown",
      "metadata": {
        "id": "G7DhepxS1dO_"
      },
      "source": [
        "# Loops"
      ]
    },
    {
      "cell_type": "code",
      "execution_count": null,
      "metadata": {
        "id": "016aad72"
      },
      "outputs": [],
      "source": [
        "def train_epoch(model, data_loader, loss_function, optimizer, scheduler, device):\n",
        "    model.to(device)\n",
        "    model.train()\n",
        "    total_train_loss = 0\n",
        "    \n",
        "    f1 = F1Score(num_classes=11, average='macro').to(device)\n",
        "\n",
        "    dl_size = len(data_loader)\n",
        "    \n",
        "    preds = []\n",
        "    targets = []\n",
        "\n",
        "    batch_i = 0\n",
        "\n",
        "    for batch in tqdm(data_loader):\n",
        "        image, target = batch\n",
        "        image = image.to(device)\n",
        "        target = target.to(device)\n",
        "        \n",
        "        optimizer.zero_grad()        \n",
        "        logits = model(image)\n",
        "        \n",
        "        preds.append(logits.argmax(dim=1))\n",
        "        targets.append(target)\n",
        "                \n",
        "        loss = loss_function(logits, target)\n",
        "        total_train_loss += loss.item()\n",
        "\n",
        "        loss.backward()\n",
        "        torch.nn.utils.clip_grad_norm_(model.parameters(), 1.0)\n",
        "        optimizer.step()\n",
        "        scheduler.step()\n",
        "    \n",
        "    preds = torch.cat(preds, dim=0)\n",
        "    targets = torch.cat(targets, dim=0)\n",
        "    acc = (targets == preds).sum() / preds.shape[0]\n",
        "    f1_score = f1(preds, targets)\n",
        "    \n",
        "    metrics = {\n",
        "        \"Train Loss\": total_train_loss / dl_size,\n",
        "        \"Train Accuracy\": acc.item(),\n",
        "        \"Train F1\": f1_score.item()\n",
        "    }\n",
        "    \n",
        "    \n",
        "    return metrics\n",
        "    \n",
        "    \n",
        "def eval_epoch(model, data_loader, loss_function, device):\n",
        "    model.to(device)\n",
        "    model.eval()\n",
        "    total_train_loss = 0\n",
        "    \n",
        "    f1 = F1Score(num_classes=11, average='macro').to(device)\n",
        "    \n",
        "    preds = []\n",
        "    targets = []\n",
        "\n",
        "    dl_size = len(data_loader)\n",
        "\n",
        "    \n",
        "    for batch in tqdm(data_loader):\n",
        "        image, target = batch\n",
        "        image = image.to(device)\n",
        "        target = target.to(device)\n",
        "        \n",
        "        with torch.no_grad():\n",
        "            logits = model(image)\n",
        "            preds.append(logits.argmax(dim=1))\n",
        "            targets.append(target)\n",
        "        \n",
        "        loss = loss_function(logits, target)\n",
        "        total_train_loss += loss.item()\n",
        "    \n",
        "    preds = torch.cat(preds, dim=0)\n",
        "    targets = torch.cat(targets, dim=0)\n",
        "    acc = (targets == preds).sum() / preds.shape[0]\n",
        "    f1_score = f1(preds, targets)\n",
        "    \n",
        "    metrics = {\n",
        "        \"Eval Loss\": total_train_loss / dl_size,\n",
        "        \"Eval Accuracy\": acc.item(),\n",
        "        \"Eval F1\": f1_score.item()\n",
        "    }\n",
        "    \n",
        "    return metrics"
      ]
    },
    {
      "cell_type": "code",
      "execution_count": null,
      "metadata": {
        "id": "602cd4af"
      },
      "outputs": [],
      "source": [
        "def cross_validation(project_name,\n",
        "                     model, \n",
        "                     dataset, \n",
        "                     loss_function, \n",
        "                     strat_array=None,\n",
        "                     device=torch.device(\"cuda\"),\n",
        "                     random_state: int=69, \n",
        "                     shuffle: bool=True, \n",
        "                     n_folds: int=4, \n",
        "                     epochs: int=5, \n",
        "                     lr: float=1e-6,\n",
        "                     start_fold: int=0, \n",
        "                     batch_size: int=32,\n",
        "                     iters_to_accumulate=None):\n",
        "    random.seed(random_state),\n",
        "    np.random.seed(random_state)\n",
        "    torch.manual_seed(random_state)\n",
        "    torch.cuda.manual_seed_all(random_state)\n",
        "    \n",
        "    loss_function.to(device)\n",
        "    if strat_array:\n",
        "        kfold = StratifiedKFold(n_folds, shuffle=shuffle, random_state=random_state)\n",
        "        split = kfold.split(dataset, strat_array)\n",
        "    else: \n",
        "        kfold = KFold(n_folds, shuffle=shuffle, random_state=random_state)\n",
        "        split = kfold.split(dataset)\n",
        "\n",
        "    for fold, (train_ids, eval_ids) in enumerate(split):\n",
        "        if fold >= start_fold:\n",
        "            print(f'FOLD {fold}')\n",
        "            print('--------------------------------')\n",
        "            \n",
        "            for p in model.parameters():\n",
        "                if p.dim() > 1:\n",
        "                    nn.init.xavier_uniform_(p)\n",
        "                else:\n",
        "                    nn.init.normal_(p)\n",
        "\n",
        "            optimizer = torch.optim.AdamW(\n",
        "                model.parameters(),\n",
        "                lr = lr, # args.learning_rate - default is 5e-5, our notebook had 2e-5\n",
        "            )\n",
        "            \n",
        "            train_subsampler = torch.utils.data.Subset(dataset,  train_ids)\n",
        "            train_loader = torch.utils.data.DataLoader(\n",
        "                          train_subsampler, \n",
        "                          batch_size=batch_size,\n",
        "                          shuffle=shuffle)\n",
        "\n",
        "            eval_subsampler = torch.utils.data.Subset(dataset,  eval_ids)\n",
        "            eval_loader = torch.utils.data.DataLoader(\n",
        "                          eval_subsampler,\n",
        "                          batch_size=batch_size,\n",
        "                          shuffle=shuffle)\n",
        "            \n",
        "            total_steps = len(train_loader) * epochs \n",
        "\n",
        "            scheduler = get_cosine_schedule_with_warmup(optimizer, \n",
        "                                                    num_warmup_steps = 0, # Default value in run_glue.py\n",
        "                                                    num_training_steps = total_steps)\n",
        "\n",
        "            mrrs = []\n",
        "\n",
        "            for epoch_i in range(0, epochs):\n",
        "                train_metrics = train_epoch(model, train_loader, loss_function, optimizer, scheduler, device)\n",
        "                eval_metrics = eval_epoch(model, eval_loader, loss_function, device)\n",
        "                \n",
        "                print(f\"EPOCH: {epoch_i}\")\n",
        "                print(train_metrics)\n",
        "                print(eval_metrics)\n",
        "\n",
        "\n",
        "def single_model(model, \n",
        "                     dataset, \n",
        "                     loss_function, \n",
        "                     device=torch.device(\"cuda\"),\n",
        "                     random_state: int=69, \n",
        "                     shuffle=True,\n",
        "                     epochs: int=15, \n",
        "                     lr: float=1e-6,\n",
        "                     batch_size: int=32,\n",
        "                     start_epoch=0\n",
        "                     ):\n",
        "    random.seed(random_state),\n",
        "    np.random.seed(random_state)\n",
        "    torch.manual_seed(random_state)\n",
        "    torch.cuda.manual_seed_all(random_state)\n",
        "    \n",
        "    loss_function.to(device)\n",
        "    model.to(device)\n",
        "\n",
        "    optimizer = MADGRAD(\n",
        "        model.parameters(),\n",
        "        lr = lr, # args.learning_rate - default is 5e-5, our notebook had 2e-5\n",
        "    )\n",
        "\n",
        "    data_loader = torch.utils.data.DataLoader(\n",
        "                    dataset,\n",
        "                    batch_size=batch_size,\n",
        "                    shuffle=shuffle\n",
        "    )\n",
        "    \n",
        "    total_steps = len(data_loader) * epochs \n",
        "\n",
        "    scheduler = get_cosine_schedule_with_warmup(optimizer, \n",
        "                                            num_warmup_steps = 0, # Default value in run_glue.py\n",
        "                                            num_training_steps = total_steps)\n",
        "\n",
        "    for epoch_i in range(0, epochs):\n",
        "        if epoch_i >= start_epoch:\n",
        "            train_metrics = train_epoch(model, data_loader, loss_function, optimizer, scheduler, device)\n",
        "            print(\"EPOCH\", epoch_i)\n",
        "            print(train_metrics)\n",
        "            # eval_epoch(fold_model, eval_loader, loss_function, device)"
      ]
    },
    {
      "cell_type": "markdown",
      "metadata": {
        "id": "pOY06p6r2Ur9"
      },
      "source": [
        "# Cross Validation"
      ]
    },
    {
      "cell_type": "code",
      "execution_count": null,
      "metadata": {
        "id": "Qa6VvDwxuQXf"
      },
      "outputs": [],
      "source": [
        "!nvidia-smi"
      ]
    },
    {
      "cell_type": "code",
      "execution_count": null,
      "metadata": {
        "id": "vIrR0kAxuQXf"
      },
      "outputs": [],
      "source": [
        "strat_array = []\n",
        "target_class = 0\n",
        "for folder in tqdm(os.listdir(f\"{PROJECT_DIR}/data/train\")):\n",
        "    for _ in range(len(os.listdir(f\"{PROJECT_DIR}/data/train\"+f'/{folder}'))):\n",
        "        strat_array.append(target_class)\n",
        "    target_class += 1"
      ]
    },
    {
      "cell_type": "code",
      "execution_count": null,
      "metadata": {
        "id": "fW2xWkDPuQXg"
      },
      "outputs": [],
      "source": [
        "n = len(strat_array)\n",
        "weights = []\n",
        "for i in range(11):\n",
        "    weights.append((strat_array.count(i) / n))\n",
        "    \n",
        "correct_weights = []\n",
        "for i in range(11):\n",
        "    correct_weights.append(weights[i] / sum(weights))\n",
        "    \n",
        "correct_weights"
      ]
    },
    {
      "cell_type": "code",
      "execution_count": null,
      "metadata": {
        "id": "uiIExqrruQXg"
      },
      "outputs": [],
      "source": [
        "backbone = torchvision.models.resnet50(weights=torchvision.models.ResNet50_Weights.IMAGENET1K_V1)\n",
        "model_weights = torch.load('/content/model/model.pt', map_location=torch.device('cpu'))\n",
        "backbone = torchvision.models.resnet50(weights=model_weights)\n",
        "model = ResNet(backbone, 11)"
      ]
    },
    {
      "cell_type": "code",
      "source": [
        "model_back_ef_03 = torchvision.models.efficientnet_b3(weights='IMAGENET1K_V1')\n",
        "model_ef_03 = EfficentNet(model_back_ef_03, 11)"
      ],
      "metadata": {
        "id": "PWP62tfa3Zet"
      },
      "execution_count": null,
      "outputs": []
    },
    {
      "cell_type": "code",
      "execution_count": null,
      "metadata": {
        "id": "UUrccIrYuQXh"
      },
      "outputs": [],
      "source": [
        "loss_function = FocalLoss(weight=torch.tensor(correct_weights))"
      ]
    },
    {
      "cell_type": "code",
      "execution_count": null,
      "metadata": {
        "id": "5z7MLDul2V7J",
        "scrolled": true
      },
      "outputs": [],
      "source": [
        "cross_validation(project_name=\"car_classification\",\n",
        "                     model=model_ef_03, \n",
        "                     dataset=train_dataset,\n",
        "                     strat_array=strat_array,\n",
        "                     loss_function=loss_function, \n",
        "                     device=torch.device(\"cuda\"),\n",
        "                     random_state=69, \n",
        "                     n_folds=4, \n",
        "                     epochs=15, \n",
        "                     lr=1e-4,\n",
        "                     start_fold=0, \n",
        "                     batch_size=8)"
      ]
    },
    {
      "cell_type": "code",
      "execution_count": null,
      "metadata": {
        "id": "oUy451jluQXh"
      },
      "outputs": [],
      "source": [
        "for p in model.parameters():\n",
        "    if p.dim() > 1:\n",
        "        nn.init.xavier_uniform_(p)\n",
        "    else:\n",
        "        nn.init.normal_(p)"
      ]
    },
    {
      "cell_type": "code",
      "execution_count": null,
      "metadata": {
        "id": "fxvYHf9tuQXh"
      },
      "outputs": [],
      "source": [
        "single_model(model_ef_03, \n",
        "            train_dataset, \n",
        "            loss_function, \n",
        "            device = torch.device(\"cuda\"),\n",
        "            random_state = 69, \n",
        "            shuffle = True,\n",
        "            epochs = 15, \n",
        "            lr = 3e-5,\n",
        "            batch_size = 16,\n",
        ")"
      ]
    },
    {
      "cell_type": "code",
      "execution_count": null,
      "metadata": {
        "id": "WxZr80ruuQXi"
      },
      "outputs": [],
      "source": [
        "def predict(model, device, root=f\"{PROJECT_DIR}/data/public_test\", transform=transforms):\n",
        "    model.eval()\n",
        "    model.to(device)\n",
        "    \n",
        "    preds = []\n",
        "    \n",
        "    img_files = sorted(os.listdir(root), key=lambda x: int(x.split(\".\")[0]))\n",
        "    print(img_files)\n",
        "    for img_file in tqdm(img_files):\n",
        "        img_bgr = cv2.imread(root + '/' + img_file)\n",
        "        img_rgb = cv2.cvtColor(img_bgr, cv2.COLOR_BGR2RGB)\n",
        "        image = transform(img_rgb).to(device)\n",
        "        \n",
        "        with torch.no_grad():\n",
        "            pred = model(image.unsqueeze(dim=0)).argmax(dim=1).cpu().item()\n",
        "            preds.append(pred)\n",
        "            \n",
        "    return pd.Series(preds)"
      ]
    },
    {
      "cell_type": "code",
      "execution_count": null,
      "metadata": {
        "id": "OgM5o-louQXi"
      },
      "outputs": [],
      "source": [
        "preds = predict(model_ef_03, device=torch.device(\"cuda\"), root=f\"{PROJECT_DIR}/data/public_test\", transform=transforms)"
      ]
    },
    {
      "cell_type": "code",
      "execution_count": null,
      "metadata": {
        "id": "4BbFOzeruQXi"
      },
      "outputs": [],
      "source": [
        "preds = preds.apply(lambda x: train_dataset.classes[x])"
      ]
    },
    {
      "cell_type": "code",
      "execution_count": null,
      "metadata": {
        "id": "ImtqKDtfuQXi"
      },
      "outputs": [],
      "source": [
        "preds.to_csv(\"baseline_submission.csv\", index=False)"
      ]
    },
    {
      "cell_type": "code",
      "execution_count": null,
      "metadata": {
        "id": "apb2UvMluQXj"
      },
      "outputs": [],
      "source": []
    }
  ],
  "metadata": {
    "colab": {
      "private_outputs": true,
      "provenance": []
    },
    "kernelspec": {
      "display_name": "Python 3 (ipykernel)",
      "language": "python",
      "name": "python3"
    },
    "language_info": {
      "codemirror_mode": {
        "name": "ipython",
        "version": 3
      },
      "file_extension": ".py",
      "mimetype": "text/x-python",
      "name": "python",
      "nbconvert_exporter": "python",
      "pygments_lexer": "ipython3",
      "version": "3.10.6"
    },
    "accelerator": "GPU",
    "gpuClass": "standard"
  },
  "nbformat": 4,
  "nbformat_minor": 0
}