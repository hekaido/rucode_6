{
 "cells": [
  {
   "cell_type": "markdown",
   "metadata": {
    "id": "sdatgkosYmlq"
   },
   "source": [
    "#Requirements"
   ]
  },
  {
   "cell_type": "code",
   "execution_count": null,
   "metadata": {},
   "outputs": [],
   "source": [
    "!C:\\Users\\len\\projects\\venv\\Scripts\\python.exe -m pip install --upgrade pip"
   ]
  },
  {
   "cell_type": "code",
   "execution_count": 3,
   "metadata": {},
   "outputs": [
    {
     "name": "stdout",
     "output_type": "stream",
     "text": [
      "Requirement already satisfied: jupyter in c:\\users\\len\\projects\\venv\\lib\\site-packages (1.0.0)\n",
      "Requirement already satisfied: ipywidgets in c:\\users\\len\\projects\\venv\\lib\\site-packages (from jupyter) (8.0.2)\n",
      "Requirement already satisfied: qtconsole in c:\\users\\len\\projects\\venv\\lib\\site-packages (from jupyter) (5.4.0)\n",
      "Requirement already satisfied: jupyter-console in c:\\users\\len\\projects\\venv\\lib\\site-packages (from jupyter) (6.4.4)\n",
      "Requirement already satisfied: nbconvert in c:\\users\\len\\projects\\venv\\lib\\site-packages (from jupyter) (7.2.4)\n",
      "Requirement already satisfied: ipykernel in c:\\users\\len\\projects\\venv\\lib\\site-packages (from jupyter) (6.17.1)\n",
      "Requirement already satisfied: notebook in c:\\users\\len\\projects\\venv\\lib\\site-packages (from jupyter) (6.5.2)\n",
      "Requirement already satisfied: debugpy>=1.0 in c:\\users\\len\\projects\\venv\\lib\\site-packages (from ipykernel->jupyter) (1.6.3)\n",
      "Requirement already satisfied: jupyter-client>=6.1.12 in c:\\users\\len\\projects\\venv\\lib\\site-packages (from ipykernel->jupyter) (7.4.5)\n",
      "Requirement already satisfied: psutil in c:\\users\\len\\projects\\venv\\lib\\site-packages (from ipykernel->jupyter) (5.9.4)\n",
      "Requirement already satisfied: pyzmq>=17 in c:\\users\\len\\projects\\venv\\lib\\site-packages (from ipykernel->jupyter) (24.0.1)\n",
      "Requirement already satisfied: traitlets>=5.1.0 in c:\\users\\len\\projects\\venv\\lib\\site-packages (from ipykernel->jupyter) (5.5.0)\n",
      "Requirement already satisfied: nest-asyncio in c:\\users\\len\\projects\\venv\\lib\\site-packages (from ipykernel->jupyter) (1.5.6)\n",
      "Requirement already satisfied: packaging in c:\\users\\len\\projects\\venv\\lib\\site-packages (from ipykernel->jupyter) (21.3)\n",
      "Requirement already satisfied: tornado>=6.1 in c:\\users\\len\\projects\\venv\\lib\\site-packages (from ipykernel->jupyter) (6.2)\n",
      "Requirement already satisfied: ipython>=7.23.1 in c:\\users\\len\\projects\\venv\\lib\\site-packages (from ipykernel->jupyter) (8.6.0)\n",
      "Requirement already satisfied: matplotlib-inline>=0.1 in c:\\users\\len\\projects\\venv\\lib\\site-packages (from ipykernel->jupyter) (0.1.6)\n",
      "Requirement already satisfied: jedi>=0.16 in c:\\users\\len\\projects\\venv\\lib\\site-packages (from ipython>=7.23.1->ipykernel->jupyter) (0.18.1)\n",
      "Requirement already satisfied: stack-data in c:\\users\\len\\projects\\venv\\lib\\site-packages (from ipython>=7.23.1->ipykernel->jupyter) (0.6.1)\n",
      "Requirement already satisfied: pickleshare in c:\\users\\len\\projects\\venv\\lib\\site-packages (from ipython>=7.23.1->ipykernel->jupyter) (0.7.5)\n",
      "Requirement already satisfied: backcall in c:\\users\\len\\projects\\venv\\lib\\site-packages (from ipython>=7.23.1->ipykernel->jupyter) (0.2.0)\n",
      "Requirement already satisfied: pygments>=2.4.0 in c:\\users\\len\\projects\\venv\\lib\\site-packages (from ipython>=7.23.1->ipykernel->jupyter) (2.13.0)\n",
      "Requirement already satisfied: decorator in c:\\users\\len\\projects\\venv\\lib\\site-packages (from ipython>=7.23.1->ipykernel->jupyter) (5.1.1)\n",
      "Requirement already satisfied: colorama in c:\\users\\len\\projects\\venv\\lib\\site-packages (from ipython>=7.23.1->ipykernel->jupyter) (0.4.6)\n",
      "Requirement already satisfied: prompt-toolkit<3.1.0,>3.0.1 in c:\\users\\len\\projects\\venv\\lib\\site-packages (from ipython>=7.23.1->ipykernel->jupyter) (3.0.32)\n",
      "Requirement already satisfied: parso<0.9.0,>=0.8.0 in c:\\users\\len\\projects\\venv\\lib\\site-packages (from jedi>=0.16->ipython>=7.23.1->ipykernel->jupyter) (0.8.3)\n",
      "Requirement already satisfied: python-dateutil>=2.8.2 in c:\\users\\len\\projects\\venv\\lib\\site-packages (from jupyter-client>=6.1.12->ipykernel->jupyter) (2.8.2)\n",
      "Requirement already satisfied: jupyter-core>=4.9.2 in c:\\users\\len\\projects\\venv\\lib\\site-packages (from jupyter-client>=6.1.12->ipykernel->jupyter) (5.0.0)\n",
      "Requirement already satisfied: entrypoints in c:\\users\\len\\projects\\venv\\lib\\site-packages (from jupyter-client>=6.1.12->ipykernel->jupyter) (0.4)\n",
      "Requirement already satisfied: pywin32>=1.0 in c:\\users\\len\\projects\\venv\\lib\\site-packages (from jupyter-core>=4.9.2->jupyter-client>=6.1.12->ipykernel->jupyter) (305)\n",
      "Requirement already satisfied: platformdirs in c:\\users\\len\\projects\\venv\\lib\\site-packages (from jupyter-core>=4.9.2->jupyter-client>=6.1.12->ipykernel->jupyter) (2.5.3)\n",
      "Requirement already satisfied: wcwidth in c:\\users\\len\\projects\\venv\\lib\\site-packages (from prompt-toolkit<3.1.0,>3.0.1->ipython>=7.23.1->ipykernel->jupyter) (0.2.5)\n",
      "Requirement already satisfied: six>=1.5 in c:\\users\\len\\projects\\venv\\lib\\site-packages (from python-dateutil>=2.8.2->jupyter-client>=6.1.12->ipykernel->jupyter) (1.16.0)\n",
      "Requirement already satisfied: jupyterlab-widgets~=3.0 in c:\\users\\len\\projects\\venv\\lib\\site-packages (from ipywidgets->jupyter) (3.0.3)\n",
      "Requirement already satisfied: widgetsnbextension~=4.0 in c:\\users\\len\\projects\\venv\\lib\\site-packages (from ipywidgets->jupyter) (4.0.3)\n",
      "Requirement already satisfied: nbclient>=0.5.0 in c:\\users\\len\\projects\\venv\\lib\\site-packages (from nbconvert->jupyter) (0.7.0)\n",
      "Requirement already satisfied: nbformat>=5.1 in c:\\users\\len\\projects\\venv\\lib\\site-packages (from nbconvert->jupyter) (5.7.0)\n",
      "Requirement already satisfied: beautifulsoup4 in c:\\users\\len\\projects\\venv\\lib\\site-packages (from nbconvert->jupyter) (4.11.1)\n",
      "Requirement already satisfied: tinycss2 in c:\\users\\len\\projects\\venv\\lib\\site-packages (from nbconvert->jupyter) (1.2.1)\n",
      "Requirement already satisfied: jinja2>=3.0 in c:\\users\\len\\projects\\venv\\lib\\site-packages (from nbconvert->jupyter) (3.1.2)\n",
      "Requirement already satisfied: importlib-metadata>=3.6 in c:\\users\\len\\projects\\venv\\lib\\site-packages (from nbconvert->jupyter) (5.0.0)\n",
      "Requirement already satisfied: pandocfilters>=1.4.1 in c:\\users\\len\\projects\\venv\\lib\\site-packages (from nbconvert->jupyter) (1.5.0)\n",
      "Requirement already satisfied: jupyterlab-pygments in c:\\users\\len\\projects\\venv\\lib\\site-packages (from nbconvert->jupyter) (0.2.2)\n",
      "Requirement already satisfied: defusedxml in c:\\users\\len\\projects\\venv\\lib\\site-packages (from nbconvert->jupyter) (0.7.1)\n",
      "Requirement already satisfied: mistune<3,>=2.0.3 in c:\\users\\len\\projects\\venv\\lib\\site-packages (from nbconvert->jupyter) (2.0.4)\n",
      "Requirement already satisfied: bleach in c:\\users\\len\\projects\\venv\\lib\\site-packages (from nbconvert->jupyter) (5.0.1)\n",
      "Requirement already satisfied: markupsafe>=2.0 in c:\\users\\len\\projects\\venv\\lib\\site-packages (from nbconvert->jupyter) (2.1.1)\n",
      "Requirement already satisfied: zipp>=0.5 in c:\\users\\len\\projects\\venv\\lib\\site-packages (from importlib-metadata>=3.6->nbconvert->jupyter) (3.10.0)\n",
      "Requirement already satisfied: fastjsonschema in c:\\users\\len\\projects\\venv\\lib\\site-packages (from nbformat>=5.1->nbconvert->jupyter) (2.16.2)\n",
      "Requirement already satisfied: jsonschema>=2.6 in c:\\users\\len\\projects\\venv\\lib\\site-packages (from nbformat>=5.1->nbconvert->jupyter) (4.17.0)\n",
      "Requirement already satisfied: attrs>=17.4.0 in c:\\users\\len\\projects\\venv\\lib\\site-packages (from jsonschema>=2.6->nbformat>=5.1->nbconvert->jupyter) (22.1.0)\n",
      "Requirement already satisfied: pyrsistent!=0.17.0,!=0.17.1,!=0.17.2,>=0.14.0 in c:\\users\\len\\projects\\venv\\lib\\site-packages (from jsonschema>=2.6->nbformat>=5.1->nbconvert->jupyter) (0.19.2)\n",
      "Requirement already satisfied: soupsieve>1.2 in c:\\users\\len\\projects\\venv\\lib\\site-packages (from beautifulsoup4->nbconvert->jupyter) (2.3.2.post1)\n",
      "Requirement already satisfied: webencodings in c:\\users\\len\\projects\\venv\\lib\\site-packages (from bleach->nbconvert->jupyter) (0.5.1)\n",
      "Requirement already satisfied: argon2-cffi in c:\\users\\len\\projects\\venv\\lib\\site-packages (from notebook->jupyter) (21.3.0)\n",
      "Requirement already satisfied: prometheus-client in c:\\users\\len\\projects\\venv\\lib\\site-packages (from notebook->jupyter) (0.15.0)\n",
      "Requirement already satisfied: ipython-genutils in c:\\users\\len\\projects\\venv\\lib\\site-packages (from notebook->jupyter) (0.2.0)\n",
      "Requirement already satisfied: nbclassic>=0.4.7 in c:\\users\\len\\projects\\venv\\lib\\site-packages (from notebook->jupyter) (0.4.8)\n",
      "Requirement already satisfied: Send2Trash>=1.8.0 in c:\\users\\len\\projects\\venv\\lib\\site-packages (from notebook->jupyter) (1.8.0)\n",
      "Requirement already satisfied: terminado>=0.8.3 in c:\\users\\len\\projects\\venv\\lib\\site-packages (from notebook->jupyter) (0.17.0)\n",
      "Requirement already satisfied: notebook-shim>=0.1.0 in c:\\users\\len\\projects\\venv\\lib\\site-packages (from nbclassic>=0.4.7->notebook->jupyter) (0.2.2)\n",
      "Requirement already satisfied: jupyter-server>=1.8 in c:\\users\\len\\projects\\venv\\lib\\site-packages (from nbclassic>=0.4.7->notebook->jupyter) (1.23.1)\n",
      "Requirement already satisfied: pywinpty in c:\\users\\len\\projects\\venv\\lib\\site-packages (from jupyter-server>=1.8->nbclassic>=0.4.7->notebook->jupyter) (2.0.9)\n",
      "Requirement already satisfied: websocket-client in c:\\users\\len\\projects\\venv\\lib\\site-packages (from jupyter-server>=1.8->nbclassic>=0.4.7->notebook->jupyter) (1.4.2)\n",
      "Requirement already satisfied: anyio<4,>=3.1.0 in c:\\users\\len\\projects\\venv\\lib\\site-packages (from jupyter-server>=1.8->nbclassic>=0.4.7->notebook->jupyter) (3.6.2)\n",
      "Requirement already satisfied: sniffio>=1.1 in c:\\users\\len\\projects\\venv\\lib\\site-packages (from anyio<4,>=3.1.0->jupyter-server>=1.8->nbclassic>=0.4.7->notebook->jupyter) (1.3.0)\n",
      "Requirement already satisfied: idna>=2.8 in c:\\users\\len\\projects\\venv\\lib\\site-packages (from anyio<4,>=3.1.0->jupyter-server>=1.8->nbclassic>=0.4.7->notebook->jupyter) (3.4)\n",
      "Requirement already satisfied: argon2-cffi-bindings in c:\\users\\len\\projects\\venv\\lib\\site-packages (from argon2-cffi->notebook->jupyter) (21.2.0)\n",
      "Requirement already satisfied: cffi>=1.0.1 in c:\\users\\len\\projects\\venv\\lib\\site-packages (from argon2-cffi-bindings->argon2-cffi->notebook->jupyter) (1.15.1)\n",
      "Requirement already satisfied: pycparser in c:\\users\\len\\projects\\venv\\lib\\site-packages (from cffi>=1.0.1->argon2-cffi-bindings->argon2-cffi->notebook->jupyter) (2.21)\n",
      "Requirement already satisfied: pyparsing!=3.0.5,>=2.0.2 in c:\\users\\len\\projects\\venv\\lib\\site-packages (from packaging->ipykernel->jupyter) (3.0.9)\n",
      "Requirement already satisfied: qtpy>=2.0.1 in c:\\users\\len\\projects\\venv\\lib\\site-packages (from qtconsole->jupyter) (2.3.0)\n",
      "Requirement already satisfied: executing>=1.2.0 in c:\\users\\len\\projects\\venv\\lib\\site-packages (from stack-data->ipython>=7.23.1->ipykernel->jupyter) (1.2.0)\n",
      "Requirement already satisfied: asttokens>=2.1.0 in c:\\users\\len\\projects\\venv\\lib\\site-packages (from stack-data->ipython>=7.23.1->ipykernel->jupyter) (2.1.0)\n",
      "Requirement already satisfied: pure-eval in c:\\users\\len\\projects\\venv\\lib\\site-packages (from stack-data->ipython>=7.23.1->ipykernel->jupyter) (0.2.2)\n"
     ]
    },
    {
     "name": "stderr",
     "output_type": "stream",
     "text": [
      "WARNING: You are using pip version 21.1.2; however, version 22.3.1 is available.\n",
      "You should consider upgrading via the 'C:\\Users\\len\\projects\\venv\\Scripts\\python.exe -m pip install --upgrade pip' command.\n"
     ]
    }
   ],
   "source": [
    "!pip install -U jupyter"
   ]
  },
  {
   "cell_type": "code",
   "execution_count": 5,
   "metadata": {},
   "outputs": [
    {
     "name": "stdout",
     "output_type": "stream",
     "text": [
      "Requirement already satisfied: ipywidgets in c:\\users\\len\\projects\\venv\\lib\\site-packages (8.0.2)"
     ]
    },
    {
     "name": "stderr",
     "output_type": "stream",
     "text": [
      "WARNING: You are using pip version 21.1.2; however, version 22.3.1 is available.\n",
      "You should consider upgrading via the 'C:\\Users\\len\\projects\\venv\\Scripts\\python.exe -m pip install --upgrade pip' command.\n"
     ]
    },
    {
     "name": "stdout",
     "output_type": "stream",
     "text": [
      "\n",
      "Requirement already satisfied: ipython>=6.1.0 in c:\\users\\len\\projects\\venv\\lib\\site-packages (from ipywidgets) (8.6.0)\n",
      "Requirement already satisfied: ipykernel>=4.5.1 in c:\\users\\len\\projects\\venv\\lib\\site-packages (from ipywidgets) (6.17.1)\n",
      "Requirement already satisfied: jupyterlab-widgets~=3.0 in c:\\users\\len\\projects\\venv\\lib\\site-packages (from ipywidgets) (3.0.3)\n",
      "Requirement already satisfied: traitlets>=4.3.1 in c:\\users\\len\\projects\\venv\\lib\\site-packages (from ipywidgets) (5.5.0)\n",
      "Requirement already satisfied: widgetsnbextension~=4.0 in c:\\users\\len\\projects\\venv\\lib\\site-packages (from ipywidgets) (4.0.3)\n",
      "Requirement already satisfied: matplotlib-inline>=0.1 in c:\\users\\len\\projects\\venv\\lib\\site-packages (from ipykernel>=4.5.1->ipywidgets) (0.1.6)\n",
      "Requirement already satisfied: psutil in c:\\users\\len\\projects\\venv\\lib\\site-packages (from ipykernel>=4.5.1->ipywidgets) (5.9.4)\n",
      "Requirement already satisfied: nest-asyncio in c:\\users\\len\\projects\\venv\\lib\\site-packages (from ipykernel>=4.5.1->ipywidgets) (1.5.6)\n",
      "Requirement already satisfied: packaging in c:\\users\\len\\projects\\venv\\lib\\site-packages (from ipykernel>=4.5.1->ipywidgets) (21.3)\n",
      "Requirement already satisfied: jupyter-client>=6.1.12 in c:\\users\\len\\projects\\venv\\lib\\site-packages (from ipykernel>=4.5.1->ipywidgets) (7.4.5)\n",
      "Requirement already satisfied: pyzmq>=17 in c:\\users\\len\\projects\\venv\\lib\\site-packages (from ipykernel>=4.5.1->ipywidgets) (24.0.1)\n",
      "Requirement already satisfied: debugpy>=1.0 in c:\\users\\len\\projects\\venv\\lib\\site-packages (from ipykernel>=4.5.1->ipywidgets) (1.6.3)\n",
      "Requirement already satisfied: tornado>=6.1 in c:\\users\\len\\projects\\venv\\lib\\site-packages (from ipykernel>=4.5.1->ipywidgets) (6.2)\n",
      "Requirement already satisfied: prompt-toolkit<3.1.0,>3.0.1 in c:\\users\\len\\projects\\venv\\lib\\site-packages (from ipython>=6.1.0->ipywidgets) (3.0.32)\n",
      "Requirement already satisfied: pygments>=2.4.0 in c:\\users\\len\\projects\\venv\\lib\\site-packages (from ipython>=6.1.0->ipywidgets) (2.13.0)\n",
      "Requirement already satisfied: pickleshare in c:\\users\\len\\projects\\venv\\lib\\site-packages (from ipython>=6.1.0->ipywidgets) (0.7.5)\n",
      "Requirement already satisfied: colorama in c:\\users\\len\\projects\\venv\\lib\\site-packages (from ipython>=6.1.0->ipywidgets) (0.4.6)\n",
      "Requirement already satisfied: stack-data in c:\\users\\len\\projects\\venv\\lib\\site-packages (from ipython>=6.1.0->ipywidgets) (0.6.1)\n",
      "Requirement already satisfied: decorator in c:\\users\\len\\projects\\venv\\lib\\site-packages (from ipython>=6.1.0->ipywidgets) (5.1.1)\n",
      "Requirement already satisfied: jedi>=0.16 in c:\\users\\len\\projects\\venv\\lib\\site-packages (from ipython>=6.1.0->ipywidgets) (0.18.1)\n",
      "Requirement already satisfied: backcall in c:\\users\\len\\projects\\venv\\lib\\site-packages (from ipython>=6.1.0->ipywidgets) (0.2.0)\n",
      "Requirement already satisfied: parso<0.9.0,>=0.8.0 in c:\\users\\len\\projects\\venv\\lib\\site-packages (from jedi>=0.16->ipython>=6.1.0->ipywidgets) (0.8.3)\n",
      "Requirement already satisfied: jupyter-core>=4.9.2 in c:\\users\\len\\projects\\venv\\lib\\site-packages (from jupyter-client>=6.1.12->ipykernel>=4.5.1->ipywidgets) (5.0.0)\n",
      "Requirement already satisfied: entrypoints in c:\\users\\len\\projects\\venv\\lib\\site-packages (from jupyter-client>=6.1.12->ipykernel>=4.5.1->ipywidgets) (0.4)\n",
      "Requirement already satisfied: python-dateutil>=2.8.2 in c:\\users\\len\\projects\\venv\\lib\\site-packages (from jupyter-client>=6.1.12->ipykernel>=4.5.1->ipywidgets) (2.8.2)\n",
      "Requirement already satisfied: platformdirs in c:\\users\\len\\projects\\venv\\lib\\site-packages (from jupyter-core>=4.9.2->jupyter-client>=6.1.12->ipykernel>=4.5.1->ipywidgets) (2.5.3)\n",
      "Requirement already satisfied: pywin32>=1.0 in c:\\users\\len\\projects\\venv\\lib\\site-packages (from jupyter-core>=4.9.2->jupyter-client>=6.1.12->ipykernel>=4.5.1->ipywidgets) (305)\n",
      "Requirement already satisfied: wcwidth in c:\\users\\len\\projects\\venv\\lib\\site-packages (from prompt-toolkit<3.1.0,>3.0.1->ipython>=6.1.0->ipywidgets) (0.2.5)\n",
      "Requirement already satisfied: six>=1.5 in c:\\users\\len\\projects\\venv\\lib\\site-packages (from python-dateutil>=2.8.2->jupyter-client>=6.1.12->ipykernel>=4.5.1->ipywidgets) (1.16.0)\n",
      "Requirement already satisfied: pyparsing!=3.0.5,>=2.0.2 in c:\\users\\len\\projects\\venv\\lib\\site-packages (from packaging->ipykernel>=4.5.1->ipywidgets) (3.0.9)\n",
      "Requirement already satisfied: executing>=1.2.0 in c:\\users\\len\\projects\\venv\\lib\\site-packages (from stack-data->ipython>=6.1.0->ipywidgets) (1.2.0)\n",
      "Requirement already satisfied: asttokens>=2.1.0 in c:\\users\\len\\projects\\venv\\lib\\site-packages (from stack-data->ipython>=6.1.0->ipywidgets) (2.1.0)\n",
      "Requirement already satisfied: pure-eval in c:\\users\\len\\projects\\venv\\lib\\site-packages (from stack-data->ipython>=6.1.0->ipywidgets) (0.2.2)\n"
     ]
    }
   ],
   "source": [
    "!pip install -U ipywidgets"
   ]
  },
  {
   "cell_type": "code",
   "execution_count": 2,
   "metadata": {},
   "outputs": [
    {
     "name": "stdout",
     "output_type": "stream",
     "text": [
      "Requirement already satisfied: numpy in c:\\users\\len\\projects\\venv\\lib\\site-packages (from -r C:\\Users\\len\\projects\\requiements.txt (line 1)) (1.23.4)\n",
      "Requirement already satisfied: pandas in c:\\users\\len\\projects\\venv\\lib\\site-packages (from -r C:\\Users\\len\\projects\\requiements.txt (line 2)) (1.5.1)\n",
      "Requirement already satisfied: torch in c:\\users\\len\\projects\\venv\\lib\\site-packages (from -r C:\\Users\\len\\projects\\requiements.txt (line 3)) (1.13.0)\n",
      "Requirement already satisfied: scikit-learn in c:\\users\\len\\projects\\venv\\lib\\site-packages (from -r C:\\Users\\len\\projects\\requiements.txt (line 4)) (1.1.3)\n",
      "Requirement already satisfied: matplotlib in c:\\users\\len\\projects\\venv\\lib\\site-packages (from -r C:\\Users\\len\\projects\\requiements.txt (line 5)) (3.6.2)\n",
      "Requirement already satisfied: seaborn in c:\\users\\len\\projects\\venv\\lib\\site-packages (from -r C:\\Users\\len\\projects\\requiements.txt (line 6)) (0.12.1)\n",
      "Requirement already satisfied: transformers in c:\\users\\len\\projects\\venv\\lib\\site-packages (from -r C:\\Users\\len\\projects\\requiements.txt (line 7)) (4.24.0)\n",
      "Requirement already satisfied: tqdm in c:\\users\\len\\projects\\venv\\lib\\site-packages (from -r C:\\Users\\len\\projects\\requiements.txt (line 8)) (4.64.1)\n",
      "Requirement already satisfied: madgrad in c:\\users\\len\\projects\\venv\\lib\\site-packages (from -r C:\\Users\\len\\projects\\requiements.txt (line 9)) (1.2)\n",
      "Requirement already satisfied: torchvision in c:\\users\\len\\projects\\venv\\lib\\site-packages (from -r C:\\Users\\len\\projects\\requiements.txt (line 10)) (0.14.0)\n",
      "Requirement already satisfied: albumentations in c:\\users\\len\\projects\\venv\\lib\\site-packages (from -r C:\\Users\\len\\projects\\requiements.txt (line 11)) (1.3.0)\n",
      "Requirement already satisfied: pytz>=2020.1 in c:\\users\\len\\projects\\venv\\lib\\site-packages (from pandas->-r C:\\Users\\len\\projects\\requiements.txt (line 2)) (2022.6)\n",
      "Requirement already satisfied: python-dateutil>=2.8.1 in c:\\users\\len\\projects\\venv\\lib\\site-packages (from pandas->-r C:\\Users\\len\\projects\\requiements.txt (line 2)) (2.8.2)\n",
      "Requirement already satisfied: typing-extensions in c:\\users\\len\\projects\\venv\\lib\\site-packages (from torch->-r C:\\Users\\len\\projects\\requiements.txt (line 3)) (4.4.0)\n",
      "Requirement already satisfied: joblib>=1.0.0 in c:\\users\\len\\projects\\venv\\lib\\site-packages (from scikit-learn->-r C:\\Users\\len\\projects\\requiements.txt (line 4)) (1.2.0)\n",
      "Requirement already satisfied: threadpoolctl>=2.0.0 in c:\\users\\len\\projects\\venv\\lib\\site-packages (from scikit-learn->-r C:\\Users\\len\\projects\\requiements.txt (line 4)) (3.1.0)\n",
      "Requirement already satisfied: scipy>=1.3.2 in c:\\users\\len\\projects\\venv\\lib\\site-packages (from scikit-learn->-r C:\\Users\\len\\projects\\requiements.txt (line 4)) (1.9.3)\n",
      "Requirement already satisfied: contourpy>=1.0.1 in c:\\users\\len\\projects\\venv\\lib\\site-packages (from matplotlib->-r C:\\Users\\len\\projects\\requiements.txt (line 5)) (1.0.6)\n",
      "Requirement already satisfied: packaging>=20.0 in c:\\users\\len\\projects\\venv\\lib\\site-packages (from matplotlib->-r C:\\Users\\len\\projects\\requiements.txt (line 5)) (21.3)\n",
      "Requirement already satisfied: kiwisolver>=1.0.1 in c:\\users\\len\\projects\\venv\\lib\\site-packages (from matplotlib->-r C:\\Users\\len\\projects\\requiements.txt (line 5)) (1.4.4)\n",
      "Requirement already satisfied: cycler>=0.10 in c:\\users\\len\\projects\\venv\\lib\\site-packages (from matplotlib->-r C:\\Users\\len\\projects\\requiements.txt (line 5)) (0.11.0)\n",
      "Requirement already satisfied: pillow>=6.2.0 in c:\\users\\len\\projects\\venv\\lib\\site-packages (from matplotlib->-r C:\\Users\\len\\projects\\requiements.txt (line 5)) (9.3.0)\n",
      "Requirement already satisfied: pyparsing>=2.2.1 in c:\\users\\len\\projects\\venv\\lib\\site-packages (from matplotlib->-r C:\\Users\\len\\projects\\requiements.txt (line 5)) (3.0.9)\n",
      "Requirement already satisfied: fonttools>=4.22.0 in c:\\users\\len\\projects\\venv\\lib\\site-packages (from matplotlib->-r C:\\Users\\len\\projects\\requiements.txt (line 5)) (4.38.0)\n",
      "Requirement already satisfied: huggingface-hub<1.0,>=0.10.0 in c:\\users\\len\\projects\\venv\\lib\\site-packages (from transformers->-r C:\\Users\\len\\projects\\requiements.txt (line 7)) (0.10.1)\n",
      "Requirement already satisfied: requests in c:\\users\\len\\projects\\venv\\lib\\site-packages (from transformers->-r C:\\Users\\len\\projects\\requiements.txt (line 7)) (2.28.1)\n",
      "Requirement already satisfied: tokenizers!=0.11.3,<0.14,>=0.11.1 in c:\\users\\len\\projects\\venv\\lib\\site-packages (from transformers->-r C:\\Users\\len\\projects\\requiements.txt (line 7)) (0.13.2)\n",
      "Requirement already satisfied: filelock in c:\\users\\len\\projects\\venv\\lib\\site-packages (from transformers->-r C:\\Users\\len\\projects\\requiements.txt (line 7)) (3.8.0)\n",
      "Requirement already satisfied: pyyaml>=5.1 in c:\\users\\len\\projects\\venv\\lib\\site-packages (from transformers->-r C:\\Users\\len\\projects\\requiements.txt (line 7)) (6.0)\n",
      "Requirement already satisfied: regex!=2019.12.17 in c:\\users\\len\\projects\\venv\\lib\\site-packages (from transformers->-r C:\\Users\\len\\projects\\requiements.txt (line 7)) (2022.10.31)\n",
      "Requirement already satisfied: colorama in c:\\users\\len\\projects\\venv\\lib\\site-packages (from tqdm->-r C:\\Users\\len\\projects\\requiements.txt (line 8)) (0.4.6)\n",
      "Requirement already satisfied: qudida>=0.0.4 in c:\\users\\len\\projects\\venv\\lib\\site-packages (from albumentations->-r C:\\Users\\len\\projects\\requiements.txt (line 11)) (0.0.4)\n",
      "Requirement already satisfied: opencv-python-headless>=4.1.1 in c:\\users\\len\\projects\\venv\\lib\\site-packages (from albumentations->-r C:\\Users\\len\\projects\\requiements.txt (line 11)) (4.6.0.66)\n",
      "Requirement already satisfied: scikit-image>=0.16.1 in c:\\users\\len\\projects\\venv\\lib\\site-packages (from albumentations->-r C:\\Users\\len\\projects\\requiements.txt (line 11)) (0.19.3)\n",
      "Requirement already satisfied: six>=1.5 in c:\\users\\len\\projects\\venv\\lib\\site-packages (from python-dateutil>=2.8.1->pandas->-r C:\\Users\\len\\projects\\requiements.txt (line 2)) (1.16.0)\n",
      "Requirement already satisfied: tifffile>=2019.7.26 in c:\\users\\len\\projects\\venv\\lib\\site-packages (from scikit-image>=0.16.1->albumentations->-r C:\\Users\\len\\projects\\requiements.txt (line 11)) (2022.10.10)\n",
      "Requirement already satisfied: networkx>=2.2 in c:\\users\\len\\projects\\venv\\lib\\site-packages (from scikit-image>=0.16.1->albumentations->-r C:\\Users\\len\\projects\\requiements.txt (line 11)) (2.8.8)\n",
      "Requirement already satisfied: PyWavelets>=1.1.1 in c:\\users\\len\\projects\\venv\\lib\\site-packages (from scikit-image>=0.16.1->albumentations->-r C:\\Users\\len\\projects\\requiements.txt (line 11)) (1.4.1)\n",
      "Requirement already satisfied: imageio>=2.4.1 in c:\\users\\len\\projects\\venv\\lib\\site-packages (from scikit-image>=0.16.1->albumentations->-r C:\\Users\\len\\projects\\requiements.txt (line 11)) (2.22.4)\n",
      "Requirement already satisfied: idna<4,>=2.5 in c:\\users\\len\\projects\\venv\\lib\\site-packages (from requests->transformers->-r C:\\Users\\len\\projects\\requiements.txt (line 7)) (3.4)\n",
      "Requirement already satisfied: charset-normalizer<3,>=2 in c:\\users\\len\\projects\\venv\\lib\\site-packages (from requests->transformers->-r C:\\Users\\len\\projects\\requiements.txt (line 7)) (2.1.1)\n",
      "Requirement already satisfied: urllib3<1.27,>=1.21.1 in c:\\users\\len\\projects\\venv\\lib\\site-packages (from requests->transformers->-r C:\\Users\\len\\projects\\requiements.txt (line 7)) (1.26.12)\n",
      "Requirement already satisfied: certifi>=2017.4.17 in c:\\users\\len\\projects\\venv\\lib\\site-packages (from requests->transformers->-r C:\\Users\\len\\projects\\requiements.txt (line 7)) (2022.9.24)\n"
     ]
    }
   ],
   "source": [
    "!pip install -r \"C:\\Users\\len\\projects\\requiements.txt\""
   ]
  },
  {
   "cell_type": "code",
   "execution_count": 1,
   "metadata": {
    "id": "lyTAfsc6PwYV"
   },
   "outputs": [],
   "source": [
    "# import sys\n",
    "import os\n",
    "import gc\n",
    "import warnings\n",
    "import random\n",
    "from copy import deepcopy\n",
    "import random\n",
    "import math\n",
    "\n",
    "import pandas as pd\n",
    "import numpy as np\n",
    "import seaborn as sns\n",
    "import matplotlib.pyplot as plt\n",
    "\n",
    "import torch\n",
    "import torchvision\n",
    "from torch import nn\n",
    "import torch.nn.functional as F\n",
    "from torch.nn import Parameter\n",
    "from torch.utils.data import Dataset, DataLoader\n",
    "from madgrad import MADGRAD, MirrorMADGRAD\n",
    "from torch.optim import AdamW\n",
    "from sklearn.metrics import f1_score\n",
    "from transformers import (\n",
    "    get_constant_schedule,\n",
    "    get_constant_schedule_with_warmup,\n",
    "    get_cosine_schedule_with_warmup,\n",
    "    get_cosine_with_hard_restarts_schedule_with_warmup,\n",
    "    get_linear_schedule_with_warmup,\n",
    "    get_polynomial_decay_schedule_with_warmup\n",
    ")\n",
    "\n",
    "from sklearn.model_selection import StratifiedKFold,KFold\n",
    "    \n",
    "from tqdm import tqdm\n",
    "\n",
    "import albumentations as A\n",
    "warnings.filterwarnings(\"ignore\")\n",
    "tqdm.pandas()"
   ]
  },
  {
   "cell_type": "code",
   "execution_count": null,
   "metadata": {
    "id": "pSMMo28UPija"
   },
   "outputs": [],
   "source": [
    "PROJECT_DIR = \"\""
   ]
  },
  {
   "cell_type": "markdown",
   "metadata": {
    "id": "Avpm7R4pykVC"
   },
   "source": [
    "# EDA"
   ]
  },
  {
   "cell_type": "code",
   "execution_count": null,
   "metadata": {
    "id": "Db9Othg-yj3p"
   },
   "outputs": [],
   "source": [
    "classes = ['Red', 'Green', 'Violet', 'White', 'Yellow', 'Brown', 'Black', 'Blue', 'Cyan', 'Grey', 'Orange']\n",
    "counts = []\n",
    "for class_name in classes:\n",
    "    counts.append(len(os.listdir(f\"{PROJECT_DIR}/data/train/{class_name}\")))"
   ]
  },
  {
   "cell_type": "code",
   "execution_count": null,
   "metadata": {
    "id": "NKYJqqDcCeeM"
   },
   "outputs": [],
   "source": [
    "help(sns.barplot)"
   ]
  },
  {
   "cell_type": "code",
   "execution_count": null,
   "metadata": {
    "id": "jTZrYFuzzdwG"
   },
   "outputs": [],
   "source": [
    "sns.barplot(classes, counts, palette=classes)\n",
    "# for i in range(len(classes)):\n",
    "#     barplot[i].set_color(classes[i])"
   ]
  },
  {
   "cell_type": "markdown",
   "metadata": {
    "id": "BdUV3bfmymd6"
   },
   "source": [
    "# Dataset"
   ]
  },
  {
   "cell_type": "code",
   "execution_count": null,
   "metadata": {
    "id": "_dDnYBq1xnpX"
   },
   "outputs": [],
   "source": [
    "classes = ['Red', 'Green', 'Violet', 'White', 'Yellow', 'Brown', 'Black', 'Blue', 'Cyan', 'Grey', 'Orange']\n",
    "target_encoder = {}\n",
    "for i in range(len(classes)):\n",
    "    target_encoder[classes[i]] = i"
   ]
  },
  {
   "cell_type": "code",
   "execution_count": null,
   "metadata": {
    "id": "MxG5PzaNQTLM"
   },
   "outputs": [],
   "source": [
    "import os\n",
    "import pandas as pd\n",
    "from torchvision.io import read_image\n",
    "\n",
    "\n",
    "class CarDataset(Dataset):\n",
    "    def __init__(self, dir, transform=None, target_encoder: dict = None):\n",
    "        self.transform = transform\n",
    "        self.target_encoder = target_encoder\n",
    "        class_names = os.listdir(dir)\n",
    "        print(class_names)\n",
    "        self.filenames = []\n",
    "        self.labels = []\n",
    "\n",
    "        for class_name in tqdm(class_names):\n",
    "            class_path = f\"{dir}/{class_name}\"\n",
    "            images = os.listdir(class_path)\n",
    "            for image in images:\n",
    "                self.filenames.append(f\"{dir}/{class_name}/{image}\")\n",
    "                self.labels.append(class_name)\n",
    "\n",
    "    def __len__(self):\n",
    "        return len(self.img_labels)\n",
    "\n",
    "    def __getitem__(self, idx):\n",
    "        img_path = self.filenames[idx]\n",
    "        image = read_image(img_path)\n",
    "        label = self.labels[idx]\n",
    "\n",
    "        if self.transform:\n",
    "            image = self.transform(image)\n",
    "        \n",
    "        if self.target_encoder:\n",
    "            label = self.target_encoder[label]\n",
    "\n",
    "        return image, label"
   ]
  },
  {
   "cell_type": "code",
   "execution_count": null,
   "metadata": {
    "id": "phU8SYNivC1W"
   },
   "outputs": [],
   "source": [
    "train_dataset = CarDataset(f\"{PROJECT_DIR}/data/train\", target_encoder=target_encoder)"
   ]
  },
  {
   "cell_type": "markdown",
   "metadata": {
    "id": "9b-l0SNG0kl6"
   },
   "source": [
    "# Losses"
   ]
  },
  {
   "cell_type": "code",
   "execution_count": 2,
   "metadata": {
    "id": "MrSjnBd20mSk"
   },
   "outputs": [],
   "source": [
    "class FocalLoss(nn.Module):\n",
    "    def __init__(self, gamma=0, eps=1e-7):\n",
    "        super(FocalLoss, self).__init__()\n",
    "        self.gamma = gamma\n",
    "        self.eps = eps\n",
    "        self.ce = torch.nn.CrossEntropyLoss()\n",
    "\n",
    "    def forward(self, input, target):\n",
    "        logp = self.ce(input, target)\n",
    "        p = torch.exp(-logp)\n",
    "        loss = (1 - p) ** self.gamma * logp\n",
    "        return loss.mean()\n",
    "\n",
    "\n",
    "class ArcFaceLoss(nn.Module):\n",
    "    def __init__(self, s=45.0, m=0.1, crit=\"bce\", weight=None, reduction=\"mean\",\n",
    "                 focal_loss_gamma=0, class_weights_norm=\"batch\"):\n",
    "        super().__init__()\n",
    "\n",
    "        self.weight = weight\n",
    "        self.reduction = reduction\n",
    "        self.class_weights_norm = class_weights_norm\n",
    "        \n",
    "        if crit == \"focal\":\n",
    "            self.crit = FocalLoss(gamma=focal_loss_gamma)\n",
    "        elif crit == \"bce\":\n",
    "            self.crit = nn.CrossEntropyLoss(reduction=\"none\")   \n",
    "\n",
    "        if s is None:\n",
    "            self.s = torch.nn.Parameter(torch.tensor([45.], requires_grad=True, device='cuda'))\n",
    "        else:\n",
    "            self.s = s\n",
    "\n",
    "        self.cos_m = math.cos(m)\n",
    "        self.sin_m = math.sin(m)\n",
    "        self.th = math.cos(math.pi - m)\n",
    "        self.mm = math.sin(math.pi - m) * m\n",
    "        \n",
    "    def forward(self, logits, labels):\n",
    "\n",
    "        logits = logits.float()\n",
    "        cosine = logits\n",
    "        sine = torch.sqrt(1.0 - torch.pow(cosine, 2))\n",
    "        phi = cosine * self.cos_m - sine * self.sin_m\n",
    "        phi = torch.where(cosine > self.th, phi, cosine - self.mm)\n",
    "        \n",
    "        labels2 = torch.zeros_like(cosine)\n",
    "        labels2.scatter_(1, labels.view(-1, 1).long(), 1)\n",
    "        labels2 *= (1 - 0.1)\n",
    "        labels2 += 0.005\n",
    "        output = (labels2 * phi) + ((1.0 - labels2) * cosine)\n",
    "\n",
    "        s = self.s\n",
    "\n",
    "        output = output * s\n",
    "        loss = self.crit(output, labels)\n",
    "\n",
    "        if self.weight is not None:\n",
    "            w = self.weight[labels].to(logits.device)\n",
    "\n",
    "            loss = loss * w\n",
    "            if self.class_weights_norm == \"batch\":\n",
    "                loss = loss.sum() / w.sum()\n",
    "            if self.class_weights_norm == \"global\":\n",
    "                loss = loss.mean()\n",
    "            else:\n",
    "                loss = loss.mean()\n",
    "            \n",
    "            return loss\n",
    "        if self.reduction == \"mean\":\n",
    "            loss = loss.mean()\n",
    "        elif self.reduction == \"sum\":\n",
    "            loss = loss.sum()\n",
    "        return loss"
   ]
  },
  {
   "cell_type": "markdown",
   "metadata": {
    "id": "girCXnzE0m48"
   },
   "source": [
    "# Modules"
   ]
  },
  {
   "cell_type": "code",
   "execution_count": 3,
   "metadata": {
    "id": "A_8SSmFU0nfO"
   },
   "outputs": [],
   "source": [
    "class ArcMarginProduct(nn.Module):\n",
    "    def __init__(self, in_features, out_features):\n",
    "        super().__init__()\n",
    "        self.weight = nn.Parameter(torch.Tensor(out_features, in_features))\n",
    "        self.reset_parameters()\n",
    "\n",
    "    def reset_parameters(self):\n",
    "        nn.init.xavier_uniform_(self.weight)\n",
    "\n",
    "    def forward(self, features):\n",
    "        cosine = F.linear(F.normalize(features), F.normalize(self.weight))\n",
    "        return cosine"
   ]
  },
  {
   "cell_type": "markdown",
   "metadata": {
    "id": "0B3NCJxD1PeS"
   },
   "source": [
    "# Model"
   ]
  },
  {
   "cell_type": "code",
   "execution_count": 33,
   "metadata": {
    "id": "yBFvsKBvDp2w"
   },
   "outputs": [],
   "source": [
    "#model_weights = torch.load('C:/Users/len/projects/model/model.pt', map_location=torch.device('cpu'))\n",
    "model = torchvision.models.resnet50(weights=torchvision.models.ResNet50_Weights.IMAGENET1K_V1)\n",
    "model.fc = torch.nn.Linear(in_features=2048, out_features=11, bias=True)"
   ]
  },
  {
   "cell_type": "markdown",
   "metadata": {
    "id": "G7DhepxS1dO_"
   },
   "source": [
    "# Loops"
   ]
  },
  {
   "cell_type": "code",
   "execution_count": 34,
   "metadata": {
    "id": "016aad72"
   },
   "outputs": [],
   "source": [
    "def train_epoch(model, data_loader, loss_function, optimizer, scheduler, device):\n",
    "    model.train()\n",
    "    total_train_loss = 0\n",
    "\n",
    "    dl_size = len(data_loader)\n",
    "\n",
    "    batch_i = 0\n",
    "    preds_copy = torch.tensor([])\n",
    "    target_copy = torch.tensor([])\n",
    "    for batch in tqdm(data_loader):\n",
    "        target_copy = torch.cat((target_copy, batch[1]), 0)\n",
    "        b_input = batch[0].to(device)\n",
    "        b_target = batch[1].to(device)\n",
    "\n",
    "        optimizer.zero_grad()        \n",
    "        preds = model(b_input)\n",
    "        preds_copy = torch.cat((preds_copy, preds.to('cpu')), 0)\n",
    "        loss = loss_function(preds, b_target)\n",
    "        total_train_loss += loss.item()\n",
    "\n",
    "        loss.backward()\n",
    "        #torch.nn.utils.clip_grad_norm_(model.parameters(), 1.0)\n",
    "        optimizer.step()\n",
    "        scheduler.step()\n",
    "    \n",
    "    preds_copy = torch.argmax(preds_copy, dim=1)\n",
    "    epoch_accuracy = f1_score(preds_copy, target_copy, average='macro')\n",
    "\n",
    "    return ((total_train_loss / dl_size), epoch_accuracy)    \n",
    "    \n",
    "    \n",
    "def eval_epoch(model, data_loader, loss_function, device):\n",
    "    model.eval()\n",
    "    total_train_loss = 0\n",
    "\n",
    "    dl_size = len(data_loader)\n",
    "\n",
    "    preds_copy = torch.tensor([])\n",
    "    target_copy = torch.tensor([])\n",
    "    \n",
    "    for batch in tqdm(data_loader):\n",
    "        target_copy = torch.cat((target_copy, batch[1]), 0)\n",
    "        b_input_ids = batch[0].to(device)\n",
    "        b_target = batch[1].to(device)\n",
    "\n",
    "        with torch.no_grad():\n",
    "            preds = model(b_input_ids)\n",
    "            preds_copy = torch.cat((preds_copy, preds.to('cpu')),0)\n",
    "\n",
    "        loss = loss_function(preds, b_target)\n",
    "        total_train_loss += loss.item()\n",
    "\n",
    "    preds_copy = torch.argmax(preds_copy, dim=1)\n",
    "    epoch_accuracy = f1_score(preds_copy, target_copy, average='macro')\n",
    "\n",
    "    return ((total_train_loss / dl_size), epoch_accuracy)"
   ]
  },
  {
   "cell_type": "code",
   "execution_count": 35,
   "metadata": {
    "id": "edxINUPuGnnF"
   },
   "outputs": [],
   "source": [
    "def save_model(model, path):\n",
    "    torch.save(model, path+'/model.pt')"
   ]
  },
  {
   "cell_type": "code",
   "execution_count": 50,
   "metadata": {
    "id": "602cd4af"
   },
   "outputs": [],
   "source": [
    "def cross_validation(model, \n",
    "                     dataset, \n",
    "                     loss_function,\n",
    "                     strat_array, \n",
    "                     shuffle: bool=True,\n",
    "                     device=torch.device(\"cpu\"),\n",
    "                     random_state: int=69, \n",
    "                     n_folds: int=4, \n",
    "                     epochs: int=5, \n",
    "                     lr: float=1e-4,\n",
    "                     start_fold: int=0, \n",
    "                     batch_size: int=32):\n",
    "    random.seed(random_state),\n",
    "    np.random.seed(random_state)\n",
    "    torch.manual_seed(random_state)\n",
    "    torch.cuda.manual_seed_all(random_state)\n",
    "    kfold = StratifiedKFold(n_folds, shuffle=shuffle, random_state=random_state)\n",
    "    for fold, (train_ids, eval_ids) in enumerate(kfold.split(dataset, strat_array)):\n",
    "        if fold >= start_fold:\n",
    "            print(f'FOLD {fold}')\n",
    "            print('--------------------------------')\n",
    "\n",
    "            fold_model = deepcopy(model)\n",
    "\n",
    "            optimizer = torch.optim.AdamW(fold_model.parameters(), lr = 1e-4)\n",
    "            \n",
    "            fold_path = f'C:/Users/len/projects/model/saves/fold_{fold}'\n",
    "            if not os.path.exists(fold_path):\n",
    "                os.mkdir(fold_path)\n",
    "\n",
    "            train_subsampler = torch.utils.data.Subset(dataset,  train_ids)\n",
    "            train_loader = torch.utils.data.DataLoader(\n",
    "                          train_subsampler, \n",
    "                          batch_size=batch_size)\n",
    "\n",
    "            eval_subsampler = torch.utils.data.Subset(dataset,  eval_ids)\n",
    "            eval_loader = torch.utils.data.DataLoader(\n",
    "                          eval_subsampler,\n",
    "                          batch_size=batch_size)\n",
    "\n",
    "            total_steps = len(train_loader) * epochs \n",
    "\n",
    "            scheduler = get_linear_schedule_with_warmup(optimizer, \n",
    "                                                    num_warmup_steps = 0, # Default value in run_glue.py\n",
    "                                                    num_training_steps = total_steps)\n",
    "\n",
    "            for epoch_i in range(0, epochs):\n",
    "                train_loss, train_accuracy = train_epoch(fold_model, train_loader, loss_function, optimizer, scheduler, device)\n",
    "                eval_loss, eval_accuracy = eval_epoch(fold_model, eval_loader, loss_function, device)\n",
    "\n",
    "                print(f'Epoch {epoch_i}')\n",
    "                print(f'Train loss: {train_loss} Train accuracy: {train_accuracy}')\n",
    "                print(f'Eval loss: {eval_loss} Eval accuracy: {eval_accuracy}')\n",
    "\n",
    "                epoch_path = fold_path+f'/epoch_{epoch_i}'\n",
    "                if not os.path.exists(epoch_path):\n",
    "                    os.mkdir(epoch_path)\n",
    "                save_model(fold_model,epoch_path)\n",
    "\n",
    "\n",
    "\n",
    "\n",
    "def single_model(model,\n",
    "                 dataset, \n",
    "                 loss_function, \n",
    "                 device=torch.device(\"cuda\"),\n",
    "                 random_state: int=69, \n",
    "                 epochs: int=5, \n",
    "                 lr: float=1e-4,\n",
    "                 batch_size: int=32,\n",
    "                 start_epoch: int = 0):\n",
    "    random.seed(random_state),\n",
    "    np.random.seed(random_state)\n",
    "    torch.manual_seed(random_state)\n",
    "    torch.cuda.manual_seed_all(random_state)\n",
    "    \n",
    "    loss_function.to(device)\n",
    "    model.to(device)\n",
    "\n",
    "    optimizer = torch.optim.AdamW(model.parameters(), lr = 1e-4)\n",
    "\n",
    "    data_loader = torch.utils.data.DataLoader(\n",
    "                    dataset,\n",
    "                    batch_size=batch_size)\n",
    "    \n",
    "    total_steps = len(data_loader) * epochs \n",
    "\n",
    "    scheduler = get_cosine_schedule_with_warmup(optimizer, \n",
    "                                            num_warmup_steps = 0, # Default value in run_glue.py\n",
    "                                            num_training_steps = total_steps)\n",
    "    \n",
    "    fold_path = f'C:/Users/len/projects/model/saves/train'\n",
    "    if not os.path.exists(fold_path):\n",
    "        os.mkdir(fold_path)\n",
    "    losses = []\n",
    "    accuracies  = []\n",
    "    for epoch_i in range(0, epochs):\n",
    "        if epoch_i >= start_epoch:\n",
    "            epoch_path = f\"{fold_path}/epoch_{epoch_i}/\"\n",
    "            os.mkdir(epoch_path)\n",
    "            \n",
    "                \n",
    "            epoch_loss, epoch_accuracy = train_epoch(model, data_loader, loss_function, optimizer, scheduler, device)\n",
    "            losses.append(epoch_loss)\n",
    "            accuracies.append(epoch_accuracy)\n",
    "            print(f'Epoch {epoch_i}')\n",
    "            print(f'Train loss: {epochs_loss} Train accuracy: {epochs_accuracy}')\n",
    "            epoch_path = fold_path+f'/epoch_{epoch_i}'\n",
    "            if not os.path.exists(epoch_path):\n",
    "                os.mkdir(epoch_path)\n",
    "            save_model(model,epoch_path)\n",
    "            \n",
    "            # eval_epoch(fold_model, eval_loader, loss_function, device)"
   ]
  },
  {
   "cell_type": "markdown",
   "metadata": {
    "id": "pOY06p6r2Ur9"
   },
   "source": [
    "# Load Data"
   ]
  },
  {
   "cell_type": "code",
   "execution_count": 37,
   "metadata": {
    "id": "l-pUOnP-fSij"
   },
   "outputs": [],
   "source": [
    "mean = [0.485, 0.456, 0.406]\n",
    "std = [0.229, 0.224, 0.225]\n",
    "\n",
    "transforms=torchvision.transforms.Compose([\n",
    "    torchvision.transforms.Resize(size=(256,256)),\n",
    "    torchvision.transforms.ToTensor(),\n",
    "    torchvision.transforms.Lambda(lambda a: a / 255),\n",
    "    torchvision.transforms.Normalize(mean, std)\n",
    "])"
   ]
  },
  {
   "cell_type": "code",
   "execution_count": 38,
   "metadata": {
    "id": "7JH7uDayIAkI"
   },
   "outputs": [],
   "source": [
    "data_path = 'C:/Users/len/projects/data'\n",
    "train_folder = torchvision.datasets.ImageFolder(data_path+'/train', transform=transforms)\n",
    "\n",
    "train_loader = torch.utils.data.DataLoader(train_folder, batch_size=64, shuffle=False, num_workers=1)"
   ]
  },
  {
   "cell_type": "code",
   "execution_count": 39,
   "metadata": {
    "id": "4oejAg1JYdBg"
   },
   "outputs": [],
   "source": [
    "strat_array = []\n",
    "target_class = 0\n",
    "for folder in os.listdir(data_path+'/train'):\n",
    "    for _ in range(len(os.listdir(data_path+'/train'+f'/{folder}'))):\n",
    "        strat_array.append(target_class)\n",
    "    target_class += 1"
   ]
  },
  {
   "cell_type": "code",
   "execution_count": 40,
   "metadata": {
    "id": "FQhdMJkkfLDf"
   },
   "outputs": [],
   "source": [
    "criterion = nn.CrossEntropyLoss()\n",
    "device = 'cpu'\n",
    "if torch.cuda.is_available():\n",
    "    device = 'cuda'"
   ]
  },
  {
   "cell_type": "markdown",
   "metadata": {
    "id": "pFXx154CkJ0B"
   },
   "source": [
    "# Начальника запускай кросc"
   ]
  },
  {
   "cell_type": "code",
   "execution_count": null,
   "metadata": {
    "id": "keSgmpHieu8z"
   },
   "outputs": [
    {
     "name": "stderr",
     "output_type": "stream",
     "text": [
      "  3%|████▌                                                                                                                                                 | 3/99 [00:27<14:23,  8.99s/it]"
     ]
    }
   ],
   "source": [
    "single_model(model = model,\n",
    "                 dataset = train_folder,\n",
    "                 loss_function = criterion,\n",
    "                 device = device)"
   ]
  },
  {
   "cell_type": "code",
   "execution_count": 42,
   "metadata": {},
   "outputs": [],
   "source": [
    "example = torch.rand((64, 11))"
   ]
  },
  {
   "cell_type": "code",
   "execution_count": 44,
   "metadata": {},
   "outputs": [
    {
     "data": {
      "text/plain": [
       "tensor([ 8,  1,  7,  9, 10,  5, 10,  4,  6,  9,  0,  8,  8,  5,  6,  9, 10,  2,\n",
       "         0,  9,  4,  3,  8,  2,  6,  8, 10,  8,  2,  7,  8,  1, 10,  7, 10,  5,\n",
       "         0, 10,  9,  1, 10,  7,  6,  5,  9,  3,  0,  7,  1,  1,  0,  9,  2,  3,\n",
       "         2,  4,  0,  7,  1,  8,  6,  7,  8,  4])"
      ]
     },
     "execution_count": 44,
     "metadata": {},
     "output_type": "execute_result"
    }
   ],
   "source": [
    "torch.argmax(example, dim = 1)"
   ]
  },
  {
   "cell_type": "code",
   "execution_count": 20,
   "metadata": {},
   "outputs": [
    {
     "data": {
      "text/plain": [
       "False"
      ]
     },
     "execution_count": 20,
     "metadata": {},
     "output_type": "execute_result"
    }
   ],
   "source": [
    "torch.cuda.is_available()"
   ]
  },
  {
   "cell_type": "code",
   "execution_count": 30,
   "metadata": {},
   "outputs": [
    {
     "name": "stdout",
     "output_type": "stream",
     "text": [
      "Collecting torch===1.7.1\n",
      "  Downloading torch-1.7.1-cp39-cp39-win_amd64.whl (184.0 MB)\n",
      "     -------------------------------------- 184.0/184.0 MB 3.7 MB/s eta 0:00:00\n",
      "Collecting numpy\n",
      "  Downloading numpy-1.23.4-cp39-cp39-win_amd64.whl (14.7 MB)\n",
      "     ---------------------------------------- 14.7/14.7 MB 5.2 MB/s eta 0:00:00\n",
      "Collecting typing-extensions\n",
      "  Downloading typing_extensions-4.4.0-py3-none-any.whl (26 kB)\n",
      "Installing collected packages: typing-extensions, numpy, torch\n",
      "  Attempting uninstall: typing-extensions\n",
      "    Found existing installation: typing_extensions 4.4.0\n",
      "    Uninstalling typing_extensions-4.4.0:\n",
      "      Successfully uninstalled typing_extensions-4.4.0\n",
      "  Attempting uninstall: numpy\n",
      "    Found existing installation: numpy 1.23.4\n",
      "    Uninstalling numpy-1.23.4:\n",
      "      Successfully uninstalled numpy-1.23.4\n"
     ]
    },
    {
     "name": "stderr",
     "output_type": "stream",
     "text": [
      "ERROR: Could not install packages due to an OSError: [WinError 5] Отказано в доступе: 'C:\\\\Users\\\\len\\\\projects\\\\venv\\\\Lib\\\\site-packages\\\\~umpy\\\\.libs\\\\libopenblas.FB5AE2TYXYH2IJRDKGDGQ3XBKLKTF43H.gfortran-win_amd64.dll'\n",
      "Check the permissions.\n",
      "\n"
     ]
    }
   ],
   "source": [
    "!pip install --no-cache-dir --force-reinstall torch===1.7.1"
   ]
  },
  {
   "cell_type": "code",
   "execution_count": 32,
   "metadata": {},
   "outputs": [
    {
     "data": {
      "text/plain": [
       "False"
      ]
     },
     "execution_count": 32,
     "metadata": {},
     "output_type": "execute_result"
    }
   ],
   "source": [
    "torch.cuda.is_available()"
   ]
  },
  {
   "cell_type": "code",
   "execution_count": 1,
   "metadata": {},
   "outputs": [
    {
     "name": "stdout",
     "output_type": "stream",
     "text": [
      "Requirement already satisfied: setuptools in c:\\users\\len\\projects\\venv\\lib\\site-packages (57.0.0)\n",
      "Collecting setuptools\n",
      "  Downloading setuptools-65.5.1-py3-none-any.whl (1.2 MB)\n",
      "     ---------------------------------------- 1.2/1.2 MB 3.7 MB/s eta 0:00:00\n",
      "Requirement already satisfied: pip in c:\\users\\len\\projects\\venv\\lib\\site-packages (22.3.1)\n",
      "Requirement already satisfied: wheel in c:\\users\\len\\projects\\venv\\lib\\site-packages (0.36.2)\n",
      "Collecting wheel\n",
      "  Downloading wheel-0.38.4-py3-none-any.whl (36 kB)\n",
      "Installing collected packages: wheel, setuptools\n",
      "  Attempting uninstall: wheel\n",
      "    Found existing installation: wheel 0.36.2\n",
      "    Uninstalling wheel-0.36.2:\n",
      "      Successfully uninstalled wheel-0.36.2\n",
      "  Attempting uninstall: setuptools\n",
      "    Found existing installation: setuptools 57.0.0\n",
      "    Uninstalling setuptools-57.0.0:\n",
      "      Successfully uninstalled setuptools-57.0.0\n",
      "Successfully installed setuptools-65.5.1 wheel-0.38.4\n"
     ]
    }
   ],
   "source": [
    "!pip install --upgrade setuptools pip wheel"
   ]
  },
  {
   "cell_type": "code",
   "execution_count": 2,
   "metadata": {},
   "outputs": [
    {
     "name": "stdout",
     "output_type": "stream",
     "text": [
      "Collecting nvidia-pyindex\n",
      "  Downloading nvidia-pyindex-1.0.9.tar.gz (10 kB)\n",
      "  Preparing metadata (setup.py): started\n",
      "  Preparing metadata (setup.py): finished with status 'done'\n",
      "Building wheels for collected packages: nvidia-pyindex\n",
      "  Building wheel for nvidia-pyindex (setup.py): started\n",
      "  Building wheel for nvidia-pyindex (setup.py): finished with status 'done'\n",
      "  Created wheel for nvidia-pyindex: filename=nvidia_pyindex-1.0.9-py3-none-any.whl size=8431 sha256=720d44fb15f6c340eddd1a09d4083abb73cd4f9b318f8e74454d6a3b2fc4fc58\n",
      "  Stored in directory: c:\\users\\len\\appdata\\local\\pip\\cache\\wheels\\0e\\62\\68\\8bb6aafc3cb47e3468055aebc10d004b55da43563d748aac9c\n",
      "Successfully built nvidia-pyindex\n",
      "Installing collected packages: nvidia-pyindex\n",
      "Successfully installed nvidia-pyindex-1.0.9\n"
     ]
    }
   ],
   "source": [
    "!pip install nvidia-pyindex"
   ]
  },
  {
   "cell_type": "code",
   "execution_count": 4,
   "metadata": {},
   "outputs": [
    {
     "name": "stdout",
     "output_type": "stream",
     "text": [
      "Looking in indexes: https://pypi.org/simple, https://pypi.ngc.nvidia.com\n",
      "Collecting nvidia-cuda-runtime-cu11\n",
      "  Downloading https://developer.download.nvidia.com/compute/redist/nvidia-cuda-runtime-cu11/nvidia-cuda-runtime-cu11-2022.4.25.tar.gz (16 kB)\n",
      "  Preparing metadata (setup.py): started\n",
      "  Preparing metadata (setup.py): finished with status 'done'\n",
      "Collecting nvidia-cuda-runtime-cu117\n",
      "  Downloading https://developer.download.nvidia.com/compute/redist/nvidia-cuda-runtime-cu117/nvidia_cuda_runtime_cu117-11.7.60-py3-none-win_amd64.whl (991 kB)\n",
      "     ------------------------------------ 991.4/991.4 kB 923.9 kB/s eta 0:00:00\n",
      "Requirement already satisfied: setuptools in c:\\users\\len\\projects\\venv\\lib\\site-packages (from nvidia-cuda-runtime-cu117->nvidia-cuda-runtime-cu11) (65.5.1)\n",
      "Requirement already satisfied: wheel in c:\\users\\len\\projects\\venv\\lib\\site-packages (from nvidia-cuda-runtime-cu117->nvidia-cuda-runtime-cu11) (0.38.4)\n",
      "Building wheels for collected packages: nvidia-cuda-runtime-cu11\n",
      "  Building wheel for nvidia-cuda-runtime-cu11 (setup.py): started\n",
      "  Building wheel for nvidia-cuda-runtime-cu11 (setup.py): finished with status 'done'\n",
      "  Created wheel for nvidia-cuda-runtime-cu11: filename=nvidia_cuda_runtime_cu11-2022.4.25-py3-none-any.whl size=15685 sha256=c32f473ffdada748d50fcf0de798dd32a18a1183a9e514da0759755a0aaf609b\n",
      "  Stored in directory: C:\\Users\\len\\AppData\\Local\\Temp\\pip-ephem-wheel-cache-6_z_bexz\\wheels\\a4\\7d\\9f\\a63debe4d85b226df3ce0742ac48b5325ad4a5d8af35be35e2\n",
      "Successfully built nvidia-cuda-runtime-cu11\n",
      "Installing collected packages: nvidia-cuda-runtime-cu117, nvidia-cuda-runtime-cu11\n",
      "Successfully installed nvidia-cuda-runtime-cu11-2022.4.25 nvidia-cuda-runtime-cu117-11.7.60\n"
     ]
    }
   ],
   "source": [
    "!pip install nvidia-cuda-runtime-cu11"
   ]
  },
  {
   "cell_type": "code",
   "execution_count": 5,
   "metadata": {},
   "outputs": [],
   "source": [
    "import torch"
   ]
  },
  {
   "cell_type": "code",
   "execution_count": 6,
   "metadata": {},
   "outputs": [
    {
     "data": {
      "text/plain": [
       "False"
      ]
     },
     "execution_count": 6,
     "metadata": {},
     "output_type": "execute_result"
    }
   ],
   "source": [
    "torch.cuda.is_available()"
   ]
  },
  {
   "cell_type": "code",
   "execution_count": null,
   "metadata": {},
   "outputs": [],
   "source": []
  }
 ],
 "metadata": {
  "celltoolbar": "Raw Cell Format",
  "colab": {
   "collapsed_sections": [
    "pOY06p6r2Ur9",
    "pFXx154CkJ0B"
   ],
   "private_outputs": true,
   "provenance": [
    {
     "file_id": "1wbmqqX2cHQrTtQRtrCtJq56MjRYHm8FG",
     "timestamp": 1667756667588
    }
   ]
  },
  "kernelspec": {
   "display_name": "Python 3 (ipykernel)",
   "language": "python",
   "name": "python3"
  },
  "language_info": {
   "codemirror_mode": {
    "name": "ipython",
    "version": 3
   },
   "file_extension": ".py",
   "mimetype": "text/x-python",
   "name": "python",
   "nbconvert_exporter": "python",
   "pygments_lexer": "ipython3",
   "version": "3.9.6"
  }
 },
 "nbformat": 4,
 "nbformat_minor": 1
}
